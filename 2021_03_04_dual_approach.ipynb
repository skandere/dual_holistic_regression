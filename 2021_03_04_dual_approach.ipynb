{
 "cells": [
  {
   "cell_type": "markdown",
   "metadata": {},
   "source": [
    "# A Dual Approach to Holistic Regression\n",
    "## March 4th, 2021"
   ]
  },
  {
   "cell_type": "code",
   "execution_count": 5,
   "metadata": {},
   "outputs": [],
   "source": [
    "using Random, Distributions\n",
    "using LinearAlgebra\n",
    "using Gurobi, JuMP\n",
    "using DataFrames\n",
    "using CSV\n",
    "using StatsBase\n",
    "using Plots\n",
    "using ProgressBars\n",
    "using Optim"
   ]
  },
  {
   "cell_type": "code",
   "execution_count": 7,
   "metadata": {},
   "outputs": [
    {
     "name": "stdout",
     "output_type": "stream",
     "text": [
      "\n",
      "--------------------------------------------\n",
      "Warning: your license will expire in 8 days\n",
      "--------------------------------------------\n",
      "\n",
      "Academic license - for non-commercial use only\n"
     ]
    }
   ],
   "source": [
    "# Create a gurobi model without the annoying academic license message\n",
    "gurobi_env = Gurobi.Env()\n",
    "function create_gurobi_model(; TimeLimit=-1, LogFile=nothing)\n",
    "    model = Model(optimizer_with_attributes(() -> Gurobi.Optimizer(gurobi_env)));\n",
    "    if TimeLimit >= 0\n",
    "        println(\"Set Gurobi TimeLimit.\")\n",
    "        set_optimizer_attribute(model, \"TimeLimit\", TimeLimit)\n",
    "    end\n",
    "    if LogFile != nothing\n",
    "        println(\"LogFile: $(LogFile).\")\n",
    "        set_optimizer_attribute(model, \"LogFile\", LogFile)\n",
    "    else\n",
    "        set_optimizer_attribute(model, \"OutputFlag\", 0)\n",
    "    end\n",
    "    set_optimizer_attribute(model, \"NumericFocus\", 3)\n",
    "    #set_optimizer_attribute(model, \"Threads\", 4)\n",
    "    return model\n",
    "end;"
   ]
  },
  {
   "cell_type": "markdown",
   "metadata": {},
   "source": [
    "____\n",
    "## 0. Utils"
   ]
  },
  {
   "cell_type": "code",
   "execution_count": 9,
   "metadata": {},
   "outputs": [
    {
     "data": {
      "text/plain": [
       "([3, 4], [1, 2, 5])"
      ]
     },
     "execution_count": 9,
     "metadata": {},
     "output_type": "execute_result"
    }
   ],
   "source": [
    "function get_support(s)\n",
    "    supp = similar(s, Int)\n",
    "    count_supp = 1\n",
    "    \n",
    "    supp_c = similar(s, Int)\n",
    "    count_supp_c = 1\n",
    "    \n",
    "    @inbounds for i in eachindex(s)\n",
    "        supp[count_supp] = i\n",
    "        supp_c[count_supp_c] = i\n",
    "        is_zero = s[i] < 0.5\n",
    "        count_supp += !is_zero\n",
    "        count_supp_c += is_zero\n",
    "    end\n",
    "    return resize!(supp, count_supp-1), resize!(supp_c, count_supp_c-1)\n",
    "end\n",
    "\n",
    "get_support([0, 0, 1, 1, 0])"
   ]
  },
  {
   "cell_type": "markdown",
   "metadata": {},
   "source": [
    "____\n",
    "## 1. Generate Synthetic Data  "
   ]
  },
  {
   "cell_type": "code",
   "execution_count": 11,
   "metadata": {},
   "outputs": [],
   "source": [
    "function generate_synthetic_data(n, p, k, NR; seed=-1)\n",
    "    \"\"\"\n",
    "        n = num. of samples\n",
    "        p = num. of features\n",
    "        k = num. of non zero coefficients\n",
    "        NR = noise ratio ~ σ_noise = NR * σ_y_true\n",
    "    \"\"\"\n",
    "    if seed > 0\n",
    "        Random.seed!(seed)\n",
    "    end\n",
    "    \n",
    "    # Generate PD matrix\n",
    "    A = randn(p, p)\n",
    "    A = A'*A\n",
    "    Σ = (A' + A)/2\n",
    "    \n",
    "    # Generate data X\n",
    "    d = MvNormal(Σ)\n",
    "    X = rand(d, n)'I\n",
    "    \n",
    "    # Split data\n",
    "    index_train = 1:floor(Int, 0.5*n)\n",
    "    index_val = floor(Int, 0.5*n)+1:floor(Int, 0.75*n)\n",
    "    index_test = floor(Int, 0.75*n)+1:n\n",
    "    \n",
    "    X_train = X[index_train,:]\n",
    "    X_val = X[index_val,:]\n",
    "    X_test = X[index_test,:]\n",
    "    \n",
    "    # Center\n",
    "    μ_train = [mean(X_train[:, j]) for j=1:p]\n",
    "    for j=1:p\n",
    "         X_train[:,j] = X_train[:,j] .- μ_train[j]\n",
    "         X_val[:,j] = X_val[:,j] .- μ_train[j]\n",
    "         X_test[:,j] = X_test[:,j] .- μ_train[j]\n",
    "    end\n",
    "    \n",
    "    # Scale\n",
    "    σ_train = [norm(X_train[:, j]) for j=1:p]\n",
    "    for j=1:p\n",
    "         X_train[:,j] = X_train[:,j]/σ_train[j]\n",
    "         X_val[:,j] = X_val[:,j] ./ σ_train[j]\n",
    "         X_test[:,j] = X_test[:,j] ./ σ_train[j]\n",
    "    end\n",
    "    \n",
    "    # Generate β\n",
    "    β = zeros(p)\n",
    "    for j=1:k\n",
    "        β[floor(Int, j*p/k)] = 1.0*rand([-1, 1])\n",
    "    end\n",
    "    \n",
    "    # Noise\n",
    "    ϵ = rand(Normal(0, std(X*β)*NR), n)\n",
    "    \n",
    "    # Target\n",
    "    y_train = X_train*β + ϵ[index_train]\n",
    "    y_val = X_val*β + ϵ[index_val]\n",
    "    y_test = X_test*β + ϵ[index_test]\n",
    "            \n",
    "    return  (X_train, y_train), (X_val, y_val), (X_test, y_test), β\n",
    "end\n",
    "\n",
    "function get_t_α(n, p, α)\n",
    "    return quantile(TDist(n-p), 1 - α/2)\n",
    "end\n",
    "\n",
    "function get_σ_X(X, y, γ)\n",
    "    n, p = size(X)\n",
    "    \n",
    "    # Estimator σ\n",
    "    M_inv = inv(I/γ + X'X)\n",
    "    σ_tilde = sqrt((y'*(I - X*M_inv*X')*y)/(n-p))\n",
    "    σ_X = σ_tilde * sqrt.(diag(M_inv))\n",
    "    \n",
    "    return σ_X\n",
    "end\n",
    "\n",
    "function get_R2(y_pred, y_true, y_train)\n",
    "    SS_res = norm(y_true .- y_pred)\n",
    "    SS_tot = norm(y_true .- mean(y_train))\n",
    "    return 1 - (SS_res/SS_tot)^2\n",
    "end\n",
    "\n",
    ";"
   ]
  },
  {
   "cell_type": "markdown",
   "metadata": {},
   "source": [
    "### /!\\ t_α is already in σ_X /!\\"
   ]
  },
  {
   "cell_type": "code",
   "execution_count": 13,
   "metadata": {},
   "outputs": [],
   "source": [
    "# Parameters\n",
    "n_train = 10000\n",
    "n = 2*n_train\n",
    "p = 500\n",
    "k = 10\n",
    "NR = 0.001\n",
    "α = 0.05\n",
    "t_α = get_t_α(n, p, α)\n",
    "γ = 1.0\n",
    "\n",
    "# Generate data\n",
    "(X_p, y), _, _, β_true = generate_synthetic_data(n, p, k, NR, seed=2021);\n",
    "σ_X_p = t_α * get_σ_X(X_p, y, γ); #t_α is already in σ_X\n",
    "\n",
    "# Compute data in p dimensions\n",
    "M_p = X_p'X_p\n",
    "b_p = X_p'y\n",
    "\n",
    "# Compute data in 2p dimensions\n",
    "M = [M_p -M_p; -M_p  M_p]\n",
    "b = [b_p; -b_p];\n",
    "σ_X = [σ_X_p; σ_X_p] ;"
   ]
  },
  {
   "cell_type": "markdown",
   "metadata": {},
   "source": [
    "## 2. Compute inner problems and gradients"
   ]
  },
  {
   "cell_type": "markdown",
   "metadata": {},
   "source": [
    "### a. Compute g_s"
   ]
  },
  {
   "cell_type": "code",
   "execution_count": 15,
   "metadata": {},
   "outputs": [],
   "source": [
    "function g_s(D_s, b_s, σ_X_s; GD=true)\n",
    "    \n",
    "    # Get length of support of s\n",
    "    l = length(b_s)\n",
    "    if l==0\n",
    "        return zeros(0), 0.0\n",
    "    end\n",
    "    \n",
    "    # Initial solution\n",
    "    λ_s0 = zeros(l) .+ 1.0\n",
    "\n",
    "    # Objective and gradient\n",
    "    function fg!(F, G, λ_s)\n",
    "        \n",
    "        μ_s = λ_s .+ b_s\n",
    "        β_s = D_s*μ_s\n",
    "        \n",
    "        if G != nothing\n",
    "            G .= β_s .- σ_X_s\n",
    "        end\n",
    "        \n",
    "        if F != nothing\n",
    "            return -λ_s'σ_X_s + 0.5*μ_s'β_s\n",
    "        end\n",
    "    end\n",
    "    \n",
    "    lower = zeros(l)\n",
    "    upper = [Inf for _ in 1:l]\n",
    "\n",
    "    res = Optim.optimize(Optim.only_fg!(fg!), lower, upper, λ_s0, \n",
    "        Fminbox(GD ? GradientDescent() : LBFGS()))\n",
    "\n",
    "    return Optim.minimizer(res), - Optim.minimum(res)\n",
    "    \n",
    "end;"
   ]
  },
  {
   "cell_type": "code",
   "execution_count": 17,
   "metadata": {},
   "outputs": [],
   "source": [
    "function g_s_gurobi(D_s, b_s, σ_X_s, model)\n",
    "    \n",
    "    # Get length of support of s\n",
    "    l = length(b_s)\n",
    "    if l==0\n",
    "        return zeros(0), 0.0\n",
    "    end\n",
    "\n",
    "    λ_s = model[:λ][1:l]\n",
    "    μ_s = λ_s .+ b_s\n",
    "    β_s = D_s*μ_s\n",
    "    \n",
    "    @objective(model, Max, λ_s'σ_X_s - 0.5*μ_s'β_s)\n",
    "    \n",
    "    optimize!(model)\n",
    "    \n",
    "    value.(λ_s), objective_value(model)\n",
    "end;"
   ]
  },
  {
   "cell_type": "code",
   "execution_count": 19,
   "metadata": {},
   "outputs": [],
   "source": [
    "function g_gurobi(supp, Z, D, b, σ_X, model)\n",
    "\n",
    "    # Create DZ once\n",
    "    DZ = D*Z\n",
    "    \n",
    "    λ = model[:λ]\n",
    "    μ = b + λ\n",
    "\n",
    "    @objective(model, Max, λ'*Z*σ_X - 0.5μ'*DZ*μ)\n",
    "    \n",
    "    optimize!(model)\n",
    "    \n",
    "    value.(λ)[supp], objective_value(model)\n",
    "end;"
   ]
  },
  {
   "cell_type": "markdown",
   "metadata": {},
   "source": [
    "### b. Compute ∇g_s"
   ]
  },
  {
   "cell_type": "code",
   "execution_count": 21,
   "metadata": {},
   "outputs": [
    {
     "data": {
      "text/plain": [
       "∇g_s (generic function with 1 method)"
      ]
     },
     "execution_count": 21,
     "metadata": {},
     "output_type": "execute_result"
    }
   ],
   "source": [
    "function ∇g_s(supp, supp_c, b, M, λ_s, D_s, σ_X_s)\n",
    "    \n",
    "    β_s = D_s*(b[supp] .+ λ_s)\n",
    "\n",
    "    grad = zeros(2p)    \n",
    "    \n",
    "    grad[supp] = λ_s .* σ_X_s - (β_s .^ 2)/(2γ)\n",
    "    grad[supp_c] = - 0.5*γ*(b[supp_c] - M[supp_c, supp]*β_s).^2\n",
    "    \n",
    "    return grad\n",
    "    \n",
    "end"
   ]
  },
  {
   "cell_type": "code",
   "execution_count": 23,
   "metadata": {},
   "outputs": [
    {
     "data": {
      "text/plain": [
       "∇g (generic function with 1 method)"
      ]
     },
     "execution_count": 23,
     "metadata": {},
     "output_type": "execute_result"
    }
   ],
   "source": [
    "function ∇g(supp, D, b, λ_s, σ_X)\n",
    "    \n",
    "    λ = zeros(2p)\n",
    "    λ[supp] = λ_s\n",
    "    \n",
    "    grad = λ .* σ_X - ((D'*(b + λ)).^ 2)/(2γ)\n",
    "\n",
    "    return grad\n",
    "    \n",
    "end"
   ]
  },
  {
   "cell_type": "markdown",
   "metadata": {},
   "source": [
    "_____\n",
    "## 3. Compare speed "
   ]
  },
  {
   "cell_type": "code",
   "execution_count": 25,
   "metadata": {},
   "outputs": [],
   "source": [
    "# Create s\n",
    "s_true = vcat(β_true .> 0, β_true .< 0) .* 1 \n",
    "supp, supp_c = get_support(s_true)\n",
    "\n",
    "# Get projected variables\n",
    "b_s = b[supp];\n",
    "σ_X_s = σ_X[supp];\n",
    "D_s = inv(I/γ + M[supp, supp]);\n",
    "\n",
    "# Create model for g_s_gurobi\n",
    "model_inner_g_s = create_gurobi_model();\n",
    "@variable(model_inner_g_s, λ[1:k] >= 0)\n",
    "\n",
    "# Create model for g_gurobi\n",
    "model_inner_g = create_gurobi_model();\n",
    "@variable(model_inner_g, λ[1:2p] >= 0);\n",
    "\n",
    "Z = Diagonal(s_true);\n",
    "D = inv(I/γ + Z*M);"
   ]
  },
  {
   "cell_type": "markdown",
   "metadata": {},
   "source": [
    "### c. Compare g_s"
   ]
  },
  {
   "cell_type": "code",
   "execution_count": 27,
   "metadata": {},
   "outputs": [
    {
     "name": "stdout",
     "output_type": "stream",
     "text": [
      "GD: -2.518213415937815\n",
      "LBFGS: -2.518213415937815\n",
      "Gurobi (g_s): -2.518213423909655\n",
      "Gurobi (g): -2.518213423909655\n"
     ]
    },
    {
     "data": {
      "text/plain": [
       "10×4 Array{Float64,2}:\n",
       " 1.12422e-20  5.18997e-24  1.56856e-9  1.56856e-9\n",
       " 5.9688e-20   8.80851e-21  1.99349e-9  1.99349e-9\n",
       " 4.70724e-20  7.56529e-25  2.31321e-9  2.31321e-9\n",
       " 4.84469e-20  2.87416e-25  2.0871e-9   2.0871e-9 \n",
       " 5.54016e-20  2.51693e-20  1.54509e-9  1.54509e-9\n",
       " 7.40073e-20  1.10237e-18  2.49854e-9  2.49854e-9\n",
       " 4.89772e-20  4.86968e-19  1.45543e-9  1.45543e-9\n",
       " 1.03933e-21  1.00852e-18  2.81061e-9  2.81061e-9\n",
       " 3.51037e-22  1.24333e-18  3.07943e-9  3.07943e-9\n",
       " 6.96499e-20  1.36221e-23  2.5306e-9   2.5306e-9 "
      ]
     },
     "execution_count": 27,
     "metadata": {},
     "output_type": "execute_result"
    }
   ],
   "source": [
    "λ_s_GD, g_s_GD = g_s(D_s, b_s, σ_X_s; GD=true)\n",
    "λ_s_LBFGS, g_s_LBFGS = g_s(D_s, b_s, σ_X_s; GD=false)\n",
    "λ_s_guro_s, g_s_guro_s = g_s_gurobi(D_s, b_s, σ_X_s, model_inner_g_s)\n",
    "λ_s_guro, g_s_guro = g_gurobi(supp, Z, D, b, σ_X, model_inner_g)\n",
    "\n",
    "# Compare objective values\n",
    "println(\"GD: \",g_s_GD)\n",
    "println(\"LBFGS: \",g_s_LBFGS)\n",
    "println(\"Gurobi (g_s): \", g_s_guro_s)\n",
    "println(\"Gurobi (g): \", g_s_guro)\n",
    "\n",
    "# Compare λ\n",
    "hcat(λ_s_GD, λ_s_LBFGS, λ_s_guro_s, λ_s_guro)"
   ]
  },
  {
   "cell_type": "code",
   "execution_count": 29,
   "metadata": {},
   "outputs": [
    {
     "name": "stdout",
     "output_type": "stream",
     "text": [
      "Compute D_s: 0.0030135059999999987\n",
      "Compute D: 7.682329111000001\n"
     ]
    }
   ],
   "source": [
    "# Computational time for D_s compared to D (given s)\n",
    "\n",
    "total_time_D_s = 0\n",
    "total_time_D = 0\n",
    "for _ in 1:100\n",
    "    \n",
    "    total_time_D_s += @elapsed begin \n",
    "        supp, supp_c = get_support(s_true)\n",
    "        b_s = b[supp];\n",
    "        σ_X_s = σ_X[supp];\n",
    "        D_s = inv(I/γ + M[supp, supp]);\n",
    "    end\n",
    "    \n",
    "    total_time_D += @elapsed begin\n",
    "        Z = Diagonal(s_true);\n",
    "        D = inv(I/γ + Z*M);\n",
    "    end\n",
    "end\n",
    "\n",
    "println(\"Compute D_s: \", total_time_D_s)\n",
    "println(\"Compute D: \", total_time_D)"
   ]
  },
  {
   "cell_type": "code",
   "execution_count": 30,
   "metadata": {},
   "outputs": [
    {
     "name": "stdout",
     "output_type": "stream",
     "text": [
      "Optim.jl + GD: 0.04399083300000001\n",
      "Optim.jl + LBFGS: 0.10428594\n",
      "Gurobi g_s (model created outside): 0.10771602600000002\n",
      "Gurobi g (model created outside): 76.20070682799998\n"
     ]
    }
   ],
   "source": [
    "# Computational time of g_s and g for given D_s or D\n",
    "\n",
    "total_time_GD = 0\n",
    "total_time_LBFGS = 0\n",
    "total_time_Gurobi_g_s = 0\n",
    "total_time_Gurobi_g = 0\n",
    "\n",
    "for _ in 1:100\n",
    "    total_time_GD += @elapsed g_s(D_s, b_s, σ_X_s; GD=true)\n",
    "    total_time_LBFGS += @elapsed g_s(D_s, b_s, σ_X_s; GD=false)\n",
    "    total_time_Gurobi_g_s += @elapsed g_s_gurobi(D_s, b_s, σ_X_s, model_inner_g_s)\n",
    "    total_time_Gurobi_g += @elapsed g_gurobi(supp, Z, D, b, σ_X, model_inner_g)\n",
    "end\n",
    "\n",
    "println(\"Optim.jl + GD: \",total_time_GD)\n",
    "println(\"Optim.jl + LBFGS: \", total_time_LBFGS)\n",
    "println(\"Gurobi g_s (model created outside): \", total_time_Gurobi_g_s)\n",
    "println(\"Gurobi g (model created outside): \", total_time_Gurobi_g)"
   ]
  },
  {
   "cell_type": "markdown",
   "metadata": {},
   "source": [
    "### d. Compare ∇g_s"
   ]
  },
  {
   "cell_type": "code",
   "execution_count": 31,
   "metadata": {},
   "outputs": [
    {
     "name": "stdout",
     "output_type": "stream",
     "text": [
      "|| ∇g_s_guro - ∇g_s_GD || =  2.0209223269900075e-9\n"
     ]
    },
    {
     "data": {
      "text/plain": [
       "5×3 Array{Float64,2}:\n",
       " -0.0286636   -0.0286636   -0.0286636 \n",
       " -0.00744848  -0.00744848  -0.00744848\n",
       " -0.0163148   -0.0163148   -0.0163148 \n",
       " -0.00435322  -0.00435322  -0.00435322\n",
       " -0.00978691  -0.00978691  -0.00978691"
      ]
     },
     "execution_count": 31,
     "metadata": {},
     "output_type": "execute_result"
    }
   ],
   "source": [
    "# Compare the gradient for different optimal lambdas\n",
    "\n",
    "∇g_s_guro = ∇g_s(supp, supp_c, b, M, λ_s_guro, D_s, σ_X_s)\n",
    "∇g_s_GD = ∇g_s(supp, supp_c, b, M, λ_s_GD, D_s, σ_X_s)\n",
    "∇g_guro = ∇g(supp, D, b, λ_s_guro, σ_X)\n",
    "\n",
    "println(\"|| ∇g_s_guro - ∇g_s_GD || =  \", norm(∇g_s_guro - ∇g_s_GD))\n",
    "hcat(∇g_s_GD, ∇g_s_guro, ∇g_guro)[1:5, :]"
   ]
  },
  {
   "cell_type": "code",
   "execution_count": 35,
   "metadata": {},
   "outputs": [
    {
     "name": "stdout",
     "output_type": "stream",
     "text": [
      "Compute ∇g_s: 0.033499707000000004\n",
      "Compute ∇g: 0.11862310499999999\n"
     ]
    }
   ],
   "source": [
    "# Computational time for D_s compared to D (given s)\n",
    "\n",
    "total_time_∇g_s = 0\n",
    "total_time_∇g = 0\n",
    "\n",
    "for _ in 1:100\n",
    "    \n",
    "    total_time_∇g_s += @elapsed begin \n",
    "        ∇g_s(supp, supp_c, b, M, λ_s_GD, D_s, σ_X_s)\n",
    "    end\n",
    "    \n",
    "    total_time_∇g += @elapsed begin\n",
    "        ∇g(supp, D, b, λ_s_GD, σ_X)\n",
    "    end\n",
    "end\n",
    "\n",
    "println(\"Compute ∇g_s: \", total_time_∇g_s)\n",
    "println(\"Compute ∇g: \", total_time_∇g)"
   ]
  },
  {
   "cell_type": "markdown",
   "metadata": {},
   "source": [
    "_____\n",
    "## 4. Compute Cutting plane algorithm"
   ]
  },
  {
   "cell_type": "code",
   "execution_count": null,
   "metadata": {},
   "outputs": [],
   "source": []
  }
 ],
 "metadata": {
  "kernelspec": {
   "display_name": "Julia 1.0.5",
   "language": "julia",
   "name": "julia-1.0"
  },
  "language_info": {
   "file_extension": ".jl",
   "mimetype": "application/julia",
   "name": "julia",
   "version": "1.0.5"
  }
 },
 "nbformat": 4,
 "nbformat_minor": 4
}
