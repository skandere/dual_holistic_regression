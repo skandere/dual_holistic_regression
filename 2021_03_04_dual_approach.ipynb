{
 "cells": [
  {
   "cell_type": "markdown",
   "metadata": {},
   "source": [
    "# A Dual Approach to Holistic Regression\n",
    "## March 4th, 2021"
   ]
  },
  {
   "cell_type": "code",
   "execution_count": 1,
   "metadata": {},
   "outputs": [],
   "source": [
    "using Random, Distributions\n",
    "using LinearAlgebra\n",
    "using Gurobi, JuMP\n",
    "using DataFrames\n",
    "using CSV\n",
    "using StatsBase\n",
    "using Plots\n",
    "using ProgressBars\n",
    "using Optim"
   ]
  },
  {
   "cell_type": "code",
   "execution_count": 2,
   "metadata": {},
   "outputs": [
    {
     "name": "stdout",
     "output_type": "stream",
     "text": [
      "\n",
      "--------------------------------------------\n",
      "Warning: your license will expire in 7 days\n",
      "--------------------------------------------\n",
      "\n",
      "Academic license - for non-commercial use only\n"
     ]
    }
   ],
   "source": [
    "gurobi_env = Gurobi.Env()\n",
    "\n",
    "function create_gurobi_model(; TimeLimit=-1, LogFile=nothing)\n",
    "    model = Model(optimizer_with_attributes(() -> Gurobi.Optimizer(gurobi_env)));\n",
    "    if TimeLimit >= 0\n",
    "        println(\"Set Gurobi TimeLimit.\")\n",
    "        set_optimizer_attribute(model, \"TimeLimit\", TimeLimit)\n",
    "    end\n",
    "    if LogFile != nothing\n",
    "        println(\"LogFile: $(LogFile).\")\n",
    "        set_optimizer_attribute(model, \"LogFile\", LogFile)\n",
    "    else\n",
    "        set_optimizer_attribute(model, \"OutputFlag\", 0)\n",
    "    end\n",
    "    set_optimizer_attribute(model, \"NumericFocus\", 3)\n",
    "    return model\n",
    "end;"
   ]
  },
  {
   "cell_type": "markdown",
   "metadata": {},
   "source": [
    "____\n",
    "## 0. Utils"
   ]
  },
  {
   "cell_type": "code",
   "execution_count": 70,
   "metadata": {},
   "outputs": [
    {
     "data": {
      "text/plain": [
       "write_to_file (generic function with 1 method)"
      ]
     },
     "execution_count": 70,
     "metadata": {},
     "output_type": "execute_result"
    }
   ],
   "source": [
    "function write_list(file_path, l)\n",
    "    if length(l) == 0\n",
    "        return\n",
    "    end\n",
    "    open(file_path, \"a+\") do io\n",
    "        write(io, \"\\n\")\n",
    "        for e in l[1:end-1]\n",
    "            try \n",
    "                e = round(e, digits=3)\n",
    "                catch error end\n",
    "            write(io, \"$(e),\")\n",
    "        end\n",
    "        e = l[end]\n",
    "        try \n",
    "            e = round(e, digits=3)\n",
    "        catch error end\n",
    "        write(io, \"$(e)\")\n",
    "    end\n",
    "    return\n",
    "end\n",
    "\n",
    "function write_to_file(file_path, str)\n",
    "    open(file_path, \"a+\") do io\n",
    "        write(io, str)\n",
    "    end\n",
    "end"
   ]
  },
  {
   "cell_type": "code",
   "execution_count": 71,
   "metadata": {},
   "outputs": [
    {
     "data": {
      "text/plain": [
       "([3, 4], [1, 2, 5])"
      ]
     },
     "execution_count": 71,
     "metadata": {},
     "output_type": "execute_result"
    }
   ],
   "source": [
    "function get_support(s)\n",
    "    supp = similar(s, Int)\n",
    "    count_supp = 1\n",
    "    \n",
    "    supp_c = similar(s, Int)\n",
    "    count_supp_c = 1\n",
    "    \n",
    "    @inbounds for i in eachindex(s)\n",
    "        supp[count_supp] = i\n",
    "        supp_c[count_supp_c] = i\n",
    "        is_zero = s[i] < 0.5\n",
    "        count_supp += !is_zero\n",
    "        count_supp_c += is_zero\n",
    "    end\n",
    "    return resize!(supp, count_supp-1), resize!(supp_c, count_supp_c-1)\n",
    "end\n",
    "\n",
    "get_support([0, 0, 1, 1, 0])"
   ]
  },
  {
   "cell_type": "markdown",
   "metadata": {},
   "source": [
    "____\n",
    "## 1. Generate Synthetic Data  "
   ]
  },
  {
   "cell_type": "code",
   "execution_count": 4,
   "metadata": {},
   "outputs": [],
   "source": [
    "function generate_synthetic_data(n, p, k, NR; seed=-1)\n",
    "    \"\"\"\n",
    "        n = num. of samples\n",
    "        p = num. of features\n",
    "        k = num. of non zero coefficients\n",
    "        NR = noise ratio ~ σ_noise = NR * σ_y_true\n",
    "    \"\"\"\n",
    "    if seed >= 0\n",
    "        Random.seed!(seed)\n",
    "    end\n",
    "    \n",
    "    # Generate PD matrix\n",
    "    A = randn(p, p)\n",
    "    A = A'*A\n",
    "    Σ = (A' + A)/2\n",
    "    \n",
    "    # Generate data X\n",
    "    d = MvNormal(Σ)\n",
    "    X = rand(d, n)'I\n",
    "    \n",
    "    # Split data\n",
    "    index_train = 1:floor(Int, 0.5*n)\n",
    "    index_val = floor(Int, 0.5*n)+1:floor(Int, 0.75*n)\n",
    "    index_test = floor(Int, 0.75*n)+1:n\n",
    "    \n",
    "    X_train = X[index_train,:]\n",
    "    X_val = X[index_val,:]\n",
    "    X_test = X[index_test,:]\n",
    "    \n",
    "    # Center\n",
    "    μ_train = [mean(X_train[:, j]) for j=1:p]\n",
    "    for j=1:p\n",
    "         X_train[:,j] = X_train[:,j] .- μ_train[j]\n",
    "         X_val[:,j] = X_val[:,j] .- μ_train[j]\n",
    "         X_test[:,j] = X_test[:,j] .- μ_train[j]\n",
    "    end\n",
    "    \n",
    "    # Scale\n",
    "    σ_train = [norm(X_train[:, j]) for j=1:p]\n",
    "    for j=1:p\n",
    "         X_train[:,j] = X_train[:,j]/σ_train[j]\n",
    "         X_val[:,j] = X_val[:,j] ./ σ_train[j]\n",
    "         X_test[:,j] = X_test[:,j] ./ σ_train[j]\n",
    "    end\n",
    "    \n",
    "    # Generate β\n",
    "    β = zeros(p)\n",
    "    for j=1:k\n",
    "        β[floor(Int, j*p/k)] = 1.0*rand([-1, 1])\n",
    "    end\n",
    "    \n",
    "    # Noise\n",
    "    ϵ = rand(Normal(0, std(X*β)*NR), n)\n",
    "    \n",
    "    # Target\n",
    "    y_train = X_train*β + ϵ[index_train]\n",
    "    y_val = X_val*β + ϵ[index_val]\n",
    "    y_test = X_test*β + ϵ[index_test]\n",
    "            \n",
    "    return  (X_train, y_train), (X_val, y_val), (X_test, y_test), β\n",
    "end\n",
    "\n",
    "function get_t_α(n, p, α)\n",
    "    return quantile(TDist(n-p), 1 - α/2)\n",
    "end\n",
    "\n",
    "function get_σ_X(X, y, γ)\n",
    "    n, p = size(X)\n",
    "    \n",
    "    # Estimator σ\n",
    "    M_inv = inv(I/γ + X'X)\n",
    "    σ_tilde = sqrt((y'*(I - X*M_inv*X')*y)/(n-p))\n",
    "    σ_X = σ_tilde * sqrt.(diag(M_inv))\n",
    "    \n",
    "    return σ_X\n",
    "end\n",
    "\n",
    "function get_R2(y_pred, y_true, y_train)\n",
    "    SS_res = norm(y_true .- y_pred)\n",
    "    SS_tot = norm(y_true .- mean(y_train))\n",
    "    return 1 - (SS_res/SS_tot)^2\n",
    "end\n",
    "\n",
    ";"
   ]
  },
  {
   "cell_type": "markdown",
   "metadata": {},
   "source": [
    "## 2. Compute inner problems and gradients"
   ]
  },
  {
   "cell_type": "markdown",
   "metadata": {},
   "source": [
    "### a. Compute g_s"
   ]
  },
  {
   "cell_type": "code",
   "execution_count": 5,
   "metadata": {},
   "outputs": [],
   "source": [
    "function g_s(D_s, b_s, σ_X_s; GD=true)\n",
    "    \n",
    "    # Get length of support of s\n",
    "    l = length(b_s)\n",
    "    if l==0\n",
    "        return zeros(0), 0.0\n",
    "    end\n",
    "    \n",
    "    # Initial solution\n",
    "    λ_s0 = zeros(l) .+ 1.0\n",
    "\n",
    "    # Objective and gradient\n",
    "    function fg!(F, G, λ_s)\n",
    "        \n",
    "        μ_s = λ_s .+ b_s\n",
    "        β_s = D_s*μ_s\n",
    "        \n",
    "        if G != nothing\n",
    "            G .= β_s .- σ_X_s\n",
    "        end\n",
    "        \n",
    "        if F != nothing\n",
    "            return -λ_s'σ_X_s + 0.5*μ_s'β_s\n",
    "        end\n",
    "    end\n",
    "    \n",
    "    lower = zeros(l)\n",
    "    upper = [Inf for _ in 1:l]\n",
    "\n",
    "    res = Optim.optimize(Optim.only_fg!(fg!), lower, upper, λ_s0, \n",
    "        Fminbox(GD ? GradientDescent() : LBFGS()))\n",
    "\n",
    "    return Optim.minimizer(res), - Optim.minimum(res)\n",
    "    \n",
    "end;"
   ]
  },
  {
   "cell_type": "code",
   "execution_count": 6,
   "metadata": {},
   "outputs": [],
   "source": [
    "function g_s_gurobi(D_s, b_s, σ_X_s, model)\n",
    "    \n",
    "    # Get length of support of s\n",
    "    l = length(b_s)\n",
    "    if l==0\n",
    "        return zeros(0), 0.0\n",
    "    end\n",
    "\n",
    "    λ_s = model[:λ][1:l]\n",
    "    μ_s = λ_s .+ b_s\n",
    "    β_s = D_s*μ_s\n",
    "    \n",
    "    @objective(model, Max, λ_s'σ_X_s - 0.5*μ_s'β_s)\n",
    "    \n",
    "    optimize!(model)\n",
    "    \n",
    "    value.(λ_s), objective_value(model)\n",
    "end;"
   ]
  },
  {
   "cell_type": "code",
   "execution_count": 7,
   "metadata": {},
   "outputs": [],
   "source": [
    "function g_gurobi(supp, Z, D, b, σ_X, model)\n",
    "\n",
    "    # Create DZ once\n",
    "    DZ = D*Z\n",
    "    \n",
    "    λ = model[:λ]\n",
    "    μ = b + λ\n",
    "\n",
    "    @objective(model, Max, λ'*Z*σ_X - 0.5μ'*DZ*μ)\n",
    "    \n",
    "    optimize!(model)\n",
    "    \n",
    "    value.(λ)[supp], objective_value(model)\n",
    "end;"
   ]
  },
  {
   "cell_type": "markdown",
   "metadata": {},
   "source": [
    "### b. Compute ∇g_s"
   ]
  },
  {
   "cell_type": "code",
   "execution_count": 8,
   "metadata": {},
   "outputs": [
    {
     "data": {
      "text/plain": [
       "∇g_s (generic function with 1 method)"
      ]
     },
     "execution_count": 8,
     "metadata": {},
     "output_type": "execute_result"
    }
   ],
   "source": [
    "function ∇g_s(supp, supp_c, b, M, λ_s, D_s, σ_X_s)\n",
    "    \n",
    "    β_s = D_s*(b[supp] .+ λ_s)\n",
    "  \n",
    "    grad = zeros(length(b))\n",
    "    grad[supp] = λ_s .* σ_X_s - (β_s .^ 2)/(2γ)\n",
    "    grad[supp_c] = - 0.5*γ*(b[supp_c] - M[supp_c, supp]*β_s).^2\n",
    "    \n",
    "    return grad\n",
    "    \n",
    "end"
   ]
  },
  {
   "cell_type": "code",
   "execution_count": 9,
   "metadata": {},
   "outputs": [
    {
     "data": {
      "text/plain": [
       "∇g (generic function with 1 method)"
      ]
     },
     "execution_count": 9,
     "metadata": {},
     "output_type": "execute_result"
    }
   ],
   "source": [
    "function ∇g(supp, D, b, λ_s, σ_X)\n",
    "    \n",
    "    λ = zeros(length(b))\n",
    "    λ[supp] = λ_s\n",
    "    \n",
    "    grad = λ .* σ_X - ((D'*(b + λ)).^ 2)/(2γ)\n",
    "\n",
    "    return grad\n",
    "    \n",
    "end"
   ]
  },
  {
   "cell_type": "markdown",
   "metadata": {},
   "source": [
    "_____\n",
    "## 3. Compare speed "
   ]
  },
  {
   "cell_type": "markdown",
   "metadata": {},
   "source": [
    "### /!\\ t_α is already in σ_X /!\\"
   ]
  },
  {
   "cell_type": "code",
   "execution_count": 10,
   "metadata": {},
   "outputs": [],
   "source": [
    "# Parameters\n",
    "n_train = 10000\n",
    "n = 2*n_train\n",
    "p = 100\n",
    "k = 10\n",
    "NR = 0.001\n",
    "α = 0.05\n",
    "t_α = get_t_α(n, p, α)\n",
    "γ = 1.0\n",
    "\n",
    "# Generate data\n",
    "(X_p, y), _, _, β_true = generate_synthetic_data(n, p, k, NR, seed=42);\n",
    "σ_X_p = t_α * get_σ_X(X_p, y, γ); #t_α is already in σ_X\n",
    "\n",
    "# Compute data in p dimensions\n",
    "M_p = X_p'X_p\n",
    "b_p = X_p'y\n",
    "\n",
    "# Compute data in 2p dimensions\n",
    "M = [M_p -M_p; -M_p  M_p]\n",
    "b = [b_p; -b_p];\n",
    "σ_X = [σ_X_p; σ_X_p] ;"
   ]
  },
  {
   "cell_type": "code",
   "execution_count": 11,
   "metadata": {},
   "outputs": [],
   "source": [
    "# Create s\n",
    "s_true = vcat(β_true .> 0, β_true .< 0) .* 1 \n",
    "supp, supp_c = get_support(s_true)\n",
    "\n",
    "# Get projected variables\n",
    "b_s = b[supp];\n",
    "σ_X_s = σ_X[supp];\n",
    "D_s = inv(I/γ + M[supp, supp]);\n",
    "\n",
    "# Create model for g_s_gurobi\n",
    "model_inner_g_s = create_gurobi_model();\n",
    "@variable(model_inner_g_s, λ[1:k] >= 0)\n",
    "\n",
    "# Create model for g_gurobi\n",
    "model_inner_g = create_gurobi_model();\n",
    "@variable(model_inner_g, λ[1:2p] >= 0);\n",
    "\n",
    "Z = Diagonal(s_true);\n",
    "D = inv(I/γ + Z*M);"
   ]
  },
  {
   "cell_type": "markdown",
   "metadata": {},
   "source": [
    "### Compare g_s"
   ]
  },
  {
   "cell_type": "code",
   "execution_count": 12,
   "metadata": {},
   "outputs": [
    {
     "name": "stdout",
     "output_type": "stream",
     "text": [
      "GD: -2.3206033744370003\n",
      "LBFGS: -2.3206033744370003\n",
      "Gurobi (g_s): -2.320603381830274\n",
      "Gurobi (g): -2.320603381830274\n"
     ]
    },
    {
     "data": {
      "text/plain": [
       "10×4 Array{Float64,2}:\n",
       " 1.95201e-21  1.95788e-21  1.30085e-9   1.30085e-9 \n",
       " 2.59568e-21  2.6034e-21   2.28347e-9   2.28347e-9 \n",
       " 1.99153e-21  1.99752e-21  1.37628e-9   1.37628e-9 \n",
       " 2.43976e-21  2.44704e-21  2.06563e-9   2.06563e-9 \n",
       " 2.44601e-21  2.45331e-21  2.0521e-9    2.0521e-9  \n",
       " 2.51394e-21  2.52144e-21  2.17646e-9   2.17646e-9 \n",
       " 2.38831e-21  2.39544e-21  1.99519e-9   1.99519e-9 \n",
       " 2.38522e-21  2.39234e-21  1.95746e-9   1.95746e-9 \n",
       " 2.25862e-21  2.26539e-21  1.76581e-9   1.76581e-9 \n",
       " 1.70973e-21  1.71487e-21  9.54728e-10  9.54728e-10"
      ]
     },
     "execution_count": 12,
     "metadata": {},
     "output_type": "execute_result"
    }
   ],
   "source": [
    "λ_s_GD, g_s_GD = g_s(D_s, b_s, σ_X_s; GD=true)\n",
    "λ_s_LBFGS, g_s_LBFGS = g_s(D_s, b_s, σ_X_s; GD=false)\n",
    "λ_s_guro_s, g_s_guro_s = g_s_gurobi(D_s, b_s, σ_X_s, model_inner_g_s)\n",
    "λ_s_guro, g_s_guro = g_gurobi(supp, Z, D, b, σ_X, model_inner_g)\n",
    "\n",
    "# Compare objective values\n",
    "println(\"GD: \",g_s_GD)\n",
    "println(\"LBFGS: \",g_s_LBFGS)\n",
    "println(\"Gurobi (g_s): \", g_s_guro_s)\n",
    "println(\"Gurobi (g): \", g_s_guro)\n",
    "\n",
    "# Compare λ\n",
    "hcat(λ_s_GD, λ_s_LBFGS, λ_s_guro_s, λ_s_guro)"
   ]
  },
  {
   "cell_type": "code",
   "execution_count": 13,
   "metadata": {},
   "outputs": [
    {
     "name": "stdout",
     "output_type": "stream",
     "text": [
      "Compute D_s: 0.019539329000000022\n",
      "Compute D: 2.4000577459999977\n"
     ]
    }
   ],
   "source": [
    "# Computational time for D_s compared to D (given s)\n",
    "\n",
    "total_time_D_s = 0\n",
    "total_time_D = 0\n",
    "for _ in 1:1000\n",
    "    \n",
    "    total_time_D_s += @elapsed begin \n",
    "        supp, supp_c = get_support(s_true)\n",
    "        b_s = b[supp];\n",
    "        σ_X_s = σ_X[supp];\n",
    "        D_s = inv(I/γ + M[supp, supp]);\n",
    "    end\n",
    "    \n",
    "    total_time_D += @elapsed begin\n",
    "        Z = Diagonal(s_true);\n",
    "        D = inv(I/γ + Z*M);\n",
    "    end\n",
    "end\n",
    "\n",
    "println(\"Compute D_s: \", total_time_D_s)\n",
    "println(\"Compute D: \", total_time_D)"
   ]
  },
  {
   "cell_type": "code",
   "execution_count": 14,
   "metadata": {
    "scrolled": true
   },
   "outputs": [
    {
     "name": "stdout",
     "output_type": "stream",
     "text": [
      "Optim.jl + GD: 0.4202910600000003\n",
      "Optim.jl + LBFGS: 0.7197528050000007\n",
      "Gurobi g_s (model created outside): 1.127380273999999\n",
      "Gurobi g (model created outside): 34.22509962799998\n"
     ]
    }
   ],
   "source": [
    "# Computational time of g_s and g for given D_s or D\n",
    "\n",
    "total_time_GD = 0\n",
    "total_time_LBFGS = 0\n",
    "total_time_Gurobi_g_s = 0\n",
    "total_time_Gurobi_g = 0\n",
    "\n",
    "for _ in 1:1000\n",
    "    total_time_GD += @elapsed g_s(D_s, b_s, σ_X_s; GD=true)\n",
    "    total_time_LBFGS += @elapsed g_s(D_s, b_s, σ_X_s; GD=false)\n",
    "    total_time_Gurobi_g_s += @elapsed g_s_gurobi(D_s, b_s, σ_X_s, model_inner_g_s)\n",
    "    total_time_Gurobi_g += @elapsed g_gurobi(supp, Z, D, b, σ_X, model_inner_g)\n",
    "end\n",
    "\n",
    "println(\"Optim.jl + GD: \",total_time_GD)\n",
    "println(\"Optim.jl + LBFGS: \", total_time_LBFGS)\n",
    "println(\"Gurobi g_s (model created outside): \", total_time_Gurobi_g_s)\n",
    "println(\"Gurobi g (model created outside): \", total_time_Gurobi_g)"
   ]
  },
  {
   "cell_type": "markdown",
   "metadata": {},
   "source": [
    "### Compare ∇g_s"
   ]
  },
  {
   "cell_type": "code",
   "execution_count": 15,
   "metadata": {
    "scrolled": true
   },
   "outputs": [
    {
     "name": "stdout",
     "output_type": "stream",
     "text": [
      "|| ∇g_s_guro - ∇g_s_GD || =  1.99051676927861e-9\n",
      "|| ∇g_s_guro - ∇g_guro || =  2.969085093041426e-16\n"
     ]
    },
    {
     "data": {
      "text/plain": [
       "10×3 Array{Float64,2}:\n",
       " -0.00769123   -0.00769123   -0.00769123 \n",
       " -0.00558403   -0.00558403   -0.00558403 \n",
       " -0.000134192  -0.000134192  -0.000134192\n",
       " -0.00622613   -0.00622613   -0.00622613 \n",
       " -0.000325473  -0.000325473  -0.000325473\n",
       " -0.00778968   -0.00778968   -0.00778968 \n",
       " -0.000177199  -0.000177199  -0.000177199\n",
       " -0.000152214  -0.000152214  -0.000152214\n",
       " -0.000558218  -0.000558218  -0.000558218\n",
       " -0.146553     -0.146553     -0.146553   "
      ]
     },
     "execution_count": 15,
     "metadata": {},
     "output_type": "execute_result"
    }
   ],
   "source": [
    "# Compare the gradient for different optimal lambdas\n",
    "\n",
    "∇g_s_guro = ∇g_s(supp, supp_c, b, M, λ_s_guro, D_s, σ_X_s)\n",
    "∇g_s_GD = ∇g_s(supp, supp_c, b, M, λ_s_GD, D_s, σ_X_s)\n",
    "∇g_guro = ∇g(supp, D, b, λ_s_guro, σ_X)\n",
    "\n",
    "println(\"|| ∇g_s_guro - ∇g_s_GD || =  \", norm(∇g_s_guro - ∇g_s_GD))\n",
    "println(\"|| ∇g_s_guro - ∇g_guro || =  \", norm(∇g_s_guro - ∇g_guro))\n",
    "hcat(∇g_s_GD, ∇g_s_guro, ∇g_guro)[1:10, :]"
   ]
  },
  {
   "cell_type": "code",
   "execution_count": 18,
   "metadata": {
    "scrolled": true
   },
   "outputs": [
    {
     "name": "stdout",
     "output_type": "stream",
     "text": [
      "Compute ∇g_s: 0.02166596299999999\n",
      "Compute ∇g: 0.010549560000000006\n"
     ]
    }
   ],
   "source": [
    "# Computational time for D_s compared to D (given s)\n",
    "\n",
    "total_time_∇g_s = 0\n",
    "total_time_∇g = 0\n",
    "\n",
    "for _ in 1:1000\n",
    "    \n",
    "    total_time_∇g_s += @elapsed begin \n",
    "        ∇g_s(supp, supp_c, b, M, λ_s_GD, D_s, σ_X_s)\n",
    "    end\n",
    "    \n",
    "    total_time_∇g += @elapsed begin\n",
    "        ∇g(supp, D, b, λ_s_GD, σ_X)\n",
    "    end\n",
    "end\n",
    "\n",
    "println(\"Compute ∇g_s: \", total_time_∇g_s)\n",
    "println(\"Compute ∇g: \", total_time_∇g)"
   ]
  },
  {
   "cell_type": "markdown",
   "metadata": {},
   "source": [
    "_____\n",
    "## 4. Compute Cutting plane algorithm"
   ]
  },
  {
   "cell_type": "code",
   "execution_count": 43,
   "metadata": {},
   "outputs": [
    {
     "data": {
      "text/plain": [
       "compute_primal (generic function with 1 method)"
      ]
     },
     "execution_count": 43,
     "metadata": {},
     "output_type": "execute_result"
    }
   ],
   "source": [
    "function compute_primal(X, y, k, γ, σ_X; TimeLimit=-1, LogFile=nothing)\n",
    "    \n",
    "    n, p = size(X)\n",
    "    \n",
    "    model = create_gurobi_model(;LogFile=LogFile, TimeLimit=TimeLimit)\n",
    "\n",
    "    # TODO: change big-M values\n",
    "    M1 = 1000\n",
    "    M2 = 1000\n",
    "\n",
    "    @variable(model, β[i=1:p])\n",
    "    @variable(model, s[i=1:p], Bin)\n",
    "    @variable(model, b[i=1:p], Bin)\n",
    "\n",
    "    @constraint(model, sum(s) <= k)\n",
    "    \n",
    "    @constraint(model, [i=1:p], β[i] <= M1*s[i])\n",
    "    @constraint(model, [i=1:p], β[i] >= -M1*s[i])\n",
    "\n",
    "    @constraint(model, [i=1:p], β[i]/σ_X[i] + M2*b[i] >= s[i])\n",
    "    @constraint(model, [i=1:p], -β[i]/σ_X[i] + M2*(1-b[i]) >= s[i])\n",
    "\n",
    "    @objective(model, Min, 0.5*sum((y - X*β).^2) + (0.5/γ)*sum((β).^2))\n",
    "        \n",
    "    JuMP.optimize!(model)\n",
    "    \n",
    "    return objective_value(model), value.(β)\n",
    "end"
   ]
  },
  {
   "cell_type": "code",
   "execution_count": 44,
   "metadata": {},
   "outputs": [
    {
     "data": {
      "text/plain": [
       "compute_warm_start_primal (generic function with 1 method)"
      ]
     },
     "execution_count": 44,
     "metadata": {},
     "output_type": "execute_result"
    }
   ],
   "source": [
    "function compute_warm_start_primal(X, y, k, γ, σ_X, time_limit; LogFile=nothing)\n",
    "    \n",
    "    n, p = size(X)\n",
    "    \n",
    "    model = create_gurobi_model(;TimeLimit=time_limit, LogFile=LogFile)\n",
    "\n",
    "    # TODO: change big-M values\n",
    "    M1 = 1000\n",
    "    M2 = 1000\n",
    "\n",
    "    @variable(model, β[i=1:p])\n",
    "    @variable(model, s[i=1:p], Bin)\n",
    "    @variable(model, b[i=1:p], Bin)\n",
    "\n",
    "    @constraint(model, sum(s) <= k)\n",
    "    \n",
    "    @constraint(model, [i=1:p], β[i] <= M1*s[i])\n",
    "    @constraint(model, [i=1:p], β[i] >= -M1*s[i])\n",
    "\n",
    "    @constraint(model, [i=1:p], β[i]/σ_X[i] + M2*b[i] >= s[i])\n",
    "    @constraint(model, [i=1:p], -β[i]/σ_X[i] + M2*(1-b[i]) >= s[i])\n",
    "\n",
    "    @objective(model, Min, 0.5*sum((y[i] - X[i,:]'β)^2 for i=1:n) + (0.5/γ)* sum(β[j]^2 for j=1:p))\n",
    "    JuMP.optimize!(model)\n",
    "    \n",
    "    s_val = Int.(value.(s))\n",
    "    b_val = Int.(value.(b))\n",
    "    \n",
    "    return vcat(s_val .* (b_val .== 0), s_val .* (b_val .== 1))\n",
    "end"
   ]
  },
  {
   "cell_type": "code",
   "execution_count": 45,
   "metadata": {},
   "outputs": [
    {
     "data": {
      "text/plain": [
       "compute_dual (generic function with 1 method)"
      ]
     },
     "execution_count": 45,
     "metadata": {},
     "output_type": "execute_result"
    }
   ],
   "source": [
    "function compute_dual(X_p, y, k, γ, σ_X_p; LogFile=nothing, WarmStart=nothing, TimeLimit=-1)\n",
    "    \"\"\"\n",
    "    WarmStart ∈ {  nothing, :RidgeStart, :PrimalStart }\n",
    "    \"\"\"\n",
    "    \n",
    "    # Get dimensions\n",
    "    n, p = size(X_p)\n",
    "    \n",
    "    # Constant\n",
    "    C = 0.5*y'y #TODO: add it in the objecive in the end\n",
    " \n",
    "    # Compute data in p dimensions\n",
    "    M_p = X_p'X_p\n",
    "    b_p = X_p'y\n",
    "\n",
    "    # Compute data in 2p dimensions\n",
    "    M = [M_p -M_p; -M_p  M_p]\n",
    "    b = [b_p; -b_p];\n",
    "    σ_X = [σ_X_p; σ_X_p] ;\n",
    "    \n",
    "    # Outer problem\n",
    "    miop = create_gurobi_model(;LogFile=LogFile, TimeLimit=TimeLimit)\n",
    "    @variable(miop, s[1:2p], Bin)\n",
    "    @variable(miop, t >= -C)\n",
    "    @constraint(miop, sum(s) <= k)\n",
    "    @constraint(miop, [i=1:p], s[i]+s[p+i]<=1)\n",
    "    \n",
    "    # Initial solution\n",
    "    s0 = zeros(2p) #TODO: change this\n",
    "    \n",
    "    # a. First k values\n",
    "    s0[1:k] .= 1\n",
    "    \n",
    "    # b. Ridge regression\n",
    "    if (WarmStart == :RidgeStart)\n",
    "        println(\"Ridge Warm Start.\")\n",
    "        β_ridge = inv(I/γ + M_p)*b_p\n",
    "        s0[findall(x -> x>0, β_ridge)] .= 1.0\n",
    "        s0[findall(x -> x<0, β_ridge) .+ p] .= 1.0\n",
    "    end\n",
    "    \n",
    "    # c. Primal solution + Time limit\n",
    "    if (WarmStart == :PrimalStart)\n",
    "        println(\"Primal Warm Start.\")\n",
    "        s0 = compute_warm_start_primal(X_p, y, k, γ, σ_X, 20; LogFile=LogFile)\n",
    "    end\n",
    "\n",
    "    # Initial cut\n",
    "    supp, supp_c = get_support(s0)\n",
    "    \n",
    "    D_s, b_s, σ_X_s = inv(I/γ + M[supp, supp]), b[supp], σ_X[supp]\n",
    "    \n",
    "    λ_s0, g_s0 = g_s(D_s, b_s, σ_X_s; GD=true)\n",
    "    ∇g_s0 = ∇g_s(supp, supp_c, b, M, λ_s0, D_s, σ_X_s)\n",
    "    \n",
    "    @constraint(miop, t >= g_s0 + dot(∇g_s0, s - s0))\n",
    "    @objective(miop, Min, t + C)\n",
    "    \n",
    "    # Cutting planes    \n",
    "    function outer_approximation(cb_data)\n",
    "        \n",
    "        s_val = [callback_value(cb_data, s[i]) for i=1:2p]\n",
    "        \n",
    "        supp, supp_c = get_support(s_val)\n",
    "\n",
    "        D_s, b_s, σ_X_s = inv(I/γ + M[supp, supp]), b[supp], σ_X[supp]\n",
    "\n",
    "        λ_s_val, g_s_val = g_s(D_s, b_s, σ_X_s; GD=true)\n",
    "        ∇g_s_val = ∇g_s(supp, supp_c, b, M, λ_s_val, D_s, σ_X_s)\n",
    "        \n",
    "        con = @build_constraint(t >= g_s_val + dot(∇g_s_val, s - s_val))\n",
    "        MOI.submit(miop, MOI.LazyConstraint(cb_data), con)\n",
    "        \n",
    "    end\n",
    "    \n",
    "    MOI.set(miop, MOI.LazyConstraintCallback(), outer_approximation)\n",
    "    JuMP.optimize!(miop)\n",
    "    \n",
    "    \n",
    "    s_opt = JuMP.value.(miop[:s])\n",
    "    supp, supp_c = get_support(s_opt)\n",
    "    \n",
    "    D_s, b_s, σ_X_s = inv(I/γ + M[supp, supp]), b[supp], σ_X[supp]\n",
    "    \n",
    "    λ_s_opt, g_s_opt = g_s(D_s, b_s, σ_X_s; GD=true)\n",
    "    \n",
    "    β = zeros(2p)\n",
    "    β[supp] = D_s*(λ_s_opt + b_s)\n",
    "    \n",
    "\n",
    "    return objective_value(miop), β[1:p] - β[p+1:end]\n",
    "end"
   ]
  },
  {
   "cell_type": "code",
   "execution_count": 33,
   "metadata": {},
   "outputs": [
    {
     "name": "stdout",
     "output_type": "stream",
     "text": [
      "LogFile: nouveau_debug.txt.\n",
      "Gurobi Optimizer version 9.0.3 build v9.0.3rc0 (mac64)\n",
      "Optimize a model with 401 rows, 300 columns and 1100 nonzeros\n",
      "Model fingerprint: 0x9f08118d\n",
      "Model has 5050 quadratic objective terms\n",
      "Variable types: 100 continuous, 200 integer (200 binary)\n",
      "Coefficient statistics:\n",
      "  Matrix range     [1e+00, 1e+03]\n",
      "  Objective range  [1e-02, 1e+00]\n",
      "  QObjective range [5e-06, 2e+00]\n",
      "  Bounds range     [0e+00, 0e+00]\n",
      "  RHS range        [1e+01, 1e+03]\n",
      "Found heuristic solution: objective 9.3237205\n",
      "Presolve time: 0.01s\n",
      "Presolved: 401 rows, 300 columns, 1100 nonzeros\n",
      "Presolved model has 5050 quadratic objective terms\n",
      "Variable types: 100 continuous, 200 integer (200 binary)\n",
      "\n",
      "Root relaxation: objective 6.418095e+00, 586 iterations, 0.04 seconds\n",
      "\n",
      "    Nodes    |    Current Node    |     Objective Bounds      |     Work\n",
      " Expl Unexpl |  Obj  Depth IntInf | Incumbent    BestBd   Gap | It/Node Time\n",
      "\n",
      "     0     0    6.41809    0  154    9.32372    6.41809  31.2%     -    0s\n",
      "H    0     0                       8.6539846    6.41809  25.8%     -    0s\n",
      "H    0     0                       8.1258213    6.41809  21.0%     -    0s\n",
      "H    0     0                       8.1080931    6.41809  20.8%     -    0s\n",
      "H    0     0                       7.9386949    6.41809  19.2%     -    0s\n",
      "H    0     0                       7.0031171    6.41809  8.35%     -    0s\n",
      "     0     2    6.41809    0  154    7.00312    6.41809  8.35%     -    0s\n",
      "  3632  1419     cutoff   35         7.00312    6.50249  7.15%   7.8    5s\n",
      "  7260  3399    6.82962   33  125    7.00312    6.55047  6.46%   7.8   10s\n",
      " 13826  5719    6.82519   27  136    7.00312    6.63812  5.21%   7.9   15s\n",
      " 20608  8369     cutoff   31         7.00312    6.68639  4.52%   7.8   20s\n",
      " 25746 10137    6.82688   23  138    7.00312    6.71303  4.14%   7.8   25s\n",
      " 30475 11693    6.81428   25  138    7.00312    6.73244  3.87%   7.7   30s\n",
      " 34234 12765    6.96355   32  121    7.00312    6.74292  3.72%   7.6   35s\n",
      " 38869 14115    6.96711   31  127    7.00312    6.75673  3.52%   7.6   40s\n",
      " 43473 15335     cutoff   30         7.00312    6.76999  3.33%   7.5   45s\n",
      " 49397 16671     cutoff   37         7.00312    6.78447  3.12%   7.4   50s\n",
      " 56519 18112    6.89341   29  133    7.00312    6.79957  2.91%   7.4   55s\n",
      " 62596 19207     cutoff   29         7.00312    6.80936  2.77%   7.3   60s\n",
      " 68316 20123    6.99812   31  129    7.00312    6.81783  2.65%   7.3   65s\n",
      " 75722 21161     cutoff   35         7.00312    6.82820  2.50%   7.2   70s\n",
      " 82971 21991    6.91153   27  136    7.00312    6.83707  2.37%   7.1   75s\n",
      " 90372 22567    6.90847   28  135    7.00312    6.84650  2.24%   7.1   80s\n",
      " 97163 22922    6.92082   30  132    7.00312    6.85385  2.13%   7.0   85s\n",
      " 102599 23177    6.89449   26  137    7.00312    6.85931  2.05%   7.0   90s\n",
      " 106529 23331    6.89848   26  139    7.00312    6.86321  2.00%   7.0   95s\n",
      " 110404 23445    6.90581   36  124    7.00312    6.86686  1.95%   7.0  100s\n",
      " 115538 23409    6.95100   29  131    7.00312    6.87163  1.88%   6.9  105s\n",
      " 120137 23324    6.87641   27  132    7.00312    6.87593  1.82%   6.9  110s\n",
      " 125474 23216    6.94859   30  133    7.00312    6.88047  1.75%   6.9  115s\n",
      " 132909 22887    6.88694   31  127    7.00312    6.88638  1.67%   6.8  120s\n",
      " 140507 22588    6.89254   25  139    7.00312    6.89208  1.59%   6.8  125s\n",
      " 146134 22216     cutoff   34         7.00312    6.89577  1.53%   6.8  130s\n",
      " 150087 21866    6.99318   26  134    7.00312    6.89872  1.49%   6.7  135s\n",
      " 155807 21356     cutoff   27         7.00312    6.90285  1.43%   6.7  140s\n",
      " 159923 20920    6.90566   29  134    7.00312    6.90556  1.39%   6.7  145s\n",
      " 166327 20194    6.98935   34  120    7.00312    6.90973  1.33%   6.7  150s\n",
      " 171671 19458    6.97760   32  127    7.00312    6.91313  1.29%   6.6  155s\n",
      " 176416 18750    6.96187   28  132    7.00312    6.91640  1.24%   6.6  160s\n",
      " 181716 17888    6.99084   38  112    7.00312    6.91977  1.19%   6.6  165s\n",
      " 189557 16472    6.92506   28  136    7.00312    6.92487  1.12%   6.6  170s\n",
      " 194291 15666    6.92754   25  145    7.00312    6.92754  1.08%   6.5  175s\n",
      " 202414 13912    6.97692   29  133    7.00312    6.93293  1.00%   6.5  180s\n",
      " 209774 12458    6.98017   31  128    7.00312    6.93736  0.94%   6.5  185s\n",
      " 217882 10769    6.97131   27  135    7.00312    6.94237  0.87%   6.4  190s\n",
      " 225140  9188    6.98462   30  132    7.00312    6.94691  0.80%   6.4  195s\n",
      " 233012  7463    6.99717   27  137    7.00312    6.95254  0.72%   6.4  200s\n",
      " 239429  6142    6.95772   30  130    7.00312    6.95726  0.65%   6.4  205s\n",
      " 247290  4618     cutoff   42         7.00312    6.96441  0.55%   6.3  210s\n",
      " 254934  3072     cutoff   40         7.00312    6.97362  0.42%   6.3  215s\n",
      " 260480  1674    6.98493   30  128    7.00312    6.98485  0.26%   6.3  220s\n",
      "\n",
      "Explored 266552 nodes (1691435 simplex iterations) in 224.23 seconds\n",
      "Thread count was 4 (of 4 available processors)\n",
      "\n",
      "Solution count 6: 7.00312 7.93869 8.10809 ... 9.32372\n",
      "\n",
      "Optimal solution found (tolerance 1.00e-04)\n",
      "Best objective 7.003117132665e+00, best bound 7.002847244843e+00, gap 0.0039%\n",
      "\n",
      "User-callback calls 543188, time in user-callback 0.19 sec\n",
      "285.083402 seconds (111.82 M allocations: 6.820 GiB, 5.01% gc time)\n"
     ]
    },
    {
     "data": {
      "text/plain": [
       "(7.003117132664984, [0.0, 0.0, 0.0, 0.0, 0.0, 0.0, 0.0, 0.0, 0.0, 0.541392  …  0.0, 0.0, 0.0, 0.0, 0.0, 0.0, 0.0, 0.0, 0.0, 0.43268])"
      ]
     },
     "execution_count": 33,
     "metadata": {},
     "output_type": "execute_result"
    }
   ],
   "source": [
    "@time primal_obj, β_primal = compute_primal(X_p, y, k, γ, σ_X_p; LogFile=\"nouveau_debug.txt\")"
   ]
  },
  {
   "cell_type": "code",
   "execution_count": 34,
   "metadata": {},
   "outputs": [
    {
     "name": "stdout",
     "output_type": "stream",
     "text": [
      "LogFile: nouveau_debug.txt.\n",
      "Gurobi Optimizer version 9.0.3 build v9.0.3rc0 (mac64)\n",
      "Optimize a model with 102 rows, 201 columns and 601 nonzeros\n",
      "Model fingerprint: 0x60fdbfc0\n",
      "Variable types: 1 continuous, 200 integer (200 binary)\n",
      "Coefficient statistics:\n",
      "  Matrix range     [2e-07, 1e+00]\n",
      "  Objective range  [1e+00, 1e+00]\n",
      "  Bounds range     [9e+00, 9e+00]\n",
      "  RHS range        [2e-01, 1e+01]\n",
      "Presolve time: 0.00s\n",
      "Presolved: 102 rows, 201 columns, 601 nonzeros\n",
      "Variable types: 1 continuous, 200 integer (200 binary)\n",
      "\n",
      "Root relaxation: objective 4.903414e+00, 21 iterations, 0.00 seconds\n",
      "\n",
      "    Nodes    |    Current Node    |     Objective Bounds      |     Work\n",
      " Expl Unexpl |  Obj  Depth IntInf | Incumbent    BestBd   Gap | It/Node Time\n",
      "\n",
      "     0     0    4.97558    0    2          -    4.97558      -     -    0s\n",
      "H    0     0                       8.2686682    4.97558  39.8%     -    0s\n",
      "H    0     0                       7.4213394    4.97558  33.0%     -    0s\n",
      "     0     2    6.81718    0    8    7.42134    6.81718  8.14%     -    0s\n",
      "H  102    89                       7.0031171    6.82434  2.55%   2.7    0s\n",
      "\n",
      "Cutting planes:\n",
      "  Lazy constraints: 41\n",
      "\n",
      "Explored 201 nodes (583 simplex iterations) in 0.61 seconds\n",
      "Thread count was 4 (of 4 available processors)\n",
      "\n",
      "Solution count 3: 7.00312 7.42134 8.26867 \n",
      "\n",
      "Optimal solution found (tolerance 1.00e-04)\n",
      "Best objective 7.003117132665e+00, best bound 7.003117132665e+00, gap 0.0000%\n",
      "\n",
      "User-callback calls 581, time in user-callback 0.57 sec\n",
      "  2.190914 seconds (4.18 M allocations: 216.935 MiB, 6.89% gc time)\n"
     ]
    },
    {
     "data": {
      "text/plain": [
       "(7.003117132664965, [0.0, 0.0, 0.0, 0.0, 0.0, 0.0, 0.0, 0.0, 0.0, 0.541392  …  0.0, 0.0, 0.0, 0.0, 0.0, 0.0, 0.0, 0.0, 0.0, 0.43268])"
      ]
     },
     "execution_count": 34,
     "metadata": {},
     "output_type": "execute_result"
    }
   ],
   "source": [
    "@time dual_obj, β_dual = compute_dual(X_p, y, k, γ, σ_X_p; LogFile=\"nouveau_debug.txt\")"
   ]
  },
  {
   "cell_type": "code",
   "execution_count": 36,
   "metadata": {},
   "outputs": [
    {
     "data": {
      "text/plain": [
       "100×3 Array{Float64,2}:\n",
       " 0.0  0.0       0.0     \n",
       " 0.0  0.0       0.0     \n",
       " 0.0  0.0       0.0     \n",
       " 0.0  0.0       0.0     \n",
       " 0.0  0.0       0.0     \n",
       " 0.0  0.0       0.0     \n",
       " 0.0  0.0       0.0     \n",
       " 0.0  0.0       0.0     \n",
       " 0.0  0.0       0.0     \n",
       " 1.0  0.541392  0.541392\n",
       " 0.0  0.0       0.0     \n",
       " 0.0  0.0       0.0     \n",
       " 0.0  0.0       0.0     \n",
       " ⋮                      \n",
       " 0.0  0.0       0.0     \n",
       " 1.0  0.44302   0.44302 \n",
       " 0.0  0.0       0.0     \n",
       " 0.0  0.0       0.0     \n",
       " 0.0  0.0       0.0     \n",
       " 0.0  0.0       0.0     \n",
       " 0.0  0.0       0.0     \n",
       " 0.0  0.0       0.0     \n",
       " 0.0  0.0       0.0     \n",
       " 0.0  0.0       0.0     \n",
       " 0.0  0.0       0.0     \n",
       " 1.0  0.43268   0.43268 "
      ]
     },
     "execution_count": 36,
     "metadata": {},
     "output_type": "execute_result"
    }
   ],
   "source": [
    "hcat(β_true, β_primal, β_dual)"
   ]
  },
  {
   "cell_type": "markdown",
   "metadata": {},
   "source": [
    "_____\n",
    "## 5. Experiences"
   ]
  },
  {
   "cell_type": "code",
   "execution_count": 72,
   "metadata": {},
   "outputs": [
    {
     "data": {
      "text/plain": [
       "1800"
      ]
     },
     "execution_count": 72,
     "metadata": {},
     "output_type": "execute_result"
    }
   ],
   "source": [
    "# Parameters\n",
    "n_train = 10000\n",
    "n = 2*n_train\n",
    "NR = 0.001\n",
    "α = 0.05;\n",
    "t_max = 30*60 # 30 min max per solving"
   ]
  },
  {
   "cell_type": "code",
   "execution_count": null,
   "metadata": {},
   "outputs": [
    {
     "name": "stdout",
     "output_type": "stream",
     "text": [
      "Set Gurobi TimeLimit.\n",
      "LogFile: results/2021_03_06_logs.txt.\n"
     ]
    }
   ],
   "source": [
    "csv_path = \"results/2021_03_06_results.csv\"\n",
    "logfile = \"results/2021_03_06_logs.txt\"\n",
    "\n",
    "write_list(csv_path, [\"Algo\", \"Seed\", \"n\", \"p\", \"k_true\", \"k\", \"γ\", \n",
    "                      \"NR\", \"α\", \"R2\", \"OR2\", \"t_algo\", \"t_data\", \"t_variance\"])\n",
    "\n",
    "for seed ∈ [1997, 1998]\n",
    "    for p ∈ [100, 150, 200, 300]\n",
    "\n",
    "        # True sparsity\n",
    "        k_true = div(p, 10)\n",
    "\n",
    "        # Generate data\n",
    "        t_data = @elapsed (X_train, y_train), _, (X_test, y_test), β_true = generate_synthetic_data(n, p, k_true, NR, seed=seed);\n",
    "\n",
    "        # Significance\n",
    "        t_variance = @elapsed t_α = get_t_α(n_train, p, α)\n",
    "        \n",
    "        # Robustness\n",
    "        for γ ∈ [1.0, 10.0, 100.0]\n",
    "            \n",
    "            # Variance\n",
    "            t_variance += @elapsed σ_X = t_α * get_σ_X(X_train, y_train, γ)\n",
    "        \n",
    "            # Estimated sparsity\n",
    "            Random.seed!(seed)\n",
    "            k = rand(5:15)\n",
    "            \n",
    "            # Dual\n",
    "            t_dual = @elapsed obj_dual, β_dual = compute_dual(X_train, y_train, k, γ, σ_X; LogFile=logfile, TimeLimit=t_max);\n",
    "            R2_dual = get_R2(X_train*β_dual, y_train, y_train)\n",
    "            OR2_dual = get_R2(X_test*β_dual, y_test, y_train)\n",
    "            write_list(csv_path, [\"dual\", seed, n_train, p, k_true, k, γ, \n",
    "                                  NR, α, R2_dual, OR2_dual, t_dual, t_data, t_variance])\n",
    "            \n",
    "            # Primal\n",
    "            t_primal = @elapsed obj_primal, β_primal = compute_primal(X_train, y_train, k, γ, σ_X; LogFile=logfile, TimeLimit=t_max);\n",
    "            R2_primal = get_R2(X_train*β_primal, y_train, y_train)\n",
    "            OR2_primal = get_R2(X_test*β_primal, y_test, y_train)\n",
    "            write_list(csv_path, [\"primal\", seed, n_train, p, k_true, k, γ, \n",
    "                                  NR, α, R2_primal, OR2_primal, t_primal, t_data, t_variance])\n",
    "            \n",
    "        end\n",
    "    end\n",
    "end"
   ]
  },
  {
   "cell_type": "code",
   "execution_count": null,
   "metadata": {},
   "outputs": [],
   "source": []
  }
 ],
 "metadata": {
  "kernelspec": {
   "display_name": "Julia 1.0.5",
   "language": "julia",
   "name": "julia-1.0"
  },
  "language_info": {
   "file_extension": ".jl",
   "mimetype": "application/julia",
   "name": "julia",
   "version": "1.0.5"
  }
 },
 "nbformat": 4,
 "nbformat_minor": 4
}
