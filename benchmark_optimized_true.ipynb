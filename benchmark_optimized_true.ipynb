{
 "cells": [
  {
   "cell_type": "code",
   "execution_count": 30,
   "metadata": {},
   "outputs": [],
   "source": [
    "using Random, Distributions\n",
    "using LinearAlgebra\n",
    "using Gurobi, JuMP\n",
    "using DataFrames\n",
    "using CSV\n",
    "using StatsBase\n",
    "using Plots\n",
    "using ProgressBars\n",
    "using Optim"
   ]
  },
  {
   "cell_type": "code",
   "execution_count": 31,
   "metadata": {},
   "outputs": [
    {
     "name": "stdout",
     "output_type": "stream",
     "text": [
      "\n",
      "--------------------------------------------\n",
      "Warning: your license will expire in 10 days\n",
      "--------------------------------------------\n",
      "\n",
      "Academic license - for non-commercial use only\n"
     ]
    }
   ],
   "source": [
    "# Create a gurobi model without the annoying academic license message\n",
    "gurobi_env = Gurobi.Env()\n",
    "function create_gurobi_model(; TimeLimit=-1, LogFile=nothing)\n",
    "    model = Model(optimizer_with_attributes(() -> Gurobi.Optimizer(gurobi_env)));\n",
    "    if TimeLimit >= 0\n",
    "        println(\"Set Gurobi TimeLimit.\")\n",
    "        set_optimizer_attribute(model, \"TimeLimit\", TimeLimit)\n",
    "    end\n",
    "    if LogFile != nothing\n",
    "        println(\"LogFile: $(LogFile).\")\n",
    "        set_optimizer_attribute(model, \"LogFile\", LogFile)\n",
    "    else\n",
    "        set_optimizer_attribute(model, \"OutputFlag\", 0)\n",
    "    end\n",
    "    set_optimizer_attribute(model, \"NumericFocus\", 3)\n",
    "    #set_optimizer_attribute(model, \"Threads\", 4)\n",
    "    return model\n",
    "end;"
   ]
  },
  {
   "cell_type": "markdown",
   "metadata": {},
   "source": [
    "_____\n",
    "# Dual Holistic Regression | Benchmark"
   ]
  },
  {
   "cell_type": "markdown",
   "metadata": {},
   "source": [
    "## Primal"
   ]
  },
  {
   "cell_type": "code",
   "execution_count": 32,
   "metadata": {},
   "outputs": [
    {
     "data": {
      "text/plain": [
       "compute_primal (generic function with 1 method)"
      ]
     },
     "execution_count": 32,
     "metadata": {},
     "output_type": "execute_result"
    }
   ],
   "source": [
    "function compute_primal(X, y, k, γ, t_α, σ_X, log_path)\n",
    "    \n",
    "    n, p = size(X)\n",
    "    \n",
    "    model = create_gurobi_model(LogFile=log_path)\n",
    "\n",
    "    # TODO: change big-M values\n",
    "    M1 = 1000\n",
    "    M2 = 1000\n",
    "\n",
    "    @variable(model, β[i=1:p])\n",
    "    @variable(model, s[i=1:p], Bin)\n",
    "    @variable(model, b[i=1:p], Bin)\n",
    "\n",
    "    @constraint(model, sum(s) <= k)\n",
    "    \n",
    "    @constraint(model, [i=1:p], β[i] <= M1*s[i])\n",
    "    @constraint(model, [i=1:p], β[i] >= -M1*s[i])\n",
    "\n",
    "    @constraint(model, [i=1:p], β[i]/σ_X[i] + M2*b[i] >= t_α*s[i])\n",
    "    @constraint(model, [i=1:p], -β[i]/σ_X[i] + M2*(1-b[i]) >= t_α*s[i])\n",
    "\n",
    "    @objective(model, Min, 0.5*sum((y[i] - X[i,:]'β)^2 for i=1:n) + (0.5/γ)* sum(β[j]^2 for j=1:p))\n",
    "    JuMP.optimize!(model)\n",
    "    \n",
    "    return objective_value(model), value.(β)\n",
    "end"
   ]
  },
  {
   "cell_type": "code",
   "execution_count": 33,
   "metadata": {},
   "outputs": [
    {
     "data": {
      "text/plain": [
       "g (generic function with 1 method)"
      ]
     },
     "execution_count": 33,
     "metadata": {},
     "output_type": "execute_result"
    }
   ],
   "source": [
    "function g(s, X, y, D, Z, γ, t_α, σ_X, model; compute_β=false)\n",
    "    \n",
    "    zero_indexes = findall(x->x == 0, s)\n",
    "    \n",
    "    # Create DZ once\n",
    "    DZ = D*Z\n",
    "    \n",
    "    # Compute norm\n",
    "    function compute_DZ_square_norm(in_norm)\n",
    "        return in_norm' * DZ * in_norm\n",
    "    end\n",
    "    \n",
    "    λ = model[:λ]\n",
    "    obj_1 = 0.5*y'y\n",
    "    obj_2 = t_α*λ'*(s.*σ_X)\n",
    "    obj_3 = - 0.5 * compute_DZ_square_norm(X'y + λ)\n",
    "    @objective(model, Max, obj_2 + obj_3)\n",
    "    \n",
    "    JuMP.optimize!(model)\n",
    "    λ_value = value.(λ)  \n",
    "    obj_value = objective_value(model)\n",
    "\n",
    "    \n",
    "    β_pred = nothing\n",
    "    \n",
    "    if compute_β\n",
    "        \n",
    "        # Get size\n",
    "        n, p = size(X)\n",
    "        \n",
    "        # Compute β_s\n",
    "        sparsity_indexes = findall(x->x>0, s)\n",
    "        X_s = X[:, sparsity_indexes]\n",
    "        λ_s = λ_value[sparsity_indexes]\n",
    "        β_s = inv(I/γ + X_s'X_s)*(X_s'y + λ_s)\n",
    "\n",
    "        # Compute β\n",
    "        β_pred = zeros(p)\n",
    "        β_pred[sparsity_indexes] = β_s\n",
    "\n",
    "    end\n",
    "    \n",
    "    return β_pred, λ_value, obj_1 + obj_value\n",
    "    \n",
    "end"
   ]
  },
  {
   "cell_type": "markdown",
   "metadata": {},
   "source": [
    "_____\n",
    "## Dual Optimized"
   ]
  },
  {
   "cell_type": "code",
   "execution_count": 70,
   "metadata": {},
   "outputs": [
    {
     "data": {
      "text/plain": [
       "g_s (generic function with 2 methods)"
      ]
     },
     "execution_count": 70,
     "metadata": {},
     "output_type": "execute_result"
    }
   ],
   "source": [
    "function g_s(supp_ids, obj1, Xty_s, D_s, σ_X_s, M_s, γ, t_α)\n",
    "    \n",
    "    l = length(supp_ids)\n",
    "    \n",
    "    if l==0\n",
    "        return zeros(0), 0.0\n",
    "    end\n",
    "    \n",
    "    lower = [-Inf for _ in 1:l]\n",
    "    upper = zeros(l)\n",
    "    \n",
    "    #initial_λ = zeros(l) .- 1.0\n",
    "    initial_λ = min.(-1.0, -t_α*(I/γ + M_s)*σ_X_s + Xty_s)\n",
    "    #println(initial_λ)\n",
    "    \n",
    "    \n",
    "    D_sXty_s = D_s*Xty_s\n",
    "    \n",
    "    f(λ) = -t_α*λ'σ_X_s + 0.5(Xty_s+λ)'*(D_sXty_s+D_s*λ)\n",
    "    \n",
    "    ∇f = function(λ)\n",
    "        return -t_α*σ_X_s + D_sXty_s + D_s*λ\n",
    "    end\n",
    "    \n",
    "    #println(\"Init \", initial_λ, f(initial_λ), ∇f(initial_λ))\n",
    "    \n",
    "    inner_optimizer = GradientDescent()\n",
    "    res = Optim.optimize(f, ∇f, lower, upper, initial_λ, Fminbox(inner_optimizer), inplace=false)\n",
    "\n",
    "    output =  - res.minimizer, obj1 - res.minimum\n",
    "    \n",
    "    #println(\"output\", output)\n",
    "    \n",
    "    return output\n",
    "    \n",
    "end"
   ]
  },
  {
   "cell_type": "code",
   "execution_count": 71,
   "metadata": {},
   "outputs": [
    {
     "data": {
      "text/plain": [
       "∇g_s (generic function with 2 methods)"
      ]
     },
     "execution_count": 71,
     "metadata": {},
     "output_type": "execute_result"
    }
   ],
   "source": [
    "function ∇g_s(supp_ids, supp_c_ids, Xty_s, Xty_s_c, DγX_s, M_s_c, λ_s, γ, p)\n",
    "    \n",
    "    μ_s = Xty_s + λ_s\n",
    "    μ_s_c = Xty_s_c\n",
    "    \n",
    "    D_stμ_s = D_s'μ_s\n",
    "    \n",
    "    grad = zeros(2p)    \n",
    "    grad[supp_ids] = λ_s .* σ_X_s - 0.5(D_stμ_s).^2\n",
    "    grad[supp_c_ids] = - 0.5*γ^2*(M_s_c'D_stμ_s + μ_s_c).^2\n",
    "    \n",
    "    return grad\n",
    "    \n",
    "end"
   ]
  },
  {
   "cell_type": "code",
   "execution_count": 72,
   "metadata": {},
   "outputs": [
    {
     "data": {
      "text/plain": [
       "get_support_ids (generic function with 1 method)"
      ]
     },
     "execution_count": 72,
     "metadata": {},
     "output_type": "execute_result"
    }
   ],
   "source": [
    "function get_support_ids(s)\n",
    "    supp = similar(s, Int)\n",
    "    count_supp = 1\n",
    "    \n",
    "    supp_c = similar(s, Int)\n",
    "    count_supp_c = 1\n",
    "    \n",
    "    @inbounds for i in eachindex(s)\n",
    "        supp[count_supp] = i\n",
    "        supp_c[count_supp_c] = i\n",
    "        is_zero = s[i] == zero(eltype(s))\n",
    "        count_supp += !is_zero\n",
    "        count_supp_c += is_zero\n",
    "    end\n",
    "    return resize!(supp, count_supp-1), resize!(supp_c, count_supp_c-1)\n",
    "end"
   ]
  },
  {
   "cell_type": "code",
   "execution_count": 73,
   "metadata": {},
   "outputs": [
    {
     "data": {
      "text/plain": [
       "([3, 4, 6], [1, 2, 5])"
      ]
     },
     "execution_count": 73,
     "metadata": {},
     "output_type": "execute_result"
    }
   ],
   "source": [
    "get_support_ids([0, 0, 4, 4, 0, 4])"
   ]
  },
  {
   "cell_type": "code",
   "execution_count": 74,
   "metadata": {},
   "outputs": [
    {
     "data": {
      "text/plain": [
       "project (generic function with 1 method)"
      ]
     },
     "execution_count": 74,
     "metadata": {},
     "output_type": "execute_result"
    }
   ],
   "source": [
    "function project(s, X, Xty, σ_X, γ)\n",
    "    supp_ids, supp_c_ids = get_support_ids(s)\n",
    "    X_s = X[:, supp_ids]\n",
    "    X_s_c = X[:, supp_c_ids]\n",
    "    M_s = X_s'X_s\n",
    "    M_s_c = X_s'X_s_c\n",
    "    D_s = inv(I/γ + M_s)\n",
    "    Xty_s = Xty[supp_ids]\n",
    "    Xty_s_c = Xty[supp_c_ids]\n",
    "    σ_X_s = σ_X[supp_ids]\n",
    "    return supp_ids, supp_c_ids, D_s, Xty_s, Xty_s_c, σ_X_s, M_s, M_s_c\n",
    "end"
   ]
  },
  {
   "cell_type": "markdown",
   "metadata": {},
   "source": [
    "_____\n",
    "## Dual"
   ]
  },
  {
   "cell_type": "code",
   "execution_count": 75,
   "metadata": {},
   "outputs": [
    {
     "data": {
      "text/plain": [
       "compute_dual (generic function with 1 method)"
      ]
     },
     "execution_count": 75,
     "metadata": {},
     "output_type": "execute_result"
    }
   ],
   "source": [
    "function compute_dual(X_p, y, k, γ, t_α, σ_X_p, log_path)\n",
    "    n, p = size(X_p)\n",
    "    \n",
    "    # Extended Matrices\n",
    "    X = hcat(X_p, -X_p)\n",
    "    σ_X = [σ_X_p; σ_X_p]\n",
    "    Xty = X'y \n",
    "    obj1 = 0.5*y'y\n",
    "    \n",
    "    # Outer problem\n",
    "    miop = create_gurobi_model(LogFile=log_path)\n",
    "    \n",
    "    @variable(miop, s[1:2*p], Bin)\n",
    "    @variable(miop, t >= 0)\n",
    "    \n",
    "    @constraint(miop, sum(s) <= k)\n",
    "    @constraint(miop, [i=1:p], s[i]+s[p+i]<=1)\n",
    "    \n",
    "    # --- Cutting plane --- #\n",
    "    \n",
    "#    inner_model = create_gurobi_model()\n",
    "#    @variable(inner_model, λ[j=1:2k] >= 0)\n",
    "    \n",
    "    # Initial solution\n",
    "    s_init = zeros(2*p) #TODO: change this\n",
    "    s_init[1:k] .= 1\n",
    "    \n",
    "    supp_ids, supp_c_ids, D_s, Xty_s, Xty_s_c, σ_X_s, M_s, M_s_c = project(s_init, X, Xty, σ_X, γ)\n",
    "    \n",
    "    λ_s_init, g_init = g_s(supp_ids, obj1, Xty_s, D_s, σ_X_s, M_s, γ, t_α)\n",
    "    ∇g_init = ∇g_s(supp_ids, supp_c_ids, Xty_s, Xty_s_c, D_s, σ_X_s, M_s_c, λ_s_init, γ, p)\n",
    "    \n",
    "    @constraint(miop, t >= g_init + dot(∇g_init, s - s_init))\n",
    "    @objective(miop, Min, t)\n",
    "    \n",
    "    \n",
    "    function outer_approximation(cb_data)\n",
    "        \n",
    "        s_val = [callback_value(cb_data, s[i]) for i=1:2p]\n",
    "\n",
    "        supp_ids, supp_c_ids, D_s, Xty_s, Xty_s_c, σ_X_s, M_s, M_s_c = project(s_val, X, Xty, σ_X, γ)\n",
    "        \n",
    "        λ_s_val, g_val = g_s(supp_ids, obj1, Xty_s, D_s, σ_X_s, M_s, γ, t_α)\n",
    "        ∇g_val = ∇g_s(supp_ids, supp_c_ids, Xty_s, Xty_s_c, D_s, σ_X_s, M_s_c, λ_s_val, γ, p)\n",
    "        \n",
    "        con = @build_constraint(t >= g_val + dot(∇g_val, s - s_val))\n",
    "        MOI.submit(miop, MOI.LazyConstraint(cb_data), con)\n",
    "        \n",
    "    end\n",
    "    \n",
    "    MOI.set(miop, MOI.LazyConstraintCallback(), outer_approximation)\n",
    "    JuMP.optimize!(miop)\n",
    "    \n",
    "    s_opt = JuMP.value.(s)\n",
    "\n",
    "    supp_ids, supp_c_ids, D_s, Xty_s, Xty_s_c, σ_X_s, M_s, M_s_c = project(s_opt, X, Xty, σ_X, γ)\n",
    "    λ_s_opt, _ = g_s(supp_ids, obj1, Xty_s, D_s, σ_X_s, M_s, γ, t_α)\n",
    "    \n",
    "    β_opt = zeros(2p)\n",
    "    β_opt[supp_ids] = D_s*(Xty_s + λ_s_opt)\n",
    "    β_pred = β_opt[1:p] .- β_opt[p+1:end]\n",
    "    \n",
    "    return objective_value(miop), β_pred \n",
    "end"
   ]
  },
  {
   "cell_type": "markdown",
   "metadata": {},
   "source": [
    "____\n",
    "## Synthetic Data"
   ]
  },
  {
   "cell_type": "code",
   "execution_count": 76,
   "metadata": {},
   "outputs": [
    {
     "data": {
      "text/plain": [
       "generate_synthetic_data (generic function with 1 method)"
      ]
     },
     "execution_count": 76,
     "metadata": {},
     "output_type": "execute_result"
    }
   ],
   "source": [
    "function generate_synthetic_data(n, p, k, NR)\n",
    "    \n",
    "    # Generate PD matrix\n",
    "    A = randn(p, p)\n",
    "    A = A'*A\n",
    "    Σ = (A' + A)/2\n",
    "    \n",
    "    # Generate data X\n",
    "    d = MvNormal(Σ)\n",
    "    X = rand(d, n)'I\n",
    "    \n",
    "    # Split data\n",
    "    index_train = 1:floor(Int, 0.5*n)\n",
    "    index_val = floor(Int, 0.5*n)+1:floor(Int, 0.75*n)\n",
    "    index_test = floor(Int, 0.75*n)+1:n\n",
    "    \n",
    "    X_train = X[index_train,:]\n",
    "    X_val = X[index_val,:]\n",
    "    X_test = X[index_test,:]\n",
    "    \n",
    "    # Center\n",
    "    μ_train = [mean(X_train[:, j]) for j=1:p]\n",
    "    for j=1:p\n",
    "         X_train[:,j] = X_train[:,j] .- μ_train[j]\n",
    "         X_val[:,j] = X_val[:,j] .- μ_train[j]\n",
    "         X_test[:,j] = X_test[:,j] .- μ_train[j]\n",
    "    end\n",
    "    \n",
    "    # Scale\n",
    "    σ_train = [norm(X_train[:, j]) for j=1:p]\n",
    "    for j=1:p\n",
    "         X_train[:,j] = X_train[:,j]/σ_train[j]\n",
    "         X_val[:,j] = X_val[:,j] ./ σ_train[j]\n",
    "         X_test[:,j] = X_test[:,j] ./ σ_train[j]\n",
    "    end\n",
    "    \n",
    "    # Generate β\n",
    "    β = zeros(p)\n",
    "    for j=1:k\n",
    "        β[floor(Int, j*p/k)] = 1.0*rand([-1, 1])\n",
    "    end\n",
    "    \n",
    "    # Noise\n",
    "    ϵ = rand(Normal(0, std(X*β)*NR), n)\n",
    "    \n",
    "    # Target\n",
    "    y_train = X_train*β + ϵ[index_train]\n",
    "    y_val = X_val*β + ϵ[index_val]\n",
    "    y_test = X_test*β + ϵ[index_test]\n",
    "            \n",
    "    return  (X_train, y_train), (X_val, y_val), (X_test, y_test), β\n",
    "end"
   ]
  },
  {
   "cell_type": "code",
   "execution_count": 77,
   "metadata": {},
   "outputs": [
    {
     "data": {
      "text/plain": [
       "get_t_α_and_σ_X (generic function with 1 method)"
      ]
     },
     "execution_count": 77,
     "metadata": {},
     "output_type": "execute_result"
    }
   ],
   "source": [
    "function get_t_α_and_σ_X(X, y, α, γ)\n",
    "    n, p = size(X)\n",
    "    \n",
    "    # Student law\n",
    "    t_α = quantile(TDist(n-p), 1 - α/2) # Beware: n-p-1 if we add intercept\n",
    "    \n",
    "    # Estimator σ\n",
    "    M = 1/γ*I + X'X\n",
    "    M_inv = inv(M)\n",
    "    σ_tilde = sqrt((y'*(I - X*M_inv*X')*y)/(n-p))\n",
    "    σ_X = σ_tilde * sqrt.(diag(M_inv))\n",
    "    \n",
    "    return t_α, σ_X\n",
    "end"
   ]
  },
  {
   "cell_type": "code",
   "execution_count": 78,
   "metadata": {},
   "outputs": [
    {
     "data": {
      "text/plain": [
       "get_OR2 (generic function with 1 method)"
      ]
     },
     "execution_count": 78,
     "metadata": {},
     "output_type": "execute_result"
    }
   ],
   "source": [
    "function get_insample_R2(y_pred, y_true, p)\n",
    "    TSE = sum((y_pred[i]-y_true[i])^2 for i=1:p)\n",
    "    baseline_E = sum((sum(y_true)/length(y_true)-y_true[i])^2 for i=1:p)\n",
    "    return 1 - TSE/baseline_E\n",
    "end\n",
    "\n",
    "function get_OR2(y_pred, y_true, y_train, p)\n",
    "    TSE = sum((y_pred[i]-y_true[i])^2 for i=1:p)\n",
    "    baseline_E = sum((sum(y_train)/length(y_train)-y_true[i])^2 for i=1:p)\n",
    "    return 1 - TSE/baseline_E\n",
    "end"
   ]
  },
  {
   "cell_type": "markdown",
   "metadata": {},
   "source": [
    "____\n",
    "## Experiences"
   ]
  },
  {
   "cell_type": "code",
   "execution_count": 79,
   "metadata": {},
   "outputs": [
    {
     "data": {
      "text/plain": [
       "list2string (generic function with 1 method)"
      ]
     },
     "execution_count": 79,
     "metadata": {},
     "output_type": "execute_result"
    }
   ],
   "source": [
    "function r(x,dig)\n",
    "    return round(x,digits = dig)\n",
    "end\n",
    "\n",
    "function list2string(list)\n",
    "    s=\"\"\n",
    "    for x in list \n",
    "        s*=x\n",
    "    end\n",
    "    s*=\"\\n\"\n",
    "    return s\n",
    "end"
   ]
  },
  {
   "cell_type": "code",
   "execution_count": 80,
   "metadata": {},
   "outputs": [
    {
     "data": {
      "text/plain": [
       "write_to_file (generic function with 1 method)"
      ]
     },
     "execution_count": 80,
     "metadata": {},
     "output_type": "execute_result"
    }
   ],
   "source": [
    "function write_to_file(file_path, str)\n",
    "    open(file_path, \"a+\") do io\n",
    "        write(io, str)\n",
    "    end\n",
    "end"
   ]
  },
  {
   "cell_type": "raw",
   "metadata": {},
   "source": [
    "NR = 0.001\n",
    "α = 0.05\n",
    "n_train = 10000\n",
    "n = 2*n_train\n",
    "p = 300\n",
    "k = 10\n",
    "γ = 1\n",
    "\n",
    "Random.seed!(2021)\n",
    "t_synthetic = @elapsed (X_p, y), (X_val, y_val), (X_test, y_test), β_true = generate_synthetic_data(n, p, k, NR);\n",
    "t_thresh_var = @elapsed t_α, σ_X_p = get_t_α_and_σ_X(X_p, y, α, γ)\n",
    "\n",
    "X = hcat(X_p, -X_p)\n",
    "M = X'X\n",
    "Xty = X'y\n",
    "σ_X = [σ_X_p; -σ_X_p]\n",
    "obj1 = 0.5*y'y\n",
    "\n",
    "model_inner = create_gurobi_model()\n",
    "@variable(model_inner, λ[1:2*p] >= 0)\n",
    "\n",
    "# Initial solution\n",
    "\n",
    "total_t_g_s = 0\n",
    "total_t_g = 0\n",
    "\n",
    "for _ in tqdm(1:100)\n",
    "\n",
    "    \n",
    "    s_init = zeros(2p)\n",
    "    idx = sample(1:2p, k)\n",
    "    s_init[idx] .= 1;\n",
    "    \n",
    "    #s_init = zeros(2*p) #TODO: change this\n",
    "    #s_init[1:k] .= 1\n",
    "\n",
    "    # Dual \n",
    "    total_t_g_s += @elapsed begin\n",
    "        supp_ids, supp_c_ids, D_s, Xty_s, Xty_s_c, σ_X_s, M_s_c = project(s_init, X, Xty, σ_X, γ)\n",
    "        λ_s_init, g_init = g_s(supp_ids, obj1, Xty_s, D_s, σ_X_s, γ, t_α)\n",
    "    end\n",
    "    \n",
    "    total_t_g += @elapsed begin\n",
    "        Z_init = Diagonal(s_init)\n",
    "        D_init = γ*inv(I + γ * Z_init * M)\n",
    "        _ , λ_init, g_init = g(s_init, X, y, D_init, Z_init, γ, t_α, σ_X, model_inner)\n",
    "    end\n",
    "    \n",
    "end\n",
    "\n",
    "println(total_t_g_s)\n",
    "println(total_t_g)"
   ]
  },
  {
   "cell_type": "code",
   "execution_count": null,
   "metadata": {
    "scrolled": true
   },
   "outputs": [
    {
     "name": "stdout",
     "output_type": "stream",
     "text": [
      "LogFile: debug.txt.\n",
      "Gurobi Optimizer version 9.0.3 build v9.0.3rc0 (mac64)\n",
      "Optimize a model with 12 rows, 21 columns and 61 nonzeros\n",
      "Model fingerprint: 0x6f13dfe6\n",
      "Variable types: 1 continuous, 20 integer (20 binary)\n",
      "Coefficient statistics:\n",
      "  Matrix range     [4e-03, 1e+00]\n",
      "  Objective range  [1e+00, 1e+00]\n",
      "  Bounds range     [0e+00, 0e+00]\n",
      "  RHS range        [6e-01, 1e+00]\n",
      "Presolve removed 10 rows and 0 columns\n",
      "Presolve time: 0.00s\n",
      "Presolved: 2 rows, 21 columns, 41 nonzeros\n",
      "Variable types: 1 continuous, 20 integer (20 binary)\n",
      "\n",
      "Root relaxation: objective 0.000000e+00, 1 iterations, 0.00 seconds\n",
      "\n",
      "    Nodes    |    Current Node    |     Objective Bounds      |     Work\n",
      " Expl Unexpl |  Obj  Depth IntInf | Incumbent    BestBd   Gap | It/Node Time\n",
      "\n",
      "     0     0    0.17976    0    2          -    0.17976      -     -    0s\n",
      "H    0     0                       0.2764431    0.17976  35.0%     -    0s\n",
      "\n",
      "Explored 1 nodes (5 simplex iterations) in 0.16 seconds\n",
      "Thread count was 4 (of 4 available processors)\n",
      "\n",
      "Solution count 1: 0.276443 \n",
      "\n",
      "Optimal solution found (tolerance 1.00e-04)\n",
      "Best objective 2.764431172747e-01, best bound 2.764431172747e-01, gap 0.0000%\n",
      "\n",
      "User-callback calls 59, time in user-callback 0.16 sec\n",
      "LogFile: debug.txt.\n",
      "Gurobi Optimizer version 9.0.3 build v9.0.3rc0 (mac64)\n",
      "Optimize a model with 41 rows, 30 columns and 110 nonzeros\n",
      "Model fingerprint: 0x05c20534\n",
      "Model has 55 quadratic objective terms\n",
      "Variable types: 10 continuous, 20 integer (20 binary)\n",
      "Coefficient statistics:\n",
      "  Matrix range     [1e+00, 1e+03]\n",
      "  Objective range  [1e-02, 1e+00]\n",
      "  QObjective range [5e-03, 2e+00]\n",
      "  Bounds range     [0e+00, 0e+00]\n",
      "  RHS range        [1e+00, 1e+03]\n",
      "Found heuristic solution: objective 0.5240084\n",
      "Presolve time: 0.00s\n",
      "Presolved: 41 rows, 30 columns, 110 nonzeros\n",
      "Presolved model has 55 quadratic objective terms\n",
      "Variable types: 10 continuous, 20 integer (20 binary)\n",
      "\n",
      "Root relaxation: objective 2.138821e-01, 46 iterations, 0.00 seconds\n",
      "\n",
      "    Nodes    |    Current Node    |     Objective Bounds      |     Work\n",
      " Expl Unexpl |  Obj  Depth IntInf | Incumbent    BestBd   Gap | It/Node Time\n",
      "\n",
      "     0     0    0.21388    0   14    0.52401    0.21388  59.2%     -    0s\n",
      "H    0     0                       0.4923115    0.21388  56.6%     -    0s\n",
      "H    0     0                       0.4898446    0.21388  56.3%     -    0s\n",
      "H    0     0                       0.2764431    0.21388  22.6%     -    0s\n",
      "\n",
      "Explored 0 nodes (46 simplex iterations) in 0.02 seconds\n",
      "Thread count was 4 (of 4 available processors)\n",
      "\n",
      "Solution count 4: 0.276443 0.489845 0.492312 0.524008 \n",
      "\n",
      "Optimal solution found (tolerance 1.00e-04)\n",
      "Best objective 2.764431172747e-01, best bound 2.764431172747e-01, gap 0.0000%\n",
      "\n",
      "User-callback calls 53, time in user-callback 0.01 sec\n",
      "LogFile: debug.txt.\n",
      "Gurobi Optimizer version 9.0.3 build v9.0.3rc0 (mac64)\n",
      "Optimize a model with 52 rows, 101 columns and 301 nonzeros\n",
      "Model fingerprint: 0x7c613961\n",
      "Variable types: 1 continuous, 100 integer (100 binary)\n",
      "Coefficient statistics:\n",
      "  Matrix range     [3e-05, 1e+00]\n",
      "  Objective range  [1e+00, 1e+00]\n",
      "  Bounds range     [0e+00, 0e+00]\n",
      "  RHS range        [1e+00, 5e+00]\n",
      "Presolve time: 0.00s\n",
      "Presolved: 52 rows, 101 columns, 301 nonzeros\n",
      "Variable types: 1 continuous, 100 integer (100 binary)\n",
      "Found heuristic solution: objective 2.4897477\n",
      "Found heuristic solution: objective 2.2883277\n",
      "\n",
      "Root relaxation: objective 4.376874e-01, 10 iterations, 0.00 seconds\n",
      "\n",
      "    Nodes    |    Current Node    |     Objective Bounds      |     Work\n",
      " Expl Unexpl |  Obj  Depth IntInf | Incumbent    BestBd   Gap | It/Node Time\n",
      "\n",
      "     0     0    1.17877    0    2    2.28833    1.17877  48.5%     -    0s\n",
      "H    0     0                       2.1054225    1.17877  44.0%     -    0s\n",
      "H    0     0                       1.9621927    1.17877  39.9%     -    0s\n",
      "     0     2    1.17877    0    6    1.96219    1.17877  39.9%     -    0s\n",
      "*   72    66              25       1.9433853    1.19686  38.4%   2.1    1s\n",
      "*  323   239               8       1.8641680    1.27236  31.7%   1.8    1s\n",
      "*  325   238               9       1.8098069    1.27236  29.7%   1.8    1s\n",
      "*  326   236               9       1.7840177    1.27236  28.7%   1.8    1s\n",
      "* 1330     2              12       1.7590527    1.75905  0.00%   2.9    2s\n",
      "\n",
      "Cutting planes:\n",
      "  Lazy constraints: 134\n",
      "\n",
      "Explored 1345 nodes (3949 simplex iterations) in 2.65 seconds\n",
      "Thread count was 4 (of 4 available processors)\n",
      "\n",
      "Solution count 9: 1.75905 1.78402 1.80981 ... 2.48975\n",
      "\n",
      "Optimal solution found (tolerance 1.00e-04)\n",
      "Best objective 1.759052666211e+00, best bound 1.759052666211e+00, gap 0.0000%\n",
      "\n",
      "User-callback calls 3101, time in user-callback 2.03 sec\n",
      "LogFile: debug.txt.\n",
      "Gurobi Optimizer version 9.0.3 build v9.0.3rc0 (mac64)\n",
      "Optimize a model with 201 rows, 150 columns and 550 nonzeros\n",
      "Model fingerprint: 0x87e319f3\n",
      "Model has 1275 quadratic objective terms\n",
      "Variable types: 50 continuous, 100 integer (100 binary)\n",
      "Coefficient statistics:\n",
      "  Matrix range     [1e+00, 1e+03]\n",
      "  Objective range  [3e-03, 8e-01]\n",
      "  QObjective range [8e-05, 2e+00]\n",
      "  Bounds range     [0e+00, 0e+00]\n",
      "  RHS range        [5e+00, 1e+03]\n",
      "Found heuristic solution: objective 2.3219579\n",
      "Presolve time: 0.01s\n",
      "Presolved: 201 rows, 150 columns, 550 nonzeros\n",
      "Presolved model has 1275 quadratic objective terms\n",
      "Variable types: 50 continuous, 100 integer (100 binary)\n",
      "\n",
      "Root relaxation: objective 1.534084e+00, 253 iterations, 0.02 seconds\n",
      "\n",
      "    Nodes    |    Current Node    |     Objective Bounds      |     Work\n",
      " Expl Unexpl |  Obj  Depth IntInf | Incumbent    BestBd   Gap | It/Node Time\n",
      "\n",
      "     0     0    1.53408    0   68    2.32196    1.53408  33.9%     -    0s\n",
      "H    0     0                       2.3072006    1.53408  33.5%     -    0s\n",
      "H    0     0                       2.0355426    1.53408  24.6%     -    0s\n",
      "H    0     0                       2.0278565    1.53408  24.3%     -    0s\n",
      "H    0     0                       1.8114903    1.53408  15.3%     -    0s\n",
      "H    0     0                       1.7387849    1.53408  11.8%     -    0s\n",
      "     0     2    1.53408    0   68    1.73878    1.53408  11.8%     -    0s\n",
      "  2002   497    1.71142   18   63    1.73878    1.65339  4.91%   6.4    5s\n",
      "\n",
      "Explored 2725 nodes (17312 simplex iterations) in 6.29 seconds\n",
      "Thread count was 4 (of 4 available processors)\n",
      "\n",
      "Solution count 6: 1.73878 1.81149 2.02786 ... 2.32196\n",
      "\n",
      "Optimal solution found (tolerance 1.00e-04)\n",
      "Best objective 1.738784908343e+00, best bound 1.738784908343e+00, gap 0.0000%\n",
      "\n",
      "User-callback calls 6386, time in user-callback 0.05 sec\n",
      "LogFile: debug.txt.\n",
      "Gurobi Optimizer version 9.0.3 build v9.0.3rc0 (mac64)\n",
      "Optimize a model with 72 rows, 141 columns and 421 nonzeros\n",
      "Model fingerprint: 0xa5704ea9\n",
      "Variable types: 1 continuous, 140 integer (140 binary)\n",
      "Coefficient statistics:\n",
      "  Matrix range     [6e-06, 1e+00]\n",
      "  Objective range  [1e+00, 1e+00]\n",
      "  Bounds range     [0e+00, 0e+00]\n",
      "  RHS range        [1e+00, 7e+00]\n",
      "Presolve time: 0.00s\n",
      "Presolved: 72 rows, 141 columns, 421 nonzeros\n",
      "Variable types: 1 continuous, 140 integer (140 binary)\n",
      "Found heuristic solution: objective 5.9658502\n",
      "\n",
      "Root relaxation: objective 1.776096e+00, 14 iterations, 0.00 seconds\n",
      "\n",
      "    Nodes    |    Current Node    |     Objective Bounds      |     Work\n",
      " Expl Unexpl |  Obj  Depth IntInf | Incumbent    BestBd   Gap | It/Node Time\n",
      "\n",
      "     0     0    2.32640    0    2    5.96585    2.32640  61.0%     -    0s\n",
      "H    0     0                       5.2623256    2.32640  55.8%     -    0s\n",
      "     0     2    2.32640    0    2    5.26233    2.32640  55.8%     -    0s\n",
      "*  359   298              36       4.9282105    2.32640  52.8%   1.7    2s\n",
      "* 1075   707              16       4.5955906    2.45961  46.5%   2.1    4s\n",
      "  1295   872    3.89715   10    3    4.59559    2.50240  45.5%   2.3    5s\n",
      "  1500   936    2.55562   15    6    4.59559    2.55562  44.4%   2.4   10s\n",
      "  3235  1270     cutoff   33         4.59559    3.55918  22.6%   2.8   15s\n",
      "* 3751  1153              26       4.5400573    3.65064  19.6%   2.8   16s\n",
      "  4850  1315    4.48003   35    -    4.54006    3.86783  14.8%   2.9   20s\n",
      "  6099  1464    4.51622   33    2    4.54006    4.03296  11.2%   3.1   25s\n",
      "* 6182  1358              24       4.5108158    4.03546  10.5%   3.1   25s\n",
      "* 7452   490              35       4.3957697    4.26261  3.03%   3.3   29s\n",
      "  7601   268     cutoff   26         4.39577    4.29350  2.33%   3.4   30s\n",
      "\n",
      "Cutting planes:\n",
      "  Lazy constraints: 509\n",
      "\n",
      "Explored 8051 nodes (27757 simplex iterations) in 30.86 seconds\n",
      "Thread count was 4 (of 4 available processors)\n",
      "\n",
      "Solution count 7: 4.39577 4.51082 4.54006 ... 5.96585\n",
      "\n",
      "Optimal solution found (tolerance 1.00e-04)\n",
      "Best objective 4.395769722626e+00, best bound 4.395769722626e+00, gap 0.0000%\n",
      "\n",
      "User-callback calls 18975, time in user-callback 15.02 sec\n",
      "LogFile: debug.txt.\n"
     ]
    }
   ],
   "source": [
    "NR = 0.001\n",
    "α = 0.05\n",
    "n_train = 10000\n",
    "n = 2*n_train\n",
    "\n",
    "file_path = \"results/results_arie_8.csv\"\n",
    "\n",
    "write_to_file(file_path, \"algo,seed,n,p,k,γ,NR,α,t_algo,R2,OR2,t_synthetic,t_thresh_var\\n\")\n",
    "\n",
    "for seed in [2021, 42, 25, 1998]\n",
    "    for γ in [1.0, 5.0, 10.0, 100.0]\n",
    "        for p in [10, 50, 70, 100, 150, 200, 250, 500]\n",
    "            \n",
    "            # Set k\n",
    "            k = Int(p/10)\n",
    "\n",
    "            # Generate data\n",
    "            Random.seed!(seed)\n",
    "            t_synthetic = @elapsed (X_train, y_train), (X_val, y_val), (X_test, y_test), β_true = generate_synthetic_data(n, p, k, NR);\n",
    "            t_thresh_var = @elapsed t_α, σ_X = get_t_α_and_σ_X(X_train, y_train, α, γ)\n",
    "\n",
    "            # Solving Dual\n",
    "            #log_path_dual = \"logs/dual_n=$(n)_p=$(p)_k=$(k)_gamma=$(γ)_seed=$(seed).txt\"\n",
    "            log_path_dual = \"debug.txt\"\n",
    "            t_dual = @elapsed obj_value, β_dual = compute_dual(X_train, y_train, k, γ, t_α, σ_X, log_path_dual);\n",
    "            R2_dual = get_insample_R2(X_train*β_dual, y_train, p)\n",
    "            OR2_dual = get_OR2(X_test*β_dual, y_test, y_train, p)\n",
    "            list_dual = [x*\",\" for x in string.([seed, n_train, p,k,γ,NR,α,\n",
    "                            r(t_dual,3),r(R2_dual,3),r(OR2_dual,3),\n",
    "                            r(t_synthetic,3),r(t_thresh_var,3)])]\n",
    "            s = \"dual,\"*list2string(list_dual) \n",
    "            write_to_file(file_path, s)\n",
    "\n",
    "            # Solving Primal\n",
    "            #log_path_primal = \"logs/primal_n=$(n)_p=$(p)_k=$(k)_gamma=$(γ)_seed=$(seed).txt\"\n",
    "            log_path_primal = \"debug.txt\"\n",
    "            t_primal = @elapsed obj_value, β_primal = compute_primal(X_train, y_train, k, γ, t_α, σ_X, log_path_primal)\n",
    "            R2_primal = get_insample_R2(X_train*β_primal, y_train, p)\n",
    "            OR2_primal = get_OR2(X_test*β_primal, y_test, y_train, p)\n",
    "            list_primal = [x*\",\" for x in string.([seed, n_train,p,k,γ,NR,α,\n",
    "                                r(t_primal,3),r(R2_primal,3),r(OR2_primal,3),\n",
    "                            r(t_synthetic,3),r(t_thresh_var,3)])]\n",
    "            s = \"primal,\"*list2string(list_primal) \n",
    "            write_to_file(file_path, s)\n",
    "        end\n",
    "    end\n",
    "end"
   ]
  },
  {
   "cell_type": "code",
   "execution_count": null,
   "metadata": {},
   "outputs": [],
   "source": []
  },
  {
   "cell_type": "code",
   "execution_count": null,
   "metadata": {},
   "outputs": [],
   "source": []
  },
  {
   "cell_type": "code",
   "execution_count": null,
   "metadata": {},
   "outputs": [],
   "source": []
  },
  {
   "cell_type": "code",
   "execution_count": null,
   "metadata": {},
   "outputs": [],
   "source": []
  },
  {
   "cell_type": "code",
   "execution_count": null,
   "metadata": {},
   "outputs": [],
   "source": []
  }
 ],
 "metadata": {
  "kernelspec": {
   "display_name": "Julia 1.0.5",
   "language": "julia",
   "name": "julia-1.0"
  },
  "language_info": {
   "file_extension": ".jl",
   "mimetype": "application/julia",
   "name": "julia",
   "version": "1.0.5"
  },
  "toc": {
   "base_numbering": 1,
   "nav_menu": {},
   "number_sections": true,
   "sideBar": true,
   "skip_h1_title": false,
   "title_cell": "Table of Contents",
   "title_sidebar": "Contents",
   "toc_cell": false,
   "toc_position": {
    "height": "calc(100% - 180px)",
    "left": "10px",
    "top": "150px",
    "width": "384px"
   },
   "toc_section_display": true,
   "toc_window_display": true
  }
 },
 "nbformat": 4,
 "nbformat_minor": 4
}
