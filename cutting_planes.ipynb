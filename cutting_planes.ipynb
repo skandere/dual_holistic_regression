{
 "cells": [
  {
   "cell_type": "code",
   "execution_count": 1,
   "metadata": {},
   "outputs": [],
   "source": [
    "using Random, Distributions\n",
    "using LinearAlgebra\n",
    "using Gurobi, JuMP\n",
    "using DataFrames\n",
    "using CSV"
   ]
  },
  {
   "cell_type": "code",
   "execution_count": 2,
   "metadata": {},
   "outputs": [
    {
     "name": "stdout",
     "output_type": "stream",
     "text": [
      "\n",
      "--------------------------------------------\n",
      "Warning: your license will expire in 10 days\n",
      "--------------------------------------------\n",
      "\n",
      "Academic license - for non-commercial use only\n"
     ]
    }
   ],
   "source": [
    "# Create a gurobi model without the annoying academic license message\n",
    "gurobi_env = Gurobi.Env()\n",
    "function create_gurobi_model(; TimeLimit=-1, LogFile=\"logs.txt\")\n",
    "    model = Model(optimizer_with_attributes(() -> Gurobi.Optimizer(gurobi_env)));\n",
    "    if TimeLimit >= 0\n",
    "        println(\"Set Gurobi TimeLimit.\")\n",
    "        set_optimizer_attribute(model, \"TimeLimit\", TimeLimit)\n",
    "    end\n",
    "    set_optimizer_attribute(model, \"LogFile\", LogFile)\n",
    "    set_optimizer_attribute(model, \"OutputFlag\", 0)\n",
    "    set_optimizer_attribute(model, \"NumericFocus\", 3)\n",
    "    return model\n",
    "end;"
   ]
  },
  {
   "cell_type": "code",
   "execution_count": 3,
   "metadata": {},
   "outputs": [
    {
     "data": {
      "text/plain": [
       "extendβ (generic function with 1 method)"
      ]
     },
     "execution_count": 3,
     "metadata": {},
     "output_type": "execute_result"
    }
   ],
   "source": [
    "function extendβ(β_true_p)\n",
    "    β_true = zeros(2*p)\n",
    "    for i in 1:2*p\n",
    "        if i<=p\n",
    "            β_true[i] = max(β_true_p[i],0)\n",
    "        else\n",
    "            β_true[i] = max(-β_true_p[i-p],0)\n",
    "        end\n",
    "    end\n",
    "    return β_true\n",
    "end"
   ]
  },
  {
   "cell_type": "code",
   "execution_count": 10,
   "metadata": {},
   "outputs": [
    {
     "data": {
      "text/plain": [
       "5"
      ]
     },
     "execution_count": 10,
     "metadata": {},
     "output_type": "execute_result"
    }
   ],
   "source": [
    "Random.seed!(2021)\n",
    "\n",
    "# Params\n",
    "n, p = 100, 10\n",
    "\n",
    "# Robustness\n",
    "γ = 10\n",
    "\n",
    "# Significance\n",
    "α = 0.05\n",
    "t_α = 1 - quantile(TDist(n-p), α/2) # Beware: n-p-1 if we add intercept\n",
    "\n",
    "# Data\n",
    "X_p = rand(n, p) \n",
    "X = hcat(X_p,-X_p)\n",
    "\n",
    "β_true_p = [rand([0,1])*randn()*10 for i in 1:p]\n",
    "β_true = extendβ(β_true_p)\n",
    "\n",
    "\n",
    "σ_noise = 0.001\n",
    "\n",
    "\n",
    "#y = rand(n)\n",
    "y = X*β_true + [randn() for i in 1:n] * σ_noise\n",
    "\n",
    "# Test\n",
    "X_test_p = rand(n, p)\n",
    "X_test = hcat(X_test_p,-X_test_p)\n",
    "y_test = X_test*β_true + [randn() for i in 1:n] * σ_noise\n",
    "\n",
    "# Variance estimator\n",
    "M_p = X_p'X_p\n",
    "M = X'X\n",
    "M_inv_p = M_p^-1\n",
    "σ_tilde_p = sqrt((y'*(I - X_p*M_inv_p*X_p')*y)/(n-p))\n",
    "\n",
    "diag_M_inv_p = [max(x,0) for x in diag(M_inv_p)]\n",
    "σ_X_p = σ_tilde_p * sqrt.(diag_M_inv_p)\n",
    "σ_X = [σ_X_p; σ_X_p]\n",
    "\n",
    "# # Sparsity\n",
    "k = 5"
   ]
  },
  {
   "cell_type": "code",
   "execution_count": 5,
   "metadata": {},
   "outputs": [
    {
     "data": {
      "text/plain": [
       "g (generic function with 1 method)"
      ]
     },
     "execution_count": 5,
     "metadata": {},
     "output_type": "execute_result"
    }
   ],
   "source": [
    "function g(s,X,y,γ)\n",
    "    # Compute matrices\n",
    "    Z = Diagonal(s)\n",
    "    # Compute D\n",
    "    D = (I/γ + Z*M)^(-1)\n",
    "    \n",
    "    # Compute norm\n",
    "    function compute_DZ_square_norm(in_norm)\n",
    "        return in_norm' * D*Z * in_norm\n",
    "    end\n",
    "    \n",
    "    # Compute max\n",
    "    model = create_gurobi_model()\n",
    "    @variable(model, λ[1:2*p] >= 0)\n",
    "    \n",
    "    obj_1 = 0.5*y'y\n",
    "    obj_2 = t_α*λ'*(s.*σ_X)\n",
    "    obj_3 = - 0.5 * compute_DZ_square_norm(X'y + λ)\n",
    "    @objective(model, Max, obj_1 + obj_2 + obj_3)\n",
    "\n",
    "    optimize!(model)\n",
    "\n",
    "    # Compute β\n",
    "\n",
    "    sparsity_indexes = findall(x->x>0, s)\n",
    "    X_s = X[:, sparsity_indexes]\n",
    "    λ_s = value.(λ)[sparsity_indexes]\n",
    "    β_s = (I/γ + X_s'X_s)^(-1)*(X_s'y + λ_s)\n",
    "    \n",
    "    β_pred = zeros(2*p)\n",
    "    β_pred[sparsity_indexes] = β_s\n",
    "    return β_pred, value.(λ), objective_value(model)\n",
    "    \n",
    "end"
   ]
  },
  {
   "cell_type": "code",
   "execution_count": 6,
   "metadata": {},
   "outputs": [
    {
     "data": {
      "text/plain": [
       "grad_g (generic function with 1 method)"
      ]
     },
     "execution_count": 6,
     "metadata": {},
     "output_type": "execute_result"
    }
   ],
   "source": [
    "function grad_g(s,X,y,λ,γ)\n",
    "    grad = zeros(2*p)\n",
    "    Z = Diagonal(s)\n",
    "    # Compute D\n",
    "    D = (I/γ + Z*M)^(-1)\n",
    "    # Compute norm\n",
    "\n",
    "    function compute_DED_square_norm(E,in_norm)\n",
    "        return in_norm' * D*E*D' * in_norm\n",
    "    end\n",
    "    for i in 1:2*p\n",
    "        E_ii = Diagonal([(j == i)*1 for j in 1:2*p])\n",
    "        grad[i] = t_α*λ'E_ii*σ_X - 0.5*compute_DED_square_norm(E_ii, X'y+ λ)\n",
    "    end\n",
    "    return grad\n",
    "end"
   ]
  },
  {
   "cell_type": "code",
   "execution_count": 7,
   "metadata": {},
   "outputs": [
    {
     "data": {
      "text/plain": [
       "dual (generic function with 1 method)"
      ]
     },
     "execution_count": 7,
     "metadata": {},
     "output_type": "execute_result"
    }
   ],
   "source": [
    "function dual(X,y,γ,k)\n",
    "    miop = create_gurobi_model()\n",
    "    @variable(miop, s[1:2*p], Bin)\n",
    "    @variable(miop, t)\n",
    "    @constraint(miop, sum(s) <= k)\n",
    "    @constraint(miop, [i=1:p], s[i]+s[p+i]<=1)\n",
    "    #initial linear constraint of cutting planes\n",
    "    s0 = zeros(2*p)\n",
    "    s0[1:k] .= 1\n",
    "    (β_0,λ,p0) = g(s0,X,y,γ)\n",
    "\n",
    "    ∇s0 = grad_g(s0,X,y,λ,γ)\n",
    "    \n",
    "    @constraint(miop, t >= p0 + dot(∇s0, s - s0))\n",
    "    @objective(miop, Min, t)\n",
    "    \n",
    "    function outer_approximation(cb_data)\n",
    "        s_val = [callback_value(cb_data, s[i]) for i=1:2*p]\n",
    "        (β_pred,λ,obj) = g(s_val,X,y,γ)\n",
    "        ∇s = grad_g(s_val,X,y,λ,γ)\n",
    "        offset = sum(∇s .* s_val)\n",
    "        con = @build_constraint(t >= obj + ∇s'*s - offset)\n",
    "        MOI.submit(miop, MOI.LazyConstraint(cb_data), con)\n",
    "    end\n",
    "    \n",
    "    MOI.set(miop, MOI.LazyConstraintCallback(), outer_approximation)\n",
    "    optimize!(miop)\n",
    "    \n",
    "    s_opt = JuMP.value.(s)\n",
    "    (β_pred,λ,obj) = g(s_opt,X,y,γ)\n",
    "    return s_opt, β_pred, objective_value(miop)\n",
    "end"
   ]
  },
  {
   "cell_type": "code",
   "execution_count": 11,
   "metadata": {
    "scrolled": true
   },
   "outputs": [
    {
     "data": {
      "text/plain": [
       "([-0.0, -0.0, -0.0, -0.0, -0.0, -0.0, -0.0, -0.0, 1.0, -0.0, 0.0, -0.0, -0.0, -0.0, 1.0, -0.0, 1.0, 1.0, -0.0, 1.0], [0.0, 0.0, 0.0, 0.0, 0.0, 0.0, 0.0, 0.0, 2.50903, 0.0, 0.0, 0.0, 0.0, 0.0, 16.1047, 0.0, 26.7265, 4.49984, 0.0, 1.68358], 50.493063728611844)"
      ]
     },
     "execution_count": 11,
     "metadata": {},
     "output_type": "execute_result"
    }
   ],
   "source": [
    "s_opt, β_pred, obj = dual(X,y,γ,k)"
   ]
  },
  {
   "cell_type": "code",
   "execution_count": 12,
   "metadata": {},
   "outputs": [
    {
     "data": {
      "text/plain": [
       "20×2 Array{Float64,2}:\n",
       "  0.0       0.0    \n",
       "  0.0       0.0    \n",
       "  0.0       0.0    \n",
       "  0.0       0.0    \n",
       "  0.0       0.0    \n",
       "  0.0       0.0    \n",
       "  0.0       0.0    \n",
       "  0.0       0.0    \n",
       "  2.64798   2.50903\n",
       "  0.0       0.0    \n",
       "  0.0       0.0    \n",
       "  0.0       0.0    \n",
       "  0.0       0.0    \n",
       "  0.0       0.0    \n",
       " 16.2361   16.1047 \n",
       "  0.0       0.0    \n",
       " 26.9009   26.7265 \n",
       "  4.46339   4.49984\n",
       "  0.0       0.0    \n",
       "  1.59877   1.68358"
      ]
     },
     "execution_count": 12,
     "metadata": {},
     "output_type": "execute_result"
    }
   ],
   "source": [
    "hcat(β_true, β_pred)"
   ]
  },
  {
   "cell_type": "code",
   "execution_count": null,
   "metadata": {},
   "outputs": [],
   "source": []
  },
  {
   "cell_type": "code",
   "execution_count": null,
   "metadata": {},
   "outputs": [],
   "source": []
  },
  {
   "cell_type": "code",
   "execution_count": null,
   "metadata": {},
   "outputs": [],
   "source": []
  },
  {
   "cell_type": "code",
   "execution_count": null,
   "metadata": {},
   "outputs": [],
   "source": []
  },
  {
   "cell_type": "code",
   "execution_count": null,
   "metadata": {},
   "outputs": [],
   "source": []
  },
  {
   "cell_type": "code",
   "execution_count": null,
   "metadata": {},
   "outputs": [],
   "source": []
  },
  {
   "cell_type": "code",
   "execution_count": 239,
   "metadata": {},
   "outputs": [
    {
     "data": {
      "text/plain": [
       "get_primal (generic function with 1 method)"
      ]
     },
     "execution_count": 239,
     "metadata": {},
     "output_type": "execute_result"
    }
   ],
   "source": [
    "function get_primal(γ)\n",
    "    model = create_gurobi_model()\n",
    "\n",
    "    big_M = 1000\n",
    "    big_M_sig = 1000\n",
    "\n",
    "    @variable(model, β[i=1:p])\n",
    "    @variable(model, s[i=1:p], Bin)\n",
    "    @variable(model, b[i=1:p], Bin)\n",
    "\n",
    "    @constraint(model, sum(s) <= k)\n",
    "    @constraint(model, [i=1:p], β[i] <= big_M*s[i])\n",
    "    @constraint(model, [i=1:p], β[i] >= -big_M*s[i])\n",
    "\n",
    "    @constraint(model, [i=1:p], β[i]/σ_X_p[i] + big_M_sig*b[i] >= t_α*s[i])\n",
    "    @constraint(model, [i=1:p], -β[i]/σ_X_p[i] + big_M_sig*(1-b[i]) >= t_α*s[i])\n",
    "\n",
    "    @objective(model, Min, 0.5*sum((y[i] - X_p[i,:]'β)^2 for i=1:p) + 1/(2*γ) * sum(β[i]^2 for i=1:p))\n",
    "#    @objective(model, Min, 0.5*sum((y[i] - X[i,:]'β)^2 for i=1:p))\n",
    "\n",
    "    optimize!(model)\n",
    "    \n",
    "    cat = DataFrame(b = value.(b), β=value.(β), s=value.(s))\n",
    "    \n",
    "    return objective_value(model), value.(β), cat\n",
    "end"
   ]
  },
  {
   "cell_type": "code",
   "execution_count": 240,
   "metadata": {},
   "outputs": [
    {
     "data": {
      "text/plain": [
       "get_insample_R2 (generic function with 1 method)"
      ]
     },
     "execution_count": 240,
     "metadata": {},
     "output_type": "execute_result"
    }
   ],
   "source": [
    "function get_insample_R2(y_pred, y_true)\n",
    "    TSE = sum((y_pred[i]-y_true[i])^2 for i=1:p)\n",
    "    baseline_E = sum((sum(y_true)/length(y_true)-y_true[i])^2 for i=1:p)\n",
    "    return 1 - TSE/baseline_E\n",
    "end"
   ]
  },
  {
   "cell_type": "code",
   "execution_count": 241,
   "metadata": {},
   "outputs": [
    {
     "data": {
      "text/plain": [
       "get_OR2 (generic function with 1 method)"
      ]
     },
     "execution_count": 241,
     "metadata": {},
     "output_type": "execute_result"
    }
   ],
   "source": [
    "function get_OR2(y_pred, y_true, y_train)\n",
    "    TSE = sum((y_pred[i]-y_true[i])^2 for i=1:p)\n",
    "    baseline_E = sum((sum(y_train)/length(y_train)-y_true[i])^2 for i=1:p)\n",
    "    return 1 - TSE/baseline_E\n",
    "end"
   ]
  },
  {
   "cell_type": "code",
   "execution_count": 242,
   "metadata": {},
   "outputs": [
    {
     "data": {
      "text/plain": [
       "(-17.969264130473903, [0.0, 0.0335249, 0.0, 0.0332135, 1.11327e-12, 0.0334871, 0.0332761, 0.0, 0.0, 0.0331722], 10×3 DataFrame\n",
       "│ Row │ b       │ β           │ s           │\n",
       "│     │ \u001b[90mFloat64\u001b[39m │ \u001b[90mFloat64\u001b[39m     │ \u001b[90mFloat64\u001b[39m     │\n",
       "├─────┼─────────┼─────────────┼─────────────┤\n",
       "│ 1   │ -0.0    │ 0.0         │ -0.0        │\n",
       "│ 2   │ -0.0    │ 0.0335249   │ 1.0         │\n",
       "│ 3   │ -0.0    │ 0.0         │ -0.0        │\n",
       "│ 4   │ -0.0    │ 0.0332135   │ 1.0         │\n",
       "│ 5   │ -0.0    │ 1.11327e-12 │ 3.35002e-11 │\n",
       "│ 6   │ -0.0    │ 0.0334871   │ 1.0         │\n",
       "│ 7   │ -0.0    │ 0.0332761   │ 1.0         │\n",
       "│ 8   │ -0.0    │ 0.0         │ -0.0        │\n",
       "│ 9   │ -0.0    │ 0.0         │ -0.0        │\n",
       "│ 10  │ -0.0    │ 0.0331722   │ 1.0         │)"
      ]
     },
     "execution_count": 242,
     "metadata": {},
     "output_type": "execute_result"
    }
   ],
   "source": [
    "obj, get_primal(γ)"
   ]
  },
  {
   "cell_type": "code",
   "execution_count": null,
   "metadata": {},
   "outputs": [],
   "source": []
  }
 ],
 "metadata": {
  "kernelspec": {
   "display_name": "Julia 1.0.5",
   "language": "julia",
   "name": "julia-1.0"
  },
  "language_info": {
   "file_extension": ".jl",
   "mimetype": "application/julia",
   "name": "julia",
   "version": "1.0.5"
  },
  "toc": {
   "base_numbering": 1,
   "nav_menu": {},
   "number_sections": true,
   "sideBar": true,
   "skip_h1_title": false,
   "title_cell": "Table of Contents",
   "title_sidebar": "Contents",
   "toc_cell": false,
   "toc_position": {},
   "toc_section_display": true,
   "toc_window_display": false
  }
 },
 "nbformat": 4,
 "nbformat_minor": 4
}
