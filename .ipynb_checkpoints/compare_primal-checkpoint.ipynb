{
 "cells": [
  {
   "cell_type": "markdown",
   "metadata": {},
   "source": [
    "# A Dual Approach to Holistic Regression"
   ]
  },
  {
   "cell_type": "markdown",
   "metadata": {},
   "source": [
    "## 2021.02.14 — Compare primal"
   ]
  },
  {
   "cell_type": "code",
   "execution_count": 1,
   "metadata": {},
   "outputs": [
    {
     "name": "stderr",
     "output_type": "stream",
     "text": [
      "┌ Info: Recompiling stale cache file /home/skand/.julia/compiled/v1.0/DataFrames/AR9oZ.ji for DataFrames [a93c6f00-e57d-5684-b7b6-d8193f3e46c0]\n",
      "└ @ Base loading.jl:1190\n"
     ]
    }
   ],
   "source": [
    "using Random, Distributions\n",
    "using LinearAlgebra\n",
    "using Gurobi, JuMP\n",
    "using DataFrames"
   ]
  },
  {
   "cell_type": "code",
   "execution_count": 2,
   "metadata": {},
   "outputs": [
    {
     "name": "stdout",
     "output_type": "stream",
     "text": [
      "Academic license - for non-commercial use only\n"
     ]
    }
   ],
   "source": [
    "# Create a gurobi model without the annoying academic license message\n",
    "gurobi_env = Gurobi.Env()\n",
    "function create_gurobi_model(; TimeLimit=-1, LogFile=\"logs.txt\")\n",
    "    model = Model(optimizer_with_attributes(() -> Gurobi.Optimizer(gurobi_env)));\n",
    "    if TimeLimit >= 0\n",
    "        println(\"Set Gurobi TimeLimit.\")\n",
    "        set_optimizer_attribute(model, \"TimeLimit\", TimeLimit)\n",
    "    end\n",
    "    set_optimizer_attribute(model, \"LogFile\", LogFile)\n",
    "    set_optimizer_attribute(model, \"OutputFlag\", 0)\n",
    "    return model\n",
    "end;"
   ]
  },
  {
   "cell_type": "markdown",
   "metadata": {},
   "source": [
    "## 1. Data and parameters"
   ]
  },
  {
   "cell_type": "code",
   "execution_count": 91,
   "metadata": {},
   "outputs": [
    {
     "data": {
      "text/plain": [
       "5"
      ]
     },
     "execution_count": 91,
     "metadata": {},
     "output_type": "execute_result"
    }
   ],
   "source": [
    "Random.seed!(2021)\n",
    "\n",
    "# Params\n",
    "ϵ = 10^(-15)\n",
    "n, p = 100, 10\n",
    "\n",
    "# Robustness\n",
    "γ = 1\n",
    "\n",
    "# Significance\n",
    "t_α = 1 - quantile(TDist(n-p), 0.01/2) # Beware: n-p-1 if we add intercept\n",
    "\n",
    "\n",
    "\n",
    "# Data\n",
    "X = rand(n, p)\n",
    "β_true = [rand([0,1])*randn()*10 for i in 1:p]\n",
    "σ_noise = 0.01\n",
    "\n",
    "#y = rand(n)\n",
    "y = X*β_true + [randn() for i in 1:n] * σ_noise\n",
    "\n",
    "# Test\n",
    "X_test = rand(n, p)\n",
    "y_test = X_test*β_true + [randn() for i in 1:n] * σ_noise\n",
    "\n",
    "# Variance estimator\n",
    "M = X'X\n",
    "M_inv = M^-1\n",
    "σ_tilde = sqrt((y'*(I - X*M_inv*X')*y)/(n-p))\n",
    "σ_X = σ_tilde * sqrt.(diag(M_inv))\n",
    "\n",
    "# Sparsity\n",
    "k = length(findall(x->x!=0, β_true))"
   ]
  },
  {
   "cell_type": "code",
   "execution_count": 92,
   "metadata": {},
   "outputs": [
    {
     "data": {
      "text/plain": [
       "(3.6315651655871584, [0.00312396, 0.00322355, 0.00338964, 0.00306998, 0.00346651, 0.00323054, 0.00293714, 0.00296826, 0.00354955, 0.00318882])"
      ]
     },
     "execution_count": 92,
     "metadata": {},
     "output_type": "execute_result"
    }
   ],
   "source": [
    "t_α, σ_X"
   ]
  },
  {
   "cell_type": "markdown",
   "metadata": {},
   "source": [
    "## 1. Primal formulation"
   ]
  },
  {
   "cell_type": "code",
   "execution_count": 93,
   "metadata": {},
   "outputs": [
    {
     "data": {
      "text/plain": [
       "get_primal (generic function with 1 method)"
      ]
     },
     "execution_count": 93,
     "metadata": {},
     "output_type": "execute_result"
    }
   ],
   "source": [
    "function get_primal(γ)\n",
    "    model = create_gurobi_model()\n",
    "\n",
    "    big_M = 10000\n",
    "    big_M_sig = 10000\n",
    "\n",
    "    @variable(model, β[i=1:p])\n",
    "    @variable(model, s[i=1:p], Bin)\n",
    "    @variable(model, b[i=1:p], Bin)\n",
    "\n",
    "    @constraint(model, sum(s) <= k)\n",
    "    @constraint(model, [i=1:p], β[i] <= big_M*s[i])\n",
    "    @constraint(model, [i=1:p], β[i] >= -big_M*s[i])\n",
    "\n",
    "    @constraint(model, [i=1:p], β[i]/σ_X[i] + big_M_sig*b[i] >= t_α*s[i])\n",
    "    @constraint(model, [i=1:p], -β[i]/σ_X[i] + big_M_sig*(1-b[i]) >= t_α*s[i])\n",
    "\n",
    "    @objective(model, Min, 0.5*sum((y[i] - X[i,:]'β)^2 for i=1:p) + 1/(2*γ) * sum(β[i]^2 for i=1:p))\n",
    "#    @objective(model, Min, 0.5*sum((y[i] - X[i,:]'β)^2 for i=1:p))\n",
    "\n",
    "    optimize!(model)\n",
    "    \n",
    "    cat = DataFrame(b = value.(b), β=value.(β), s=value.(s))\n",
    "    \n",
    "    return objective_value(model) - 0.5*sum(y[i]^2 for i=1:p), value.(β), cat\n",
    "end"
   ]
  },
  {
   "cell_type": "code",
   "execution_count": 94,
   "metadata": {},
   "outputs": [
    {
     "data": {
      "text/plain": [
       "get_insample_R2 (generic function with 1 method)"
      ]
     },
     "execution_count": 94,
     "metadata": {},
     "output_type": "execute_result"
    }
   ],
   "source": [
    "function get_insample_R2(y_pred, y_true)\n",
    "    TSE = sum((y_pred[i]-y_true[i])^2 for i=1:p)\n",
    "    baseline_E = sum((sum(y_true)/length(y_true)-y_true[i])^2 for i=1:p)\n",
    "    return 1 - TSE/baseline_E\n",
    "end"
   ]
  },
  {
   "cell_type": "code",
   "execution_count": 95,
   "metadata": {},
   "outputs": [
    {
     "data": {
      "text/plain": [
       "get_OR2 (generic function with 1 method)"
      ]
     },
     "execution_count": 95,
     "metadata": {},
     "output_type": "execute_result"
    }
   ],
   "source": [
    "function get_OR2(y_pred, y_true, y_train)\n",
    "    TSE = sum((y_pred[i]-y_true[i])^2 for i=1:p)\n",
    "    baseline_E = sum((sum(y_train)/length(y_train)-y_true[i])^2 for i=1:p)\n",
    "    return 1 - TSE/baseline_E\n",
    "end"
   ]
  },
  {
   "cell_type": "code",
   "execution_count": null,
   "metadata": {},
   "outputs": [],
   "source": []
  },
  {
   "cell_type": "code",
   "execution_count": null,
   "metadata": {},
   "outputs": [],
   "source": []
  },
  {
   "cell_type": "code",
   "execution_count": null,
   "metadata": {},
   "outputs": [],
   "source": []
  },
  {
   "cell_type": "markdown",
   "metadata": {},
   "source": [
    "## 2. Gradient Descent and Projection"
   ]
  },
  {
   "cell_type": "code",
   "execution_count": null,
   "metadata": {},
   "outputs": [],
   "source": []
  },
  {
   "cell_type": "code",
   "execution_count": null,
   "metadata": {},
   "outputs": [],
   "source": []
  },
  {
   "cell_type": "code",
   "execution_count": 96,
   "metadata": {},
   "outputs": [
    {
     "data": {
      "text/plain": [
       "get_max_inner (generic function with 1 method)"
      ]
     },
     "execution_count": 96,
     "metadata": {},
     "output_type": "execute_result"
    }
   ],
   "source": [
    "function get_max_inner(s_plus, s_minus, γ)\n",
    "    \n",
    "    # Get s\n",
    "    s = s_plus + s_minus\n",
    "    \n",
    "    # Compute matrices\n",
    "    Z = Diagonal(s)\n",
    "    Z_plus = Diagonal(s_plus)\n",
    "    Z_minus = Diagonal(s_minus)\n",
    "    \n",
    "    # Compute D\n",
    "    D = (I/γ + Z*M)^-1\n",
    "    \n",
    "    # Compute u_Z\n",
    "    function compute_u_Z(λ_plus, λ_minus, μ)\n",
    "        Z_minus*(λ_minus + μ) - Z_plus*(λ_plus + μ)\n",
    "    end\n",
    "\n",
    "    # Compute norm\n",
    "    function compute_DZ_square_norm(in_norm)\n",
    "        return in_norm' * D*Z * in_norm\n",
    "    end\n",
    "    \n",
    "    # Compute max\n",
    "    model = create_gurobi_model()\n",
    "\n",
    "    @variable(model, λ_plus[1:p] >= 0)\n",
    "    @variable(model, λ_minus[1:p] >= 0)\n",
    "    @variable(model, μ[1:p] >= 0)\n",
    "\n",
    "    u_Z = compute_u_Z(λ_plus, λ_minus, μ)\n",
    "    \n",
    "    obj_1 = ϵ*sum(s_plus.*λ_plus + s_minus.*λ_minus)\n",
    "    obj_2 = t_α*μ'*(s.*σ_X)\n",
    "    obj_3 = - 0.5 * compute_DZ_square_norm(X'y - u_Z)\n",
    "\n",
    "    @objective(model, Max, obj_1 + obj_2 + obj_3)\n",
    "\n",
    "    optimize!(model)\n",
    "\n",
    "    # Compute β\n",
    "    u_Z = compute_u_Z(value.(λ_plus), value.(λ_minus), value.(μ))\n",
    "    sparsity_indexes = findall(x->x==1, s)\n",
    "\n",
    "    X_s = X[:, sparsity_indexes]\n",
    "    u_Z_s = u_Z[sparsity_indexes]\n",
    "    \n",
    "    β_s = ((I / γ) + X_s'X_s)^(-1)*(X_s'y - u_Z_s)\n",
    "    \n",
    "    β_pred = zeros(p)\n",
    "    β_pred[sparsity_indexes] = β_s\n",
    "    \n",
    "    return β_pred, objective_value(model)\n",
    "    \n",
    "end"
   ]
  },
  {
   "cell_type": "code",
   "execution_count": 97,
   "metadata": {},
   "outputs": [
    {
     "data": {
      "text/plain": [
       "compute_gradient (generic function with 1 method)"
      ]
     },
     "execution_count": 97,
     "metadata": {},
     "output_type": "execute_result"
    }
   ],
   "source": [
    "function compute_gradient(s, γ)\n",
    "\n",
    "    ∇f = []\n",
    "    β_pred, max_obj_value = get_max_inner(s[1:p], s[p+1:end], γ)\n",
    "    \n",
    "    for i in 1:2p\n",
    "        h = 10^-10\n",
    "        s_bis = [s[j] - h*(i == j) for j=1:2p]\n",
    "        ∂f_i = (max_obj_value - get_max_inner(s_bis[1:p], s_bis[p+1:end], γ)[2]) / h\n",
    "        push!(∇f, ∂f_i)\n",
    "    end\n",
    "    \n",
    "    return β_pred, max_obj_value, ∇f\n",
    "end"
   ]
  },
  {
   "cell_type": "code",
   "execution_count": 98,
   "metadata": {},
   "outputs": [
    {
     "data": {
      "text/plain": [
       "step_gradient_descent (generic function with 1 method)"
      ]
     },
     "execution_count": 98,
     "metadata": {},
     "output_type": "execute_result"
    }
   ],
   "source": [
    "function step_gradient_descent(s, α, γ)\n",
    "    β_pred, max_obj_value, ∇f = compute_gradient(s, γ)\n",
    "    return β_pred, max_obj_value, s - α * (∇f / sqrt(sum(e^2 for e in ∇f)))\n",
    "end"
   ]
  },
  {
   "cell_type": "code",
   "execution_count": 99,
   "metadata": {},
   "outputs": [
    {
     "data": {
      "text/plain": [
       "step_gradient_descent_and_projection (generic function with 1 method)"
      ]
     },
     "execution_count": 99,
     "metadata": {},
     "output_type": "execute_result"
    }
   ],
   "source": [
    "function step_gradient_descent_and_projection(s, α, γ)\n",
    "\n",
    "    # Gradient Descent step\n",
    "    β_pred, max_obj_value, s_gd = step_gradient_descent(s, α, γ)\n",
    "\n",
    "    # Projection\n",
    "    model = create_gurobi_model()\n",
    "    @variable(model, s_proj[1:2p], Bin)\n",
    "    for i in 1:p\n",
    "        @constraint(model, s_proj[[i,p+i]] in MOI.SOS1([i,p+i]))\n",
    "    end\n",
    "    @constraint(model, sum(s_proj) <= k) # Sparsity\n",
    "    @objective(model, Min, sum((s_proj[i] - s_gd[i])^2 for i in 1:2p))\n",
    "    optimize!(model)\n",
    "    \n",
    "    return max_obj_value, β_pred, value.(s_proj)\n",
    "    \n",
    "end"
   ]
  },
  {
   "cell_type": "code",
   "execution_count": 100,
   "metadata": {
    "jupyter": {
     "source_hidden": true
    }
   },
   "outputs": [
    {
     "data": {
      "text/plain": [
       "step_gradient_descent_and_projection_relaxed (generic function with 1 method)"
      ]
     },
     "execution_count": 100,
     "metadata": {},
     "output_type": "execute_result"
    }
   ],
   "source": [
    "function step_gradient_descent_and_projection_relaxed(s, α)\n",
    "\n",
    "    # Gradient Descent step\n",
    "    β_pred, max_obj_value, s_gd = step_gradient_descent(s, α)\n",
    "\n",
    "    # Projection\n",
    "    model = create_gurobi_model()\n",
    "    @variable(model, 0 <= s_proj[1:2p] <= 1)\n",
    "    @variable(model, b[1:2p], Bin)   \n",
    "    @constraint(model, [i=1:2p], s_proj[i] <= b[i])\n",
    "    @constraint(model, [i=1:2p], s_proj[i] >= ϵ*b[i])\n",
    "    for i in 1:p\n",
    "        @constraint(model, b[[i,p+i]] in MOI.SOS1([i,p+i]))\n",
    "    end\n",
    "    @constraint(model, sum(b) <= k) # Sparsity\n",
    "    @objective(model, Min, sum((s_proj[i] - s_gd[i])^2 for i in 1:2p))\n",
    "    optimize!(model)\n",
    "    \n",
    "    return max_obj_value, β_pred, value.(s_proj)\n",
    "    \n",
    "end"
   ]
  },
  {
   "cell_type": "markdown",
   "metadata": {},
   "source": [
    "### 4. Get initial feasible solution"
   ]
  },
  {
   "cell_type": "code",
   "execution_count": 101,
   "metadata": {},
   "outputs": [
    {
     "data": {
      "text/plain": [
       "get_initial_solution (generic function with 1 method)"
      ]
     },
     "execution_count": 101,
     "metadata": {},
     "output_type": "execute_result"
    }
   ],
   "source": [
    "function get_initial_solution()\n",
    "        \n",
    "    s_plus = zeros(p)\n",
    "    s_minus = zeros(p)\n",
    "\n",
    "    indexes_plus = sample(1:p, div(k,2), replace = false)\n",
    "    indexes_minus = sample([i for i=1:p if !(i in indexes_plus)], k - div(k,2), replace = false)\n",
    "\n",
    "    s_plus[indexes_plus] .= 1\n",
    "    s_minus[indexes_minus] .= 1;\n",
    "    \n",
    "    return [s_plus; s_minus]\n",
    "end"
   ]
  },
  {
   "cell_type": "code",
   "execution_count": 102,
   "metadata": {},
   "outputs": [
    {
     "data": {
      "text/plain": [
       "find_solution_gd_and_proj (generic function with 1 method)"
      ]
     },
     "execution_count": 102,
     "metadata": {},
     "output_type": "execute_result"
    }
   ],
   "source": [
    "function find_solution_gd_and_proj(s_init, α, γ)\n",
    "    last_s = nothing\n",
    "    new_s = s_init\n",
    "    iter = 0\n",
    "\n",
    "    while(last_s == nothing || new_s != last_s)\n",
    "        iter += 1\n",
    "        last_s = new_s\n",
    "        max_obj_value, β_pred, new_s = step_gradient_descent_and_projection(last_s, α, γ)\n",
    "\n",
    "        if iter > 100\n",
    "            break\n",
    "        end\n",
    "    end\n",
    "    \n",
    "    max_obj, β_pred, _ = step_gradient_descent_and_projection(new_s, α, γ);\n",
    "    \n",
    "    return max_obj, β_pred\n",
    "end"
   ]
  },
  {
   "cell_type": "code",
   "execution_count": 121,
   "metadata": {},
   "outputs": [
    {
     "name": "stdout",
     "output_type": "stream",
     "text": [
      "0.001 -3403.832361220223\n",
      "\tIn Sample: -1.943599176464573\n",
      "\tOut of Sample: -2.4377176212331766\n",
      "0.1 -26393.974915951036\n",
      "\tIn Sample: 0.8766963253502406\n",
      "\tOut of Sample: 0.877158979630224\n",
      "0.2 -27837.622203206036\n",
      "\tIn Sample: 0.9385843040300765\n",
      "\tOut of Sample: 0.9425460689049362\n",
      "0.5 -28909.619426104724\n",
      "\tIn Sample: 0.9804601682595673\n",
      "\tOut of Sample: 0.981981660653384\n",
      "1.0 -29344.246031738014\n",
      "\tIn Sample: 0.9896869675390619\n",
      "\tOut of Sample: 0.9910293736294489\n",
      "100.0 -29815.171460514608\n",
      "\tIn Sample: 0.996670721448507\n",
      "\tOut of Sample: 0.9970969666366202\n"
     ]
    }
   ],
   "source": [
    "for γ in [0.001, 0.1, 0.2, 0.5, 1, 100]\n",
    "    best_max_obj = Inf\n",
    "    best_β_pred = nothing\n",
    "    for i in 1:100\n",
    "        s_init = get_initial_solution()\n",
    "        max_obj, β_pred = find_solution_gd_and_proj(s_init, p, γ)\n",
    "        if max_obj < best_max_obj\n",
    "            best_β_pred = β_pred\n",
    "            best_max_obj = max_obj\n",
    "        end\n",
    "#        println(max_obj)\n",
    "    end\n",
    "    println(γ, \" \", best_max_obj)\n",
    "    println(\"\\tIn Sample: \", get_insample_R2(X*best_β_pred, y))\n",
    "    println(\"\\tOut of Sample: \", get_OR2(X_test*best_β_pred, y_test, y))\n",
    "    #println(abs.(best_β_pred) ./ σ_X .>= t_α*(best_β_pred .!= 0))\n",
    "    #println(best_β_pred)\n",
    "end    \n",
    "#hcat(best_β_pred, β_true)"
   ]
  },
  {
   "cell_type": "code",
   "execution_count": 118,
   "metadata": {},
   "outputs": [
    {
     "name": "stdout",
     "output_type": "stream",
     "text": [
      "0.001 -22.42341978590639\n",
      "\tIn Sample: -2.97338909755844\n",
      "\tOut of Sample: -3.3373704442122545\n",
      "0.1 -879.3644124293118\n",
      "\tIn Sample: 0.10515172305187093\n",
      "\tOut of Sample: -0.4574483763810766\n",
      "0.2 -1103.3757343230707\n",
      "\tIn Sample: 0.5534921895338293\n",
      "\tOut of Sample: 0.03618051383474785\n",
      "0.5 -1312.45897152329\n",
      "\tIn Sample: 0.8255839322427999\n",
      "\tOut of Sample: 0.2559230040976147\n",
      "1.0 -1411.6904365352045\n",
      "\tIn Sample: 0.8900796706175342\n",
      "\tOut of Sample: 0.388740862659238\n",
      "100.0 -1557.623809715483\n",
      "\tIn Sample: 0.9984224907908025\n",
      "\tOut of Sample: 0.9730829766876243\n"
     ]
    },
    {
     "data": {
      "text/html": [
       "<table class=\"data-frame\"><thead><tr><th></th><th>b</th><th>β</th><th>s</th></tr><tr><th></th><th>Float64</th><th>Float64</th><th>Float64</th></tr></thead><tbody><p>10 rows × 3 columns</p><tr><th>1</th><td>1.0</td><td>-6.4802</td><td>1.0</td></tr><tr><th>2</th><td>0.0</td><td>0.0</td><td>0.0</td></tr><tr><th>3</th><td>1.0</td><td>0.0</td><td>0.0</td></tr><tr><th>4</th><td>1.0</td><td>-6.23201</td><td>1.0</td></tr><tr><th>5</th><td>1.0</td><td>-6.23852</td><td>1.0</td></tr><tr><th>6</th><td>0.0</td><td>0.0</td><td>0.0</td></tr><tr><th>7</th><td>1.0</td><td>-6.49663</td><td>1.0</td></tr><tr><th>8</th><td>1.0</td><td>0.0</td><td>0.0</td></tr><tr><th>9</th><td>1.0</td><td>-7.3912</td><td>1.0</td></tr><tr><th>10</th><td>0.0</td><td>0.0</td><td>0.0</td></tr></tbody></table>"
      ],
      "text/latex": [
       "\\begin{tabular}{r|ccc}\n",
       "\t& b & β & s\\\\\n",
       "\t\\hline\n",
       "\t& Float64 & Float64 & Float64\\\\\n",
       "\t\\hline\n",
       "\t1 & 1.0 & -6.4802 & 1.0 \\\\\n",
       "\t2 & 0.0 & 0.0 & 0.0 \\\\\n",
       "\t3 & 1.0 & 0.0 & 0.0 \\\\\n",
       "\t4 & 1.0 & -6.23201 & 1.0 \\\\\n",
       "\t5 & 1.0 & -6.23852 & 1.0 \\\\\n",
       "\t6 & 0.0 & 0.0 & 0.0 \\\\\n",
       "\t7 & 1.0 & -6.49663 & 1.0 \\\\\n",
       "\t8 & 1.0 & 0.0 & 0.0 \\\\\n",
       "\t9 & 1.0 & -7.3912 & 1.0 \\\\\n",
       "\t10 & 0.0 & 0.0 & 0.0 \\\\\n",
       "\\end{tabular}\n"
      ],
      "text/plain": [
       "10×3 DataFrame\n",
       "│ Row │ b       │ β        │ s       │\n",
       "│     │ \u001b[90mFloat64\u001b[39m │ \u001b[90mFloat64\u001b[39m  │ \u001b[90mFloat64\u001b[39m │\n",
       "├─────┼─────────┼──────────┼─────────┤\n",
       "│ 1   │ 1.0     │ -6.4802  │ 1.0     │\n",
       "│ 2   │ 0.0     │ 0.0      │ 0.0     │\n",
       "│ 3   │ 1.0     │ 0.0      │ 0.0     │\n",
       "│ 4   │ 1.0     │ -6.23201 │ 1.0     │\n",
       "│ 5   │ 1.0     │ -6.23852 │ 1.0     │\n",
       "│ 6   │ 0.0     │ 0.0      │ 0.0     │\n",
       "│ 7   │ 1.0     │ -6.49663 │ 1.0     │\n",
       "│ 8   │ 1.0     │ 0.0      │ 0.0     │\n",
       "│ 9   │ 1.0     │ -7.3912  │ 1.0     │\n",
       "│ 10  │ 0.0     │ 0.0      │ 0.0     │"
      ]
     },
     "execution_count": 118,
     "metadata": {},
     "output_type": "execute_result"
    }
   ],
   "source": [
    "for γ in [0.001, 0.1, 0.2, 0.5, 1, 100]\n",
    "    obj_value, β_pred_primal, a = get_primal(γ)\n",
    "    println(γ, \" \", obj_value)\n",
    "    println(\"\\tIn Sample: \", get_insample_R2(X*β_pred_primal, y))\n",
    "    println(\"\\tOut of Sample: \", get_OR2(X_test*β_pred_primal, y_test, y))\n",
    "end\n",
    "obj_value, β_pred_primal, a = get_primal(γ)\n",
    "a"
   ]
  },
  {
   "cell_type": "code",
   "execution_count": 127,
   "metadata": {},
   "outputs": [
    {
     "name": "stdout",
     "output_type": "stream",
     "text": [
      "γ=1\n",
      "\tR2 primal: 0.8900796706175342\n",
      "\tOR2 primal: 0.388740862659238\n",
      "\n",
      "\tR2 dual: 0.9598301818231438\n",
      "\tOR2 dual: 0.9345107211441972\n"
     ]
    }
   ],
   "source": [
    "# WITH S+, S- from PRIMAL\n",
    "γ = 1\n",
    "obj_value, β_pred_primal, df = get_primal(γ);\n",
    "s_plus = df.s .* (df.β .>= ϵ)\n",
    "s_minus = df.s .* (df.β .<= -ϵ)\n",
    "β_pred_dual, obj_dual = get_max_inner(s_plus, s_minus, γ)\n",
    "println(\"γ=\", γ)\n",
    "println(\"\\tR2 primal: \", get_insample_R2(X*β_pred_primal, y))\n",
    "println(\"\\tOR2 primal: \", get_OR2(X_test*β_pred_primal, y_test, y))\n",
    "println(\"\\n\\tR2 dual: \", get_insample_R2(X*β_pred_dual, y))\n",
    "println(\"\\tOR2 dual: \", get_OR2(X_test*β_pred_dual, y_test, y))"
   ]
  },
  {
   "cell_type": "code",
   "execution_count": 106,
   "metadata": {},
   "outputs": [
    {
     "data": {
      "text/html": [
       "<table class=\"data-frame\"><thead><tr><th></th><th>b</th><th>β</th><th>s</th></tr><tr><th></th><th>Float64</th><th>Float64</th><th>Float64</th></tr></thead><tbody><p>10 rows × 3 columns</p><tr><th>1</th><td>1.0</td><td>-6.4802</td><td>1.0</td></tr><tr><th>2</th><td>0.0</td><td>0.0</td><td>0.0</td></tr><tr><th>3</th><td>1.0</td><td>0.0</td><td>0.0</td></tr><tr><th>4</th><td>1.0</td><td>-6.23201</td><td>1.0</td></tr><tr><th>5</th><td>1.0</td><td>-6.23852</td><td>1.0</td></tr><tr><th>6</th><td>0.0</td><td>0.0</td><td>0.0</td></tr><tr><th>7</th><td>1.0</td><td>-6.49663</td><td>1.0</td></tr><tr><th>8</th><td>1.0</td><td>0.0</td><td>0.0</td></tr><tr><th>9</th><td>1.0</td><td>-7.3912</td><td>1.0</td></tr><tr><th>10</th><td>0.0</td><td>0.0</td><td>0.0</td></tr></tbody></table>"
      ],
      "text/latex": [
       "\\begin{tabular}{r|ccc}\n",
       "\t& b & β & s\\\\\n",
       "\t\\hline\n",
       "\t& Float64 & Float64 & Float64\\\\\n",
       "\t\\hline\n",
       "\t1 & 1.0 & -6.4802 & 1.0 \\\\\n",
       "\t2 & 0.0 & 0.0 & 0.0 \\\\\n",
       "\t3 & 1.0 & 0.0 & 0.0 \\\\\n",
       "\t4 & 1.0 & -6.23201 & 1.0 \\\\\n",
       "\t5 & 1.0 & -6.23852 & 1.0 \\\\\n",
       "\t6 & 0.0 & 0.0 & 0.0 \\\\\n",
       "\t7 & 1.0 & -6.49663 & 1.0 \\\\\n",
       "\t8 & 1.0 & 0.0 & 0.0 \\\\\n",
       "\t9 & 1.0 & -7.3912 & 1.0 \\\\\n",
       "\t10 & 0.0 & 0.0 & 0.0 \\\\\n",
       "\\end{tabular}\n"
      ],
      "text/plain": [
       "10×3 DataFrame\n",
       "│ Row │ b       │ β        │ s       │\n",
       "│     │ \u001b[90mFloat64\u001b[39m │ \u001b[90mFloat64\u001b[39m  │ \u001b[90mFloat64\u001b[39m │\n",
       "├─────┼─────────┼──────────┼─────────┤\n",
       "│ 1   │ 1.0     │ -6.4802  │ 1.0     │\n",
       "│ 2   │ 0.0     │ 0.0      │ 0.0     │\n",
       "│ 3   │ 1.0     │ 0.0      │ 0.0     │\n",
       "│ 4   │ 1.0     │ -6.23201 │ 1.0     │\n",
       "│ 5   │ 1.0     │ -6.23852 │ 1.0     │\n",
       "│ 6   │ 0.0     │ 0.0      │ 0.0     │\n",
       "│ 7   │ 1.0     │ -6.49663 │ 1.0     │\n",
       "│ 8   │ 1.0     │ 0.0      │ 0.0     │\n",
       "│ 9   │ 1.0     │ -7.3912  │ 1.0     │\n",
       "│ 10  │ 0.0     │ 0.0      │ 0.0     │"
      ]
     },
     "execution_count": 106,
     "metadata": {},
     "output_type": "execute_result"
    }
   ],
   "source": [
    "df"
   ]
  },
  {
   "cell_type": "code",
   "execution_count": 107,
   "metadata": {},
   "outputs": [
    {
     "data": {
      "text/plain": [
       "([0.0113449, 0.0117065, 0.0123097, 0.0111488, 0.0125888, -3.69252, -29.9698, -6.03724, -4.69128, 0.0], -28173.89410231351)"
      ]
     },
     "execution_count": 107,
     "metadata": {},
     "output_type": "execute_result"
    }
   ],
   "source": [
    "get_max_inner([1,1,1,1,1,0,0,0,0,0], [0,0,0,0,0, 1,1,1,1,0], γ)"
   ]
  },
  {
   "cell_type": "code",
   "execution_count": 108,
   "metadata": {},
   "outputs": [
    {
     "data": {
      "text/plain": [
       "10-element Array{Float64,1}:\n",
       "  -0.0               \n",
       "   0.0               \n",
       "   0.0               \n",
       "  -0.0               \n",
       " -16.2360673918447   \n",
       "  -0.0               \n",
       " -26.900916991523903 \n",
       "  -4.463388856106313 \n",
       "   2.647980578161075 \n",
       "  -1.5987715445258355"
      ]
     },
     "execution_count": 108,
     "metadata": {},
     "output_type": "execute_result"
    }
   ],
   "source": [
    "β_true"
   ]
  },
  {
   "cell_type": "code",
   "execution_count": 109,
   "metadata": {},
   "outputs": [
    {
     "data": {
      "text/plain": [
       "10-element Array{Float64,1}:\n",
       " 0.0031239624761478   \n",
       " 0.0032235474540738855\n",
       " 0.0033896360535556327\n",
       " 0.0030699817424625223\n",
       " 0.0034665074837425267\n",
       " 0.003230544789483457 \n",
       " 0.0029371369382087224\n",
       " 0.0029682618566973435\n",
       " 0.003549554818276939 \n",
       " 0.0031888228239923913"
      ]
     },
     "execution_count": 109,
     "metadata": {},
     "output_type": "execute_result"
    }
   ],
   "source": [
    "σ_X"
   ]
  },
  {
   "cell_type": "code",
   "execution_count": 110,
   "metadata": {},
   "outputs": [
    {
     "data": {
      "text/plain": [
       "1561.9629197301247"
      ]
     },
     "execution_count": 110,
     "metadata": {},
     "output_type": "execute_result"
    }
   ],
   "source": [
    "0.5*sum(y[i]^2 for i=1:p)"
   ]
  },
  {
   "cell_type": "code",
   "execution_count": null,
   "metadata": {},
   "outputs": [],
   "source": []
  }
 ],
 "metadata": {
  "kernelspec": {
   "display_name": "Julia 1.0.5",
   "language": "julia",
   "name": "julia-1.0"
  },
  "language_info": {
   "file_extension": ".jl",
   "mimetype": "application/julia",
   "name": "julia",
   "version": "1.0.5"
  },
  "toc": {
   "base_numbering": 1,
   "nav_menu": {},
   "number_sections": true,
   "sideBar": true,
   "skip_h1_title": false,
   "title_cell": "Table of Contents",
   "title_sidebar": "Contents",
   "toc_cell": false,
   "toc_position": {},
   "toc_section_display": true,
   "toc_window_display": false
  }
 },
 "nbformat": 4,
 "nbformat_minor": 4
}
