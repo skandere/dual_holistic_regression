{
 "cells": [
  {
   "cell_type": "code",
   "execution_count": 3,
   "metadata": {},
   "outputs": [],
   "source": [
    "using Random, Distributions\n",
    "using LinearAlgebra\n",
    "using Gurobi, JuMP\n",
    "using DataFrames\n",
    "using CSV\n",
    "using StatsBase\n",
    "using Plots\n",
    "using ProfileSVG"
   ]
  },
  {
   "cell_type": "code",
   "execution_count": 4,
   "metadata": {},
   "outputs": [],
   "source": [
    "using Profile"
   ]
  },
  {
   "cell_type": "code",
   "execution_count": 5,
   "metadata": {},
   "outputs": [
    {
     "name": "stdout",
     "output_type": "stream",
     "text": [
      "\n",
      "--------------------------------------------\n",
      "Warning: your license will expire in 6 days\n",
      "--------------------------------------------\n",
      "\n",
      "Academic license - for non-commercial use only\n"
     ]
    }
   ],
   "source": [
    "# Create a gurobi model without the annoying academic license message\n",
    "gurobi_env = Gurobi.Env()\n",
    "function create_gurobi_model(; TimeLimit=-1, LogFile=nothing)\n",
    "    model = Model(optimizer_with_attributes(() -> Gurobi.Optimizer(gurobi_env)));\n",
    "    if TimeLimit >= 0\n",
    "        println(\"Set Gurobi TimeLimit.\")\n",
    "        set_optimizer_attribute(model, \"TimeLimit\", TimeLimit)\n",
    "    end\n",
    "    if LogFile != nothing\n",
    "        println(\"LogFile: $(LogFile).\")\n",
    "        set_optimizer_attribute(model, \"LogFile\", LogFile)\n",
    "    else\n",
    "        set_optimizer_attribute(model, \"OutputFlag\", 0)\n",
    "    end\n",
    "    set_optimizer_attribute(model, \"NumericFocus\", 3)\n",
    "    set_optimizer_attribute(model, \"Threads\", 4)\n",
    "    return model\n",
    "end;"
   ]
  },
  {
   "cell_type": "markdown",
   "metadata": {},
   "source": [
    "_____\n",
    "# Dual Holistic Regression | Benchmark"
   ]
  },
  {
   "cell_type": "markdown",
   "metadata": {},
   "source": [
    "## Primal"
   ]
  },
  {
   "cell_type": "code",
   "execution_count": 6,
   "metadata": {},
   "outputs": [
    {
     "data": {
      "text/plain": [
       "compute_primal (generic function with 1 method)"
      ]
     },
     "execution_count": 6,
     "metadata": {},
     "output_type": "execute_result"
    }
   ],
   "source": [
    "function compute_primal(X, y, k, γ, t_α, σ_X,log_path)\n",
    "    \n",
    "    n, p = size(X)\n",
    "    \n",
    "    model = create_gurobi_model(LogFile=log_path)\n",
    "\n",
    "    # TODO: change big-M values\n",
    "    M1 = 1000\n",
    "    M2 = 1000\n",
    "\n",
    "    @variable(model, β[i=1:p])\n",
    "    @variable(model, s[i=1:p], Bin)\n",
    "    @variable(model, b[i=1:p], Bin)\n",
    "\n",
    "    @constraint(model, sum(s) <= k)\n",
    "    \n",
    "    @constraint(model, [i=1:p], β[i] <= M1*s[i])\n",
    "    @constraint(model, [i=1:p], β[i] >= -M1*s[i])\n",
    "\n",
    "    @constraint(model, [i=1:p], β[i]/σ_X[i] + M2*b[i] >= t_α*s[i])\n",
    "    @constraint(model, [i=1:p], -β[i]/σ_X[i] + M2*(1-b[i]) >= t_α*s[i])\n",
    "\n",
    "    @objective(model, Min, 0.5*sum((y[i] - X[i,:]'β)^2 for i=1:n) + (0.5/γ)* sum(β[j]^2 for j=1:p))\n",
    "    optimize!(model)\n",
    "    \n",
    "    return objective_value(model), value.(β)\n",
    "end"
   ]
  },
  {
   "cell_type": "markdown",
   "metadata": {},
   "source": [
    "_____\n",
    "## Dual"
   ]
  },
  {
   "cell_type": "code",
   "execution_count": 7,
   "metadata": {},
   "outputs": [
    {
     "data": {
      "text/plain": [
       "g (generic function with 1 method)"
      ]
     },
     "execution_count": 7,
     "metadata": {},
     "output_type": "execute_result"
    }
   ],
   "source": [
    "function g(s, X, y, D, Z, γ, t_α, σ_X)\n",
    "    \n",
    "    # Get size\n",
    "    n, p = size(X)\n",
    "    \n",
    "    # Compute norm\n",
    "    function compute_DZ_square_norm(in_norm)\n",
    "        return in_norm' * D*Z * in_norm\n",
    "    end\n",
    "    \n",
    "    # Compute max\n",
    "    model = create_gurobi_model()\n",
    "    @variable(model, λ[1:p] >= 0)\n",
    "    \n",
    "    obj_1 = 0.5*y'y\n",
    "    obj_2 = t_α*λ'*(s.*σ_X)\n",
    "    obj_3 = - 0.5 * compute_DZ_square_norm(X'y + λ)\n",
    "    @objective(model, Max, obj_2 + obj_3)\n",
    "\n",
    "    optimize!(model)\n",
    "\n",
    "    # Compute β\n",
    "    sparsity_indexes = findall(x->x>0, s)\n",
    "    X_s = X[:, sparsity_indexes]\n",
    "    λ_s = value.(λ)[sparsity_indexes]\n",
    "    β_s = (I/γ + X_s'X_s)^(-1)*(X_s'y + λ_s)\n",
    "    \n",
    "    β_pred = zeros(p)\n",
    "    β_pred[sparsity_indexes] = β_s\n",
    "    return β_pred, value.(λ), objective_value(model) + obj_1\n",
    "    \n",
    "end"
   ]
  },
  {
   "cell_type": "code",
   "execution_count": 8,
   "metadata": {},
   "outputs": [
    {
     "data": {
      "text/plain": [
       "∇g (generic function with 1 method)"
      ]
     },
     "execution_count": 8,
     "metadata": {},
     "output_type": "execute_result"
    }
   ],
   "source": [
    "function ∇g(s, λ, X, y, D, t_α, σ_X)\n",
    "    n,p = size(X)\n",
    "    grad = zeros(p)\n",
    "    \n",
    "    function compute_DED_square_norm(E,in_norm)\n",
    "        return in_norm' * D*E*D' * in_norm\n",
    "    end\n",
    "    for i in 1:p\n",
    "        E_ii = Diagonal([(j == i)*1 for j in 1:p])\n",
    "        grad[i] = t_α*λ'E_ii*σ_X - 0.5*compute_DED_square_norm(E_ii, X'y+ λ)\n",
    "    end\n",
    "    return grad\n",
    "end"
   ]
  },
  {
   "cell_type": "code",
   "execution_count": 9,
   "metadata": {},
   "outputs": [
    {
     "data": {
      "text/plain": [
       "compute_dual (generic function with 1 method)"
      ]
     },
     "execution_count": 9,
     "metadata": {},
     "output_type": "execute_result"
    }
   ],
   "source": [
    "function compute_dual(X_p, y, k, γ, t_α, σ_X_p, log_path)\n",
    "    n, p = size(X_p)\n",
    "    \n",
    "    # Extended Matrices\n",
    "    X = hcat(X_p, -X_p)\n",
    "    M = X'X\n",
    "    σ_X = [σ_X_p; σ_X_p]\n",
    "    \n",
    "    # Outer problem\n",
    "    miop = create_gurobi_model(LogFile=log_path)\n",
    "    \n",
    "    @variable(miop, s[1:2*p], Bin)\n",
    "    @variable(miop, t >= 0)\n",
    "    \n",
    "    @constraint(miop, sum(s) <= k)\n",
    "    @constraint(miop, [i=1:p], s[i]+s[p+i]<=1)\n",
    "    \n",
    "    # Cutting plane\n",
    "    \n",
    "    s_init = zeros(2*p)\n",
    "    s_init[1:k] .= 1\n",
    "    Z_init = Diagonal(s_init)\n",
    "    D_init = (I/γ + Z_init*M)^(-1)\n",
    "    \n",
    "    β_init, λ_init, g_init = g(s_init, X, y, D_init, Z_init, γ, t_α, σ_X)\n",
    "    ∇g_init = ∇g(s_init, λ_init, X, y, D_init, t_α, σ_X)\n",
    "    \n",
    "    @constraint(miop, t >= g_init + dot(∇g_init, s - s_init))\n",
    "    @objective(miop, Min, t)\n",
    "    \n",
    "    function outer_approximation(cb_data)\n",
    "        s_val = [callback_value(cb_data, s[i]) for i=1:2*p]\n",
    "        Z_val = Diagonal(s_val)\n",
    "        D_val = (I/γ + Z_val*M)^(-1)\n",
    "        \n",
    "        β_val, λ_val, g_val = g(s_val, X, y, D_val, Z_val, γ, t_α, σ_X)\n",
    "        ∇g_val = ∇g(s_val, λ_val, X, y, D_val, t_α, σ_X)\n",
    "        offset = sum(∇g_val .* s_val)\n",
    "        con = @build_constraint(t >= g_val + ∇g_val'*s - offset)\n",
    "        MOI.submit(miop, MOI.LazyConstraint(cb_data), con)\n",
    "    end\n",
    "    \n",
    "    MOI.set(miop, MOI.LazyConstraintCallback(), outer_approximation)\n",
    "    optimize!(miop)\n",
    "    \n",
    "    s_val = JuMP.value.(s)\n",
    "    Z_val = Diagonal(s_val)\n",
    "    D_val = (I/γ + Z_val*M)^(-1)\n",
    "    β_val, λ_val, g_val = g(s_val, X, y, D_val, Z_val, γ, t_α, σ_X)\n",
    "\n",
    "    β_pred = β_val[1:p] .- β_val[p+1:end]\n",
    "    return objective_value(miop), β_pred \n",
    "end"
   ]
  },
  {
   "cell_type": "markdown",
   "metadata": {},
   "source": [
    "____\n",
    "## Synthetic Data"
   ]
  },
  {
   "cell_type": "code",
   "execution_count": 10,
   "metadata": {},
   "outputs": [
    {
     "data": {
      "text/plain": [
       "generate_synthetic_data (generic function with 1 method)"
      ]
     },
     "execution_count": 10,
     "metadata": {},
     "output_type": "execute_result"
    }
   ],
   "source": [
    "function generate_synthetic_data(n, p, k, NR)\n",
    "    \n",
    "    # Generate PD matrix\n",
    "    A = randn(p, p)\n",
    "    A = A'*A\n",
    "    Σ = (A' + A)/2\n",
    "    \n",
    "    # Generate data X\n",
    "    d = MvNormal(Σ)\n",
    "    X = rand(d, n)'I\n",
    "    \n",
    "    # Split data\n",
    "    index_train = 1:floor(Int, 0.5*n)\n",
    "    index_val = floor(Int, 0.5*n)+1:floor(Int, 0.75*n)\n",
    "    index_test = floor(Int, 0.75*n)+1:n\n",
    "    \n",
    "    X_train = X[index_train,:]\n",
    "    X_val = X[index_val,:]\n",
    "    X_test = X[index_test,:]\n",
    "    \n",
    "    # Center\n",
    "    μ_train = [mean(X_train[:, j]) for j=1:p]\n",
    "    for j=1:p\n",
    "         X_train[:,j] = X_train[:,j] .- μ_train[j]\n",
    "         X_val[:,j] = X_val[:,j] .- μ_train[j]\n",
    "         X_test[:,j] = X_test[:,j] .- μ_train[j]\n",
    "    end\n",
    "    \n",
    "    # Scale\n",
    "    σ_train = [norm(X_train[:, j]) for j=1:p]\n",
    "    for j=1:p\n",
    "         X_train[:,j] = X_train[:,j]/σ_train[j]\n",
    "         X_val[:,j] = X_val[:,j] ./ σ_train[j]\n",
    "         X_test[:,j] = X_test[:,j] ./ σ_train[j]\n",
    "    end\n",
    "    \n",
    "    # Generate β\n",
    "    β = zeros(p)\n",
    "    for j=1:k\n",
    "        β[floor(Int, j*p/k)] = 1.0*rand([-1, 1])\n",
    "    end\n",
    "    \n",
    "    # Noise\n",
    "    ϵ = rand(Normal(0, std(X*β)*NR), n)\n",
    "    \n",
    "    # Target\n",
    "    y_train = X_train*β + ϵ[index_train]\n",
    "    y_val = X_val*β + ϵ[index_val]\n",
    "    y_test = X_test*β + ϵ[index_test]\n",
    "            \n",
    "    return  (X_train, y_train), (X_val, y_val), (X_test, y_test), β\n",
    "end"
   ]
  },
  {
   "cell_type": "code",
   "execution_count": 11,
   "metadata": {},
   "outputs": [
    {
     "data": {
      "text/plain": [
       "get_t_α_and_σ_X (generic function with 1 method)"
      ]
     },
     "execution_count": 11,
     "metadata": {},
     "output_type": "execute_result"
    }
   ],
   "source": [
    "function get_t_α_and_σ_X(X, y, α, γ)\n",
    "    n, p = size(X)\n",
    "    \n",
    "    # Student law\n",
    "    t_α = quantile(TDist(n-p), 1 - α/2) # Beware: n-p-1 if we add intercept\n",
    "    \n",
    "    # Estimator σ\n",
    "    M = 1/γ*I + X'X\n",
    "    M_inv = M^-1\n",
    "    σ_tilde = sqrt((y'*(I - X*M_inv*X')*y)/(n-p))\n",
    "    σ_X = σ_tilde * sqrt.(diag(M_inv))\n",
    "    \n",
    "    return t_α, σ_X\n",
    "end"
   ]
  },
  {
   "cell_type": "code",
   "execution_count": 12,
   "metadata": {},
   "outputs": [
    {
     "data": {
      "text/plain": [
       "get_OR2 (generic function with 1 method)"
      ]
     },
     "execution_count": 12,
     "metadata": {},
     "output_type": "execute_result"
    }
   ],
   "source": [
    "function get_insample_R2(y_pred, y_true, p)\n",
    "    TSE = sum((y_pred[i]-y_true[i])^2 for i=1:p)\n",
    "    baseline_E = sum((sum(y_true)/length(y_true)-y_true[i])^2 for i=1:p)\n",
    "    return 1 - TSE/baseline_E\n",
    "end\n",
    "\n",
    "function get_OR2(y_pred, y_true, y_train, p)\n",
    "    TSE = sum((y_pred[i]-y_true[i])^2 for i=1:p)\n",
    "    baseline_E = sum((sum(y_train)/length(y_train)-y_true[i])^2 for i=1:p)\n",
    "    return 1 - TSE/baseline_E\n",
    "end"
   ]
  },
  {
   "cell_type": "markdown",
   "metadata": {},
   "source": [
    "____\n",
    "## Experiences"
   ]
  },
  {
   "cell_type": "code",
   "execution_count": 13,
   "metadata": {},
   "outputs": [],
   "source": [
    "n = 2*1000\n",
    "p = 25\n",
    "k = 5\n",
    "NR = 0.01\n",
    "α = 0.05\n",
    "γ = 10;"
   ]
  },
  {
   "cell_type": "code",
   "execution_count": 10,
   "metadata": {},
   "outputs": [
    {
     "data": {
      "text/plain": [
       "list2string (generic function with 1 method)"
      ]
     },
     "execution_count": 10,
     "metadata": {},
     "output_type": "execute_result"
    }
   ],
   "source": [
    "function r(x,dig)\n",
    "    return round(x,digits = dig)\n",
    "end\n",
    "\n",
    "function list2string(list)\n",
    "    s=\"\"\n",
    "    for x in list \n",
    "        s*=x\n",
    "    end\n",
    "    s*=\"\\n\"\n",
    "    return s\n",
    "end"
   ]
  },
  {
   "cell_type": "code",
   "execution_count": 11,
   "metadata": {
    "scrolled": true
   },
   "outputs": [
    {
     "name": "stdout",
     "output_type": "stream",
     "text": [
      "n=20000 p=10\n",
      "Solving primal\n",
      "LogFile: logs/Primal_20000_10_5_1.txt.\n",
      "Gurobi Optimizer version 9.0.3 build v9.0.3rc0 (linux64)\n",
      "Optimize a model with 41 rows, 30 columns and 110 nonzeros\n",
      "Model fingerprint: 0xf8c2ab70\n",
      "Model has 55 quadratic objective terms\n",
      "Variable types: 10 continuous, 20 integer (20 binary)\n",
      "Coefficient statistics:\n",
      "  Matrix range     [1e+00, 1e+03]\n",
      "  Objective range  [1e-02, 2e+00]\n",
      "  QObjective range [2e-04, 2e+00]\n",
      "  Bounds range     [0e+00, 0e+00]\n",
      "  RHS range        [5e+00, 1e+03]\n",
      "Found heuristic solution: objective 18.5567606\n",
      "Presolve time: 0.01s\n",
      "Presolved: 41 rows, 30 columns, 110 nonzeros\n",
      "Presolved model has 55 quadratic objective terms\n",
      "Variable types: 10 continuous, 20 integer (20 binary)\n",
      "\n",
      "Root relaxation: objective 1.725281e+01, 56 iterations, 0.00 seconds\n",
      "\n",
      "    Nodes    |    Current Node    |     Objective Bounds      |     Work\n",
      " Expl Unexpl |  Obj  Depth IntInf | Incumbent    BestBd   Gap | It/Node Time\n",
      "\n",
      "     0     0   17.25281    0   15   18.55676   17.25281  7.03%     -    0s\n",
      "H    0     0                      17.6822193   17.25281  2.43%     -    0s\n",
      "H    0     0                      17.6081814   17.25281  2.02%     -    0s\n",
      "H    0     0                      17.5945281   17.25281  1.94%     -    0s\n",
      "H    0     0                      17.5944021   17.25281  1.94%     -    0s\n",
      "H    0     0                      17.5895175   17.25281  1.91%     -    0s\n",
      "H    0     0                      17.5546167   17.25281  1.72%     -    0s\n",
      "H    0     0                      17.5325349   17.25281  1.60%     -    0s\n",
      "H    0     0                      17.5320389   17.25281  1.59%     -    0s\n",
      "H    0     0                      17.2851390   17.25281  0.19%     -    0s\n",
      "     0     2   17.25281    0    9   17.28514   17.25281  0.19%     -    0s\n",
      "\n",
      "Explored 4 nodes (87 simplex iterations) in 0.03 seconds\n",
      "Thread count was 4 (of 8 available processors)\n",
      "\n",
      "Solution count 6: 17.2851 17.532 17.5895 ... 18.5568\n",
      "\n",
      "Optimal solution found (tolerance 1.00e-04)\n",
      "Best objective 1.728513902910e+01, best bound 1.728513902910e+01, gap 0.0000%\n",
      "Time primal: 21.715876733\n",
      "Solving dual\n",
      "LogFile: logs/Dual_20000_10_5_1.txt.\n",
      "Gurobi Optimizer version 9.0.3 build v9.0.3rc0 (linux64)\n",
      "Optimize a model with 12 rows, 21 columns and 61 nonzeros\n",
      "Model fingerprint: 0x4f8a7e1b\n",
      "Variable types: 1 continuous, 20 integer (20 binary)\n",
      "Coefficient statistics:\n",
      "  Matrix range     [4e-03, 1e+00]\n",
      "  Objective range  [1e+00, 1e+00]\n",
      "  Bounds range     [0e+00, 0e+00]\n",
      "  RHS range        [1e+00, 2e+01]\n",
      "Presolve time: 0.00s\n",
      "Presolved: 12 rows, 21 columns, 61 nonzeros\n",
      "Variable types: 1 continuous, 20 integer (20 binary)\n",
      "\n",
      "Root relaxation: objective 1.544885e+01, 8 iterations, 0.00 seconds\n",
      "\n",
      "    Nodes    |    Current Node    |     Objective Bounds      |     Work\n",
      " Expl Unexpl |  Obj  Depth IntInf | Incumbent    BestBd   Gap | It/Node Time\n",
      "\n",
      "     0     0   15.74952    0    2          -   15.74952      -     -    0s\n",
      "     0     2   15.74952    0    2          -   15.74952      -     -    0s\n",
      "*    9     6               2      17.3077238   17.28391  0.14%   3.9    0s\n",
      "*   15     0               4      17.2851390   17.28514  0.00%   2.9    1s\n",
      "\n",
      "Cutting planes:\n",
      "  Lazy constraints: 13\n",
      "\n",
      "Explored 16 nodes (57 simplex iterations) in 1.02 seconds\n",
      "Thread count was 4 (of 8 available processors)\n",
      "\n",
      "Solution count 2: 17.2851 17.3077 \n",
      "\n",
      "Optimal solution found (tolerance 1.00e-04)\n",
      "Best objective 1.728513902468e+01, best bound 1.728513902468e+01, gap 0.0000%\n",
      "\n",
      "User-callback calls 92, time in user-callback 1.06 sec\n",
      "Time dual: 3.541053126\n",
      "n=20000 p=25\n",
      "Solving primal\n",
      "LogFile: logs/Primal_20000_25_12_1.txt.\n",
      "Gurobi Optimizer version 9.0.3 build v9.0.3rc0 (linux64)\n",
      "Optimize a model with 101 rows, 75 columns and 275 nonzeros\n",
      "Model fingerprint: 0xced1eb6d\n",
      "Model has 325 quadratic objective terms\n",
      "Variable types: 25 continuous, 50 integer (50 binary)\n",
      "Coefficient statistics:\n",
      "  Matrix range     [1e+00, 1e+03]\n",
      "  Objective range  [1e-01, 2e+00]\n",
      "  QObjective range [8e-04, 2e+00]\n",
      "  Bounds range     [0e+00, 0e+00]\n",
      "  RHS range        [1e+01, 1e+03]\n",
      "Found heuristic solution: objective 166.7502142\n",
      "Presolve time: 0.00s\n",
      "Presolved: 101 rows, 75 columns, 275 nonzeros\n",
      "Presolved model has 325 quadratic objective terms\n",
      "Variable types: 25 continuous, 50 integer (50 binary)\n",
      "\n",
      "Root relaxation: objective 1.631013e+02, 195 iterations, 0.00 seconds\n",
      "\n",
      "    Nodes    |    Current Node    |     Objective Bounds      |     Work\n",
      " Expl Unexpl |  Obj  Depth IntInf | Incumbent    BestBd   Gap | It/Node Time\n",
      "\n",
      "     0     0  163.10125    0   38  166.75021  163.10125  2.19%     -    0s\n",
      "H    0     0                     165.7089497  163.10125  1.57%     -    0s\n",
      "H    0     0                     165.6240915  163.10125  1.52%     -    0s\n",
      "H    0     0                     165.5934755  163.10125  1.51%     -    0s\n",
      "H    0     0                     165.4126707  163.10125  1.40%     -    0s\n",
      "H    0     0                     165.4081234  163.10125  1.39%     -    0s\n",
      "H    0     0                     165.4027870  163.10125  1.39%     -    0s\n",
      "H    0     0                     164.9123089  163.10125  1.10%     -    0s\n",
      "H    0     0                     164.8942590  163.10125  1.09%     -    0s\n",
      "H    0     0                     164.7497318  163.10125  1.00%     -    0s\n",
      "H    0     0                     163.3364336  163.10125  0.14%     -    0s\n",
      "     0     2  163.10125    0   32  163.33643  163.10125  0.14%     -    0s\n",
      "*  131    42              15     163.3025431  163.15513  0.09%   4.6    0s\n",
      "\n",
      "Explored 547 nodes (2261 simplex iterations) in 0.06 seconds\n",
      "Thread count was 4 (of 8 available processors)\n",
      "\n",
      "Solution count 10: 163.303 163.336 164.75 ... 166.75\n",
      "\n",
      "Optimal solution found (tolerance 1.00e-04)\n",
      "Best objective 1.633025431448e+02, best bound 1.633025431448e+02, gap 0.0000%\n",
      "Time primal: 1.753441981\n",
      "Solving dual\n",
      "LogFile: logs/Dual_20000_25_12_1.txt.\n",
      "Gurobi Optimizer version 9.0.3 build v9.0.3rc0 (linux64)\n",
      "Optimize a model with 27 rows, 51 columns and 151 nonzeros\n",
      "Model fingerprint: 0x9ad555a4\n",
      "Variable types: 1 continuous, 50 integer (50 binary)\n",
      "Coefficient statistics:\n",
      "  Matrix range     [8e-04, 1e+00]\n",
      "  Objective range  [1e+00, 1e+00]\n",
      "  Bounds range     [0e+00, 0e+00]\n",
      "  RHS range        [1e+00, 2e+02]\n",
      "Presolve time: 0.00s\n",
      "Presolved: 27 rows, 51 columns, 151 nonzeros\n",
      "Variable types: 1 continuous, 50 integer (50 binary)\n",
      "\n",
      "Root relaxation: objective 1.590934e+02, 19 iterations, 0.00 seconds\n",
      "\n",
      "    Nodes    |    Current Node    |     Objective Bounds      |     Work\n",
      " Expl Unexpl |  Obj  Depth IntInf | Incumbent    BestBd   Gap | It/Node Time\n",
      "\n",
      "     0     0  160.06717    0    2          -  160.06717      -     -    0s\n",
      "     0     2  160.06717    0    2          -  160.06717      -     -    0s\n",
      "*   81    66              11     163.4279448  163.16883  0.16%   8.2    5s\n",
      "*   90    74              14     163.4149154  163.16883  0.15%   7.8    5s\n",
      "*   95    74              13     163.3184106  163.16883  0.09%   7.9    6s\n",
      "*  158    66              13     163.3025431  163.23844  0.04%   7.5    9s\n",
      "   199    34     cutoff    4       163.30254  163.27482  0.02%   7.7   10s\n",
      "\n",
      "Cutting planes:\n",
      "  Lazy constraints: 160\n",
      "\n",
      "Explored 229 nodes (1680 simplex iterations) in 11.04 seconds\n",
      "Thread count was 4 (of 8 available processors)\n",
      "\n",
      "Solution count 4: 163.303 163.318 163.415 163.428 \n",
      "\n",
      "Optimal solution found (tolerance 1.00e-04)\n",
      "Best objective 1.633025431412e+02, best bound 1.632890576253e+02, gap 0.0083%\n",
      "\n",
      "User-callback calls 586, time in user-callback 10.90 sec\n",
      "Time dual: 11.116803955\n",
      "n=20000 p=50\n",
      "Solving primal\n",
      "LogFile: logs/Primal_20000_50_25_1.txt.\n",
      "Gurobi Optimizer version 9.0.3 build v9.0.3rc0 (linux64)\n",
      "Optimize a model with 201 rows, 150 columns and 550 nonzeros\n",
      "Model fingerprint: 0x43bfedb7\n",
      "Model has 1275 quadratic objective terms\n",
      "Variable types: 50 continuous, 100 integer (100 binary)\n",
      "Coefficient statistics:\n",
      "  Matrix range     [1e+00, 1e+03]\n",
      "  Objective range  [3e-02, 2e+00]\n",
      "  QObjective range [2e-04, 2e+00]\n",
      "  Bounds range     [0e+00, 0e+00]\n",
      "  RHS range        [2e+01, 1e+03]\n",
      "Found heuristic solution: objective 504.0589994\n",
      "Presolve time: 0.00s\n",
      "Presolved: 201 rows, 150 columns, 550 nonzeros\n",
      "Presolved model has 1275 quadratic objective terms\n",
      "Variable types: 50 continuous, 100 integer (100 binary)\n",
      "\n",
      "Root relaxation: objective 4.957522e+02, 532 iterations, 0.01 seconds\n",
      "\n",
      "    Nodes    |    Current Node    |     Objective Bounds      |     Work\n",
      " Expl Unexpl |  Obj  Depth IntInf | Incumbent    BestBd   Gap | It/Node Time\n",
      "\n",
      "     0     0  495.75222    0   77  504.05900  495.75222  1.65%     -    0s\n",
      "H    0     0                     501.2615779  495.75222  1.10%     -    0s\n",
      "H    0     0                     500.9240672  495.75222  1.03%     -    0s\n",
      "H    0     0                     500.6167914  495.75222  0.97%     -    0s\n",
      "H    0     0                     500.4432055  495.75222  0.94%     -    0s\n",
      "H    0     0                     500.1001757  495.75222  0.87%     -    0s\n",
      "H    0     0                     497.8029296  495.75222  0.41%     -    0s\n",
      "H    0     0                     496.4278033  495.75222  0.14%     -    0s\n",
      "H    0     0                     496.4278030  495.75222  0.14%     -    0s\n",
      "     0     2  495.75375    0   77  496.42780  495.75375  0.14%     -    0s\n",
      "H  254   157                     496.4119471  495.81211  0.12%   4.9    0s\n",
      "H  335   200                     496.3746125  495.88066  0.10%   5.0    0s\n",
      " 30140 11184  496.15315   37   50  496.37461  496.14715  0.05%   4.2    5s\n",
      " 62217 18867  496.31484   50   35  496.37461  496.19723  0.04%   4.1   10s\n",
      " 95013 24438     cutoff   48       496.37461  496.22755  0.03%   4.1   15s\n",
      " 129199 28743  496.25964   40   46  496.37461  496.24913  0.03%   4.0   20s\n",
      " 163374 31696  496.36600   51   32  496.37461  496.26560  0.02%   4.0   25s\n",
      " 198822 34010     cutoff   42       496.37461  496.27783  0.02%   4.0   30s\n",
      " 234897 35333  496.36215   51   31  496.37461  496.28908  0.02%   3.9   35s\n",
      " 271285 35635     cutoff   41       496.37461  496.29868  0.02%   3.9   40s\n",
      " 308543 34739  496.33047   56   29  496.37461  496.30800  0.01%   3.8   45s\n",
      " 346288 32623     cutoff   52       496.37461  496.31711  0.01%   3.8   50s\n",
      "\n",
      "Explored 375543 nodes (1416742 simplex iterations) in 54.15 seconds\n",
      "Thread count was 4 (of 8 available processors)\n",
      "\n",
      "Solution count 10: 496.375 496.412 496.428 ... 504.059\n",
      "\n",
      "Optimal solution found (tolerance 1.00e-04)\n",
      "Best objective 4.963746125470e+02, best bound 4.963250036666e+02, gap 0.0100%\n"
     ]
    },
    {
     "name": "stdout",
     "output_type": "stream",
     "text": [
      "Time primal: 59.213170645\n",
      "Solving dual\n",
      "LogFile: logs/Dual_20000_50_25_1.txt.\n",
      "Gurobi Optimizer version 9.0.3 build v9.0.3rc0 (linux64)\n",
      "Optimize a model with 52 rows, 101 columns and 301 nonzeros\n",
      "Model fingerprint: 0x9f0fdb1a\n",
      "Variable types: 1 continuous, 100 integer (100 binary)\n",
      "Coefficient statistics:\n",
      "  Matrix range     [1e-03, 4e+00]\n",
      "  Objective range  [1e+00, 1e+00]\n",
      "  Bounds range     [0e+00, 0e+00]\n",
      "  RHS range        [1e+00, 5e+02]\n",
      "Presolve time: 0.00s\n",
      "Presolved: 52 rows, 101 columns, 301 nonzeros\n",
      "Variable types: 1 continuous, 100 integer (100 binary)\n",
      "\n",
      "Root relaxation: objective 4.711196e+02, 28 iterations, 0.00 seconds\n",
      "\n",
      "    Nodes    |    Current Node    |     Objective Bounds      |     Work\n",
      " Expl Unexpl |  Obj  Depth IntInf | Incumbent    BestBd   Gap | It/Node Time\n",
      "\n",
      "     0     0  489.16553    0    4          -  489.16553      -     -    0s\n",
      "     0     2  489.16553    0    4          -  489.16553      -     -    0s\n",
      "    31    40  494.85892    6    8          -  494.48895      -  31.0    6s\n",
      "    59    72  495.30196   11   13          -  494.48895      -  30.4   10s\n",
      "   131   160  496.81750   24    7          -  494.48895      -  22.0   21s\n",
      "   191   216  497.52383   37   10          -  494.48895      -  17.1   31s\n",
      "*  231   240              44     499.4873613  494.48975  1.00%  15.8   36s\n",
      "   266   243  495.89416    9   18  499.48736  494.48975  1.00%  15.8   41s\n",
      "   318   283  496.01801   11    9  499.48736  494.48975  1.00%  16.3   49s\n",
      "*  336   283              62     499.3002319  494.48975  0.96%  15.7   52s\n",
      "*  338   283              60     499.1713388  494.48975  0.94%  15.6   53s\n",
      "*  351   285              49     498.9180515  494.48975  0.89%  15.8   55s\n",
      "*  353   286              47     498.5880095  494.48975  0.82%  15.7   56s\n",
      "   386   300  496.61554   28    7  498.58801  494.48975  0.82%  15.8   60s\n",
      "   430   337  496.95191   34    5  498.58801  494.48975  0.82%  15.9   68s\n",
      "   436   365  496.94815   36    -  498.58801  494.64876  0.79%  16.0   70s\n",
      "   478   406  496.91851   43    2  498.58801  494.71310  0.78%  15.6   76s\n",
      "*  528   326              49     497.0482621  494.73122  0.47%  14.9   84s\n",
      "   552   324  496.96363   49    2  497.04826  494.74610  0.46%  14.8   88s\n",
      "   577   348  496.97164   54    2  497.04826  494.84187  0.44%  15.5   91s\n",
      "*  626   350              69     496.9783661  494.86779  0.42%  15.3   98s\n",
      "   649   358     cutoff    8       496.97837  494.86779  0.42%  15.6  100s\n",
      "   694   403  496.82590   16    7  496.97837  494.86779  0.42%  15.5  107s\n",
      "   719   419  496.80654   19    4  496.97837  494.86779  0.42%  15.5  110s\n",
      "   764   422  496.22732    8   20  496.97837  494.89139  0.42%  16.1  115s\n",
      "   808   454  496.50928   16   12  496.97837  494.89139  0.42%  16.9  120s\n",
      "   848   469  496.81040   26   12  496.97837  494.89139  0.42%  16.8  126s\n",
      "   885   509  496.63256   21    9  496.97837  495.03350  0.39%  17.3  130s\n",
      "   922   524     cutoff   34       496.97837  495.03350  0.39%  17.0  135s\n",
      "   966   531  496.76636   10   16  496.97837  495.07055  0.38%  16.9  141s\n",
      "   995   545     cutoff   18       496.97837  495.07055  0.38%  17.2  145s\n",
      "  1042   568  496.93073   10    6  496.97837  495.07055  0.38%  17.4  152s\n",
      "  1056   570  496.22651    6    4  496.97837  495.07055  0.38%  17.2  155s\n",
      "H 1058   542                     496.5139662  496.00213  0.10%  17.2  155s\n",
      "H 1058   515                     496.4849560  496.00213  0.10%  17.2  157s\n",
      "  1060   520  496.02145   12   27  496.48496  496.01996  0.09%  17.3  160s\n",
      "  1078   531  496.16705   16   19  496.48496  496.10978  0.08%  17.8  165s\n",
      "  1110   550  496.27806   19   13  496.48496  496.12540  0.07%  18.5  170s\n",
      "  1167   562  496.39000   25   12  496.48496  496.12540  0.07%  19.2  177s\n",
      "  1200   570  496.45134   27   14  496.48496  496.12540  0.07%  19.2  182s\n",
      "  1236   584     cutoff   31       496.48496  496.12540  0.07%  19.4  188s\n",
      "  1261   607     cutoff   34       496.48496  496.14155  0.07%  19.3  194s\n",
      "  1298   596     cutoff   19       496.48496  496.14155  0.07%  19.1  200s\n",
      "  1355   636  496.31760   23    8  496.48496  496.14708  0.07%  19.3  210s\n",
      "  1418   636  496.32057   16   17  496.48496  496.15272  0.07%  19.0  221s\n",
      "  1465   652  496.31528   18   17  496.48496  496.15272  0.07%  19.0  231s\n",
      "  1508   675     cutoff   21       496.48496  496.15272  0.07%  19.0  238s\n",
      "  1539   665  496.40342   51    3  496.48496  496.15272  0.07%  18.9  243s\n",
      "  1550   686  496.32763   21   16  496.48496  496.15272  0.07%  18.9  245s\n",
      "  1608   716  496.34284   22   14  496.48496  496.15272  0.07%  18.7  255s\n",
      "  1673   733  496.37465   23   19  496.48496  496.15272  0.07%  18.4  264s\n",
      "  1731   715     cutoff   25       496.48496  496.15272  0.07%  18.2  275s\n",
      "  1768   721     cutoff   31       496.48496  496.15272  0.07%  18.5  280s\n",
      "  1791   724  496.43780   30   13  496.48496  496.15272  0.07%  18.5  286s\n",
      "  1808   718  496.22659   34    9  496.48496  496.15272  0.07%  18.5  299s\n",
      "  1818   754  496.47766   32   10  496.48496  496.15272  0.07%  18.5  305s\n",
      "  1849   744  496.41493   35   11  496.48496  496.15272  0.07%  18.4  321s\n",
      "  1869   732     cutoff   35       496.48496  496.18624  0.06%  18.4  330s\n",
      "  1909   758  496.20599   19   23  496.48496  496.18703  0.06%  18.4  349s\n",
      "  1921   754     cutoff   48       496.48496  496.18703  0.06%  18.4  356s\n",
      "  1951   744  496.23629   19   20  496.48496  496.18703  0.06%  18.3  373s\n",
      "  1954   841  496.24865   31   15  496.48496  496.19103  0.06%  18.4  376s\n",
      "  1975   834  496.42777   52    9  496.48496  496.19103  0.06%  18.3  387s\n",
      "  2100   923     cutoff   56       496.48496  496.20040  0.06%  17.7  454s\n",
      "  2121   916  496.29496   42    3  496.48496  496.20040  0.06%  17.6  464s\n",
      "  2142   912  496.37097   59    2  496.48496  496.20040  0.06%  17.5  476s\n",
      "  2163   906  496.41417   79    -  496.48496  496.20040  0.06%  17.3  487s\n",
      "  2283   986     cutoff   79       496.48496  496.20786  0.06%  17.0  554s\n",
      "  2306   978  496.36973   47    4  496.48496  496.20786  0.06%  17.0  569s\n",
      "  2349   966  496.47395   33   10  496.48496  496.20841  0.06%  17.0  592s\n",
      "  2464   975  496.30616   21   17  496.48496  496.20841  0.06%  16.7  653s\n",
      "  2522   955  496.42327   28   14  496.48496  496.20841  0.06%  17.0  661s\n",
      "  2561   943     cutoff   27       496.48496  496.20841  0.06%  17.0  668s\n",
      "  2580  1001  496.37189   27   15  496.48496  496.20841  0.06%  17.1  671s\n",
      "  2603   993  496.39669   43   10  496.48496  496.20841  0.06%  17.2  675s\n",
      "  2735  1051     cutoff   37       496.48496  496.21098  0.06%  17.0  693s\n",
      "  2808  1052  496.37266   56    5  496.48496  496.21129  0.06%  17.0  704s\n",
      "  2832  1052     cutoff   66       496.48496  496.21129  0.06%  17.0  708s\n",
      "  2870  1112  496.27428   35   13  496.48496  496.21377  0.05%  17.2  712s\n",
      "  2892  1112  496.44562   56    6  496.48496  496.21377  0.05%  17.2  715s\n",
      "  2959  1217  496.43533   34   14  496.48496  496.21804  0.05%  17.2  727s\n",
      "  3039  1218  496.36540   38    7  496.48496  496.21867  0.05%  17.1  739s\n",
      "  3111  1219  496.37196   35    5  496.48496  496.22287  0.05%  17.1  748s\n",
      "  3132  1219  496.40184   56    -  496.48496  496.22287  0.05%  17.0  752s\n",
      "  3149  1332     cutoff   30       496.48496  496.22493  0.05%  16.9  756s\n",
      "  3186  1332  496.26856   48   11  496.48496  496.22560  0.05%  17.0  760s\n",
      "  3306  1500  496.45265   23   16  496.48496  496.23136  0.05%  17.0  779s\n",
      "  3331  1500  496.24834   18   11  496.48496  496.23191  0.05%  17.1  781s\n",
      "  3352  1500  496.38423   39    3  496.48496  496.23191  0.05%  17.1  785s\n",
      "  3396  1502  496.36398   50    5  496.48496  496.23191  0.05%  17.0  790s\n",
      "  3472  1507  496.35257   36   16  496.48496  496.23271  0.05%  16.8  802s\n",
      "  3493  1508  496.43239   56    3  496.48496  496.23271  0.05%  16.7  806s\n",
      "  3571  1580  496.34704   19   23  496.48496  496.23562  0.05%  16.7  821s\n",
      "  3613  1580  496.46313   61    6  496.48496  496.23562  0.05%  16.7  828s\n",
      "  3673  1580  496.46968   27   17  496.48496  496.23562  0.05%  16.9  836s\n",
      "  3694  1658     cutoff   62       496.48496  496.23703  0.05%  16.9  841s\n",
      "  3782  1659  496.39991   36    -  496.48496  496.23703  0.05%  17.0  851s\n",
      "  3826  1662  496.46448   50    6  496.48496  496.23703  0.05%  16.9  857s\n",
      "  3855  1784     cutoff   27       496.48496  496.24021  0.05%  17.1  863s\n",
      "  3879  1784  496.28618   46   13  496.48496  496.24021  0.05%  17.1  867s\n",
      "  3900  1784  496.35015   67    4  496.48496  496.24021  0.05%  17.0  871s\n",
      "  3983  1785  496.37047   47   14  496.48496  496.24021  0.05%  17.0  883s\n",
      "  4004  1785  496.39958   68    2  496.48496  496.24021  0.05%  16.9  889s\n",
      "  4062  1873     cutoff   77       496.48496  496.24159  0.05%  17.0  900s\n",
      "  4221  1917     cutoff   40       496.48496  496.24612  0.05%  17.1  926s\n",
      "  4303  2120  496.33039   41    7  496.48496  496.24882  0.05%  17.0  942s\n",
      "  4326  2120  496.45305   62    8  496.48496  496.24882  0.05%  17.0  945s\n",
      "  4369  2121  496.43414   51    2  496.48496  496.24882  0.05%  16.9  952s\n",
      "  4390  2121  496.39254   71    3  496.48496  496.24882  0.05%  16.8  955s\n",
      "  4640  2325     cutoff   75       496.48496  496.24973  0.05%  16.4  995s\n",
      "  4682  2325  496.41936   56    7  496.48496  496.24973  0.05%  16.4 1003s\n",
      "  4703  2325  496.43441   73    4  496.48496  496.24973  0.05%  16.4 1007s\n",
      "  4834  2330  496.37209   33    9  496.48496  496.25120  0.05%  16.3 1027s\n",
      "  4855  2330  496.42439   49    5  496.48496  496.25120  0.05%  16.2 1031s\n",
      "  4902  2333  496.35529   29    9  496.48496  496.25120  0.05%  16.1 1037s\n",
      "  4924  2333  496.47996   50    1  496.48496  496.25120  0.05%  16.1 1042s\n",
      "  4928  2503     cutoff   75       496.48496  496.25161  0.05%  16.1 1046s\n",
      "  4971  2503  496.46670   76    -  496.48496  496.25161  0.05%  16.0 1052s\n",
      "  4994  2504  496.40996   40    8  496.48496  496.25161  0.05%  16.0 1055s\n",
      "  5222  2640     cutoff   76       496.48496  496.25539  0.05%  15.8 1087s\n",
      "  5244  2640  496.46127   40    8  496.48496  496.25539  0.05%  15.8 1091s\n",
      "  5270  2640  496.47849   59    5  496.48496  496.25539  0.05%  15.8 1095s\n",
      "  5447  2734     cutoff   45       496.48496  496.25745  0.05%  15.7 1124s\n",
      "  5472  2734  496.38183   45    9  496.48496  496.25745  0.05%  15.7 1127s\n",
      "  5494  2736  496.47862   63    3  496.48496  496.25745  0.05%  15.6 1131s\n",
      "  5566  2736  496.42075   29   18  496.48496  496.25772  0.05%  15.7 1140s\n",
      "  5622  2819     cutoff   58       496.48496  496.26123  0.05%  15.7 1150s\n",
      "  5670  2819  496.45609   66    4  496.48496  496.26123  0.05%  15.7 1156s\n",
      "  5726  2822     cutoff   51       496.48496  496.26214  0.04%  15.7 1163s\n",
      "  5754  2823  496.30331   35   21  496.48496  496.26214  0.04%  15.7 1167s\n",
      "  5795  2890     cutoff   74       496.48496  496.26420  0.04%  15.7 1175s\n",
      "  5916  3055  496.34124   30   11  496.48496  496.26533  0.04%  15.6 1195s\n",
      "  5959  3056  496.44935   70    1  496.48496  496.26533  0.04%  15.5 1201s\n",
      "  6005  3057  496.41463   66    3  496.48496  496.26533  0.04%  15.5 1207s\n",
      "  6140  3213  496.29830   38   13  496.48496  496.26624  0.04%  15.5 1228s\n",
      "  6163  3213  496.46214   48   12  496.48496  496.26624  0.04%  15.6 1231s\n",
      "  6205  3213  496.43986   57    3  496.48496  496.26645  0.04%  15.6 1235s\n",
      "  6250  3216  496.38049   31   14  496.48496  496.26645  0.04%  15.5 1243s\n",
      "  6402  3319  496.39827   37    8  496.48496  496.26721  0.04%  15.4 1268s\n",
      "  6451  3319  496.38923   71    2  496.48496  496.26763  0.04%  15.4 1275s\n",
      "  6494  3321  496.33142   53    3  496.48496  496.26785  0.04%  15.4 1281s\n",
      "  6536  3324  496.45109   30    6  496.48496  496.26785  0.04%  15.4 1287s\n",
      "  6581  3474  496.37679   32   11  496.48496  496.26912  0.04%  15.4 1297s\n",
      "  6625  3476  496.41383   27    9  496.48496  496.26912  0.04%  15.3 1301s\n",
      "  6666  3476     cutoff   75       496.48496  496.26971  0.04%  15.3 1305s\n",
      "  6823  3636  496.46618   72    2  496.48496  496.27120  0.04%  15.3 1331s\n",
      "  6867  3637  496.43311   67    3  496.48496  496.27120  0.04%  15.3 1337s\n",
      "  6889  3638  496.45712   40   11  496.48496  496.27120  0.04%  15.2 1341s\n",
      "  7075  3739     cutoff   73       496.48496  496.27324  0.04%  15.2 1372s\n",
      "  7104  3739  496.46976   36   13  496.48496  496.27324  0.04%  15.2 1375s\n",
      "  7178  3739  496.36494   73    3  496.48496  496.27324  0.04%  15.3 1386s\n",
      "  7266  3744  496.30927   32    8  496.48496  496.27324  0.04%  15.2 1399s\n",
      "  7275  3802     cutoff   37       496.48496  496.27437  0.04%  15.2 1405s\n",
      "  7303  3802     cutoff   51       496.48496  496.27483  0.04%  15.2 1411s\n",
      "  7331  3802  496.45942   66    -  496.48496  496.27483  0.04%  15.2 1417s\n",
      "* 7366  2825              83     496.4326839  496.27494  0.03%  15.2 1422s\n",
      "  7387  2825     cutoff   37       496.43268  496.27494  0.03%  15.2 1426s\n",
      "  7400  2885  496.35781   55   15  496.43268  496.27607  0.03%  15.2 1432s\n",
      "  7421  2885  496.38924   76    5  496.43268  496.27607  0.03%  15.2 1436s\n",
      "  7608  2921  496.40405   45   12  496.43268  496.27653  0.03%  15.2 1465s\n",
      "  7723  2922     cutoff   77       496.43268  496.27800  0.03%  15.3 1480s\n",
      "  7740  2968  496.32890   38   15  496.43268  496.27800  0.03%  15.4 1487s\n",
      "  7790  2968  496.42360   64    4  496.43268  496.27800  0.03%  15.4 1494s\n",
      "  7816  2969  496.36100   31   16  496.43268  496.27800  0.03%  15.4 1497s\n",
      "  7886  3052  496.42601   51    6  496.43268  496.27858  0.03%  15.5 1509s\n",
      "  8050  3057     cutoff   42       496.43268  496.28176  0.03%  15.6 1530s\n",
      "  8101  3058  496.41250   35   10  496.43268  496.28176  0.03%  15.5 1537s\n",
      "  8118  3112  496.35984   25   16  496.43268  496.28176  0.03%  15.5 1545s\n",
      "  8204  3263     cutoff   40       496.43268  496.28358  0.03%  15.6 1563s\n",
      "  8228  3264  496.39054   45    6  496.43268  496.28358  0.03%  15.6 1566s\n",
      "  8249  3264  496.40791   64    2  496.43268  496.28358  0.03%  15.5 1570s\n",
      "  8286  3267  496.37871   31   19  496.43268  496.28421  0.03%  15.5 1575s\n",
      "  8469  3385     cutoff   74       496.43268  496.28576  0.03%  15.5 1612s\n",
      "  8492  3385  496.40018   65   11  496.43268  496.28576  0.03%  15.5 1616s\n",
      "  8666  3539     cutoff   59       496.43268  496.28791  0.03%  15.6 1646s\n",
      "  8690  3539  496.37124   53   11  496.43268  496.28791  0.03%  15.6 1651s\n",
      "  8714  3539  496.32696   34    8  496.43268  496.28791  0.03%  15.6 1655s\n",
      "  8923  3571  496.41958   56    3  496.43268  496.28961  0.03%  15.5 1694s\n",
      "  8956  3571  496.30627   46    8  496.43268  496.28961  0.03%  15.5 1698s\n",
      "  8991  3571     cutoff   75       496.43268  496.28986  0.03%  15.5 1704s\n",
      "  9030  3717  496.31487   47    9  496.43268  496.29048  0.03%  15.5 1713s\n",
      "  9052  3717  496.36164   68    2  496.43268  496.29048  0.03%  15.5 1716s\n",
      "  9098  3719  496.43199   34    6  496.43268  496.29048  0.03%  15.5 1722s\n",
      "* 9296  3719              75     496.4304582  496.29223  0.03%  15.5 1754s\n",
      "  9326  3719  496.42827   32    8  496.43046  496.29223  0.03%  15.5 1758s\n",
      "  9347  3719     cutoff   44       496.43046  496.29239  0.03%  15.5 1761s\n",
      "  9370  3719  496.41944   50   10  496.43046  496.29239  0.03%  15.5 1765s\n",
      "  9467  3821  496.35683   52    9  496.43046  496.29403  0.03%  15.6 1781s\n",
      "  9488  3821  496.42472   73    4  496.43046  496.29403  0.03%  15.6 1785s\n",
      "  9531  3821  496.41531   71    5  496.43046  496.29403  0.03%  15.6 1790s\n",
      "  9652  3907     cutoff   78       496.43046  496.29516  0.03%  15.8 1812s\n",
      "  9679  3907  496.42723   30   15  496.43046  496.29516  0.03%  15.8 1815s\n",
      "  9883  4032  496.31371   43    7  496.43046  496.29603  0.03%  15.8 1846s\n",
      "* 9926  2132              83     496.3746125  496.29603  0.02%  15.7 1852s\n",
      " 10085  2134     cutoff   40       496.37461  496.29670  0.02%  15.7 1871s\n",
      " 10112  2067     cutoff   34       496.37461  496.29687  0.02%  15.8 1882s\n",
      " 10148  2067     cutoff   68       496.37461  496.29688  0.02%  15.8 1885s\n",
      " 10234  2074     cutoff   48       496.37461  496.29830  0.02%  16.0 1899s\n",
      " 10374  2081     cutoff   53       496.37461  496.30126  0.01%  16.1 1919s\n",
      " 10421  2082     cutoff   41       496.37461  496.30162  0.01%  16.1 1923s\n",
      " 10470  2088     cutoff   48       496.37461  496.30218  0.01%  16.1 1936s\n",
      " 10530  2088  496.34917   27   14  496.37461  496.30232  0.01%  16.2 1942s\n",
      " 10583  2088  496.37172   36   17  496.37461  496.30255  0.01%  16.2 1949s\n",
      " 10625  2084     cutoff   43       496.37461  496.30420  0.01%  16.2 1960s\n",
      " 10787  2105  496.37391   52   13  496.37461  496.30713  0.01%  16.4 1983s\n",
      " 10816  2105  496.35130   48   18  496.37461  496.30713  0.01%  16.4 1986s\n",
      " 10950  2103     cutoff   30       496.37461  496.30929  0.01%  16.5 2008s\n",
      " 11059  2103     cutoff   26       496.37461  496.31170  0.01%  16.6 2019s\n",
      " 11075  2101     cutoff   28       496.37461  496.31189  0.01%  16.6 2030s\n",
      " 11134  2101  496.37225   47    5  496.37461  496.31194  0.01%  16.7 2036s\n",
      " 11225  2108     cutoff   48       496.37461  496.31443  0.01%  16.8 2050s\n",
      " 11276  2108  496.35023   61    9  496.37461  496.31460  0.01%  16.8 2055s\n",
      " 11326  2095     cutoff   43       496.37461  496.31585  0.01%  16.8 2069s\n",
      " 11356  2095  496.37027   47    8  496.37461  496.31585  0.01%  16.8 2072s\n",
      " 11411  2096     cutoff   32       496.37461  496.31604  0.01%  16.9 2078s\n",
      " 11496  2065     cutoff   47       496.37461  496.31853  0.01%  16.9 2097s\n",
      " 11528  2065  496.35846   26   16  496.37461  496.31853  0.01%  16.9 2100s\n",
      " 11643  2056     cutoff   32       496.37461  496.32095  0.01%  17.1 2116s\n",
      " 11778  2036     cutoff   40       496.37461  496.32315  0.01%  17.3 2136s\n",
      "\n",
      "Cutting planes:\n",
      "  Lazy constraints: 8723\n",
      "\n",
      "Explored 11954 nodes (207713 simplex iterations) in 2148.37 seconds\n",
      "Thread count was 4 (of 8 available processors)\n",
      "\n",
      "Solution count 10: 496.375 496.43 496.433 ... 499.171\n",
      "\n",
      "Optimal solution found (tolerance 1.00e-04)\n",
      "Best objective 4.963746125438e+02, best bound 4.963253937259e+02, gap 0.0099%\n",
      "\n",
      "User-callback calls 43112, time in user-callback 1845.80 sec\n"
     ]
    },
    {
     "name": "stdout",
     "output_type": "stream",
     "text": [
      "Time dual: 2148.58108232\n"
     ]
    }
   ],
   "source": [
    "NR = 0.01\n",
    "α = 0.05\n",
    "γ = 1;\n",
    "\n",
    "\n",
    "open(\"results/results.csv\", \"w\") do io\n",
    "    write(io, \"Algo,n,p,k,γ,NR,α,time,R2,OR2,t_synthetic,t_thresh_var\\n\")\n",
    "    for n in [2*10000]\n",
    "        for p in [10, 25, 50]\n",
    "            println(\"n=\",n,\" p=\", p)\n",
    "            k = div(p,2)\n",
    "            Random.seed!(42)\n",
    "            t_synthetic = @elapsed (X_train, y_train), (X_val, y_val), (X_test, y_test), β_true = generate_synthetic_data(n, p, k, NR);\n",
    "            t_thresh_var = @elapsed t_α, σ_X = get_t_α_and_σ_X(X_train, y_train, α, γ)\n",
    "            \n",
    "            #solving primal\n",
    "            println(\"Solving primal\")\n",
    "            log_path_primal = \"logs/Primal_\" * string(n) * \"_\" * string(p) * \"_\" * string(k) * \"_\" * string(γ) * \".txt\"\n",
    "            t_primal = @elapsed obj_value, β_primal = compute_primal(X_train, y_train, k, γ, t_α, σ_X, log_path_primal)\n",
    "            println(\"Time primal: \", t_primal)\n",
    "            #solving dual\n",
    "            println(\"Solving dual\")\n",
    "            log_path_dual = \"logs/Dual_\" * string(n) * \"_\" * string(p) * \"_\" * string(k) * \"_\" * string(γ) * \".txt\"\n",
    "            t_dual = @elapsed obj_value, β_dual = compute_dual(X_train, y_train, k, γ, t_α, σ_X, log_path_dual);\n",
    "            println(\"Time dual: \", t_dual)\n",
    "            R2_primal = get_insample_R2(X_train*β_primal, y_train, p)\n",
    "            R2_dual = get_insample_R2(X_train*β_dual, y_train, p)\n",
    "            OR2_primal = get_OR2(X_test*β_primal, y_test, y_train, p)\n",
    "            OR2_dual = get_OR2(X_test*β_dual, y_test, y_train, p)\n",
    "            \n",
    "            \n",
    "            list_primal = [x*\",\" for x in string.([n/2,p,k,γ,NR,α,\n",
    "                                r(t_primal,3),r(R2_primal,3),r(OR2_primal,3),r(t_synthetic,3),r(t_thresh_var,3)])]\n",
    "            s = \"Primal,\"*list2string(list_primal) \n",
    "            write(io, s)\n",
    "            list_dual = [x*\",\" for x in string.([n/2,p,k,γ,NR,α,\n",
    "                                r(t_dual,3),r(R2_dual,3),r(OR2_dual,3),r(t_synthetic,3),r(t_thresh_var,3)])]\n",
    "            s = \"Dual,\"*list2string(list_dual) \n",
    "            write(io, s)\n",
    "        end\n",
    "    end\n",
    "end\n",
    "            "
   ]
  },
  {
   "cell_type": "code",
   "execution_count": null,
   "metadata": {
    "scrolled": false
   },
   "outputs": [],
   "source": [
    "n = 2*10000\n",
    "p = 50\n",
    "k = 5\n",
    "γ = 1\n",
    "Random.seed!(42)\n",
    "(X_train, y_train), (X_val, y_val), (X_test, y_test), β_true = generate_synthetic_data(n, p, k, NR);\n",
    "t_α, σ_X = get_t_α_and_σ_X(X_train, y_train, α, γ)\n",
    "\n",
    "log_path_dual = \"logs/Dual_profview.txt\"\n",
    "Profile.init(n = 10^7, delay = 0.1)\n",
    "@profview obj_value, β_dual = compute_dual(X_train, y_train, k, γ, t_α, σ_X, log_path_dual)"
   ]
  },
  {
   "cell_type": "code",
   "execution_count": 12,
   "metadata": {
    "scrolled": true
   },
   "outputs": [
    {
     "ename": "UndefVarError",
     "evalue": "UndefVarError: β_true not defined",
     "output_type": "error",
     "traceback": [
      "UndefVarError: β_true not defined",
      "",
      "Stacktrace:",
      " [1] top-level scope at In[12]:1"
     ]
    }
   ],
   "source": [
    "hcat(β_true, β_primal)"
   ]
  },
  {
   "cell_type": "code",
   "execution_count": 31,
   "metadata": {
    "scrolled": true
   },
   "outputs": [
    {
     "data": {
      "text/plain": [
       "12×2 Array{Float64,2}:\n",
       "  0.0   0.0     \n",
       " -1.0  -0.994932\n",
       "  0.0   0.0     \n",
       " -1.0  -0.95602 \n",
       "  0.0   0.0     \n",
       "  0.0   0.0     \n",
       " -1.0  -1.01083 \n",
       "  0.0   0.0     \n",
       " -1.0  -0.860458\n",
       "  0.0   0.0     \n",
       "  0.0   0.0     \n",
       "  1.0   0.852981"
      ]
     },
     "execution_count": 31,
     "metadata": {},
     "output_type": "execute_result"
    }
   ],
   "source": [
    "hcat(β_true, β_dual)"
   ]
  },
  {
   "cell_type": "code",
   "execution_count": 18,
   "metadata": {},
   "outputs": [
    {
     "data": {
      "text/plain": [
       "0.07644200018898462"
      ]
     },
     "execution_count": 18,
     "metadata": {},
     "output_type": "execute_result"
    }
   ],
   "source": []
  },
  {
   "cell_type": "code",
   "execution_count": 19,
   "metadata": {},
   "outputs": [
    {
     "data": {
      "text/plain": [
       "0.07644200019152847"
      ]
     },
     "execution_count": 19,
     "metadata": {},
     "output_type": "execute_result"
    }
   ],
   "source": []
  },
  {
   "cell_type": "code",
   "execution_count": 20,
   "metadata": {},
   "outputs": [
    {
     "data": {
      "text/plain": [
       "-0.14067926932272168"
      ]
     },
     "execution_count": 20,
     "metadata": {},
     "output_type": "execute_result"
    }
   ],
   "source": []
  },
  {
   "cell_type": "code",
   "execution_count": 21,
   "metadata": {},
   "outputs": [
    {
     "data": {
      "text/plain": [
       "-0.14067926941381903"
      ]
     },
     "execution_count": 21,
     "metadata": {},
     "output_type": "execute_result"
    }
   ],
   "source": []
  },
  {
   "cell_type": "code",
   "execution_count": null,
   "metadata": {},
   "outputs": [],
   "source": []
  },
  {
   "cell_type": "code",
   "execution_count": null,
   "metadata": {},
   "outputs": [],
   "source": []
  }
 ],
 "metadata": {
  "kernelspec": {
   "display_name": "Julia 1.0.5",
   "language": "julia",
   "name": "julia-1.0"
  },
  "language_info": {
   "file_extension": ".jl",
   "mimetype": "application/julia",
   "name": "julia",
   "version": "1.0.5"
  },
  "toc": {
   "base_numbering": 1,
   "nav_menu": {},
   "number_sections": true,
   "sideBar": true,
   "skip_h1_title": false,
   "title_cell": "Table of Contents",
   "title_sidebar": "Contents",
   "toc_cell": false,
   "toc_position": {
    "height": "calc(100% - 180px)",
    "left": "10px",
    "top": "150px",
    "width": "384px"
   },
   "toc_section_display": true,
   "toc_window_display": true
  }
 },
 "nbformat": 4,
 "nbformat_minor": 4
}
