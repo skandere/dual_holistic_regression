{
 "cells": [
  {
   "cell_type": "markdown",
   "metadata": {},
   "source": [
    "# A Dual Approach to Holistic Regression"
   ]
  },
  {
   "cell_type": "markdown",
   "metadata": {},
   "source": [
    "## 2021.02.01 — Gradient Descent"
   ]
  },
  {
   "cell_type": "code",
   "execution_count": 155,
   "metadata": {},
   "outputs": [],
   "source": [
    "using Random, Distributions\n",
    "using LinearAlgebra\n",
    "using Gurobi, JuMP"
   ]
  },
  {
   "cell_type": "code",
   "execution_count": 156,
   "metadata": {},
   "outputs": [
    {
     "name": "stdout",
     "output_type": "stream",
     "text": [
      "Academic license - for non-commercial use only\n"
     ]
    }
   ],
   "source": [
    "# Create a gurobi model without the annoying academic license message\n",
    "gurobi_env = Gurobi.Env()\n",
    "function create_gurobi_model(; TimeLimit=-1, LogFile=\"logs.txt\")\n",
    "    model = Model(optimizer_with_attributes(() -> Gurobi.Optimizer(gurobi_env)));\n",
    "    if TimeLimit >= 0\n",
    "        println(\"Set Gurobi TimeLimit.\")\n",
    "        set_optimizer_attribute(model, \"TimeLimit\", TimeLimit)\n",
    "    end\n",
    "    set_optimizer_attribute(model, \"LogFile\", LogFile)\n",
    "    set_optimizer_attribute(model, \"OutputFlag\", 0)\n",
    "    return model\n",
    "end;"
   ]
  },
  {
   "cell_type": "markdown",
   "metadata": {},
   "source": [
    "## 1. Data and parameters"
   ]
  },
  {
   "cell_type": "code",
   "execution_count": 205,
   "metadata": {},
   "outputs": [
    {
     "data": {
      "text/plain": [
       "13"
      ]
     },
     "execution_count": 205,
     "metadata": {},
     "output_type": "execute_result"
    }
   ],
   "source": [
    "Random.seed!(2021)\n",
    "\n",
    "# Params\n",
    "ϵ = 10^(-15)\n",
    "n, p = 1000, 20\n",
    "\n",
    "# Robustness\n",
    "γ = 1\n",
    "\n",
    "# Significance\n",
    "t_α = quantile(TDist(n-p), 1 - 0.05/2) # Beware: n-p-1 if we add intercept\n",
    "\n",
    "# Data\n",
    "X = rand(n, p)\n",
    "β_true = [rand([0,1])*randn()*10 for i in 1:p]\n",
    "σ_noise = 0.001\n",
    "\n",
    "#y = rand(n)\n",
    "y = X*β_true + [randn() for i in 1:n] * σ_noise\n",
    "\n",
    "# Variance estimator\n",
    "M = X'X\n",
    "M_inv = M^-1\n",
    "σ_tilde = sqrt((y'*(I - X*M_inv*X')*y)/(n-p))\n",
    "σ_X = σ_tilde * sqrt.(diag(M_inv))\n",
    "\n",
    "# Sparsity\n",
    "k = length(findall(x->x!=0, β_true))"
   ]
  },
  {
   "cell_type": "markdown",
   "metadata": {},
   "source": [
    "## 2. Gradient Descent and Projection"
   ]
  },
  {
   "cell_type": "code",
   "execution_count": 206,
   "metadata": {},
   "outputs": [
    {
     "data": {
      "text/plain": [
       "get_max_inner (generic function with 1 method)"
      ]
     },
     "execution_count": 206,
     "metadata": {},
     "output_type": "execute_result"
    }
   ],
   "source": [
    "function get_max_inner(s_plus, s_minus)\n",
    "    \n",
    "    # Get s\n",
    "    s = s_plus + s_minus\n",
    "    \n",
    "    # Compute matrices\n",
    "    Z = Diagonal(s)\n",
    "    Z_plus = Diagonal(s_plus)\n",
    "    Z_minus = Diagonal(s_minus)\n",
    "    \n",
    "    # Compute D\n",
    "    D = (I/γ + Z*M)^-1\n",
    "    \n",
    "    # Compute u_Z\n",
    "    function compute_u_Z(λ_plus, λ_minus, μ)\n",
    "        Z_minus*(λ_minus + μ) - Z_plus*(λ_plus + μ)\n",
    "    end\n",
    "\n",
    "    # Compute norm\n",
    "    function compute_DZ_square_norm(in_norm)\n",
    "        return in_norm' * D*Z * in_norm\n",
    "    end\n",
    "    \n",
    "    # Compute max\n",
    "    model = create_gurobi_model()\n",
    "\n",
    "    @variable(model, λ_plus[1:p] >= 0)\n",
    "    @variable(model, λ_minus[1:p] >= 0)\n",
    "    @variable(model, μ[1:p] >= 0)\n",
    "\n",
    "    u_Z = compute_u_Z(λ_plus, λ_minus, μ)\n",
    "    \n",
    "    obj_1 = ϵ*sum(s_plus.*λ_plus + s_minus.*λ_minus)\n",
    "    obj_2 = t_α*μ'*(s.*σ_X)\n",
    "    obj_3 = - 0.5 * compute_DZ_square_norm(X'y - u_Z)\n",
    "\n",
    "    @objective(model, Max, obj_1 + obj_2 + obj_3)\n",
    "\n",
    "    optimize!(model)\n",
    "\n",
    "    # Compute β\n",
    "    u_Z = compute_u_Z(value.(λ_plus), value.(λ_minus), value.(μ))\n",
    "    sparsity_indexes = findall(x->x==1, s)\n",
    "\n",
    "    X_s = X[:, sparsity_indexes]\n",
    "    u_Z_s = u_Z[sparsity_indexes]\n",
    "    \n",
    "    β_s = ((I / γ) + X_s'X_s)^(-1)*(X_s'y - u_Z_s)\n",
    "    \n",
    "    β_pred = zeros(p)\n",
    "    β_pred[sparsity_indexes] = β_s\n",
    "    \n",
    "    return β_pred, objective_value(model)\n",
    "    \n",
    "end"
   ]
  },
  {
   "cell_type": "code",
   "execution_count": 207,
   "metadata": {},
   "outputs": [
    {
     "data": {
      "text/plain": [
       "compute_gradient (generic function with 1 method)"
      ]
     },
     "execution_count": 207,
     "metadata": {},
     "output_type": "execute_result"
    }
   ],
   "source": [
    "function compute_gradient(s)\n",
    "\n",
    "    ∇f = []\n",
    "    β_pred, max_obj_value = get_max_inner(s[1:p], s[p+1:end])\n",
    "    \n",
    "    for i in 1:2p\n",
    "        h = 10^-10\n",
    "        s_bis = [s[j] - h*(i == j) for j=1:2p]\n",
    "        ∂f_i = (max_obj_value - get_max_inner(s_bis[1:p], s_bis[p+1:end])[2]) / h\n",
    "        push!(∇f, ∂f_i)\n",
    "    end\n",
    "    \n",
    "    return β_pred, max_obj_value, ∇f\n",
    "end"
   ]
  },
  {
   "cell_type": "code",
   "execution_count": 208,
   "metadata": {},
   "outputs": [
    {
     "data": {
      "text/plain": [
       "step_gradient_descent (generic function with 1 method)"
      ]
     },
     "execution_count": 208,
     "metadata": {},
     "output_type": "execute_result"
    }
   ],
   "source": [
    "function step_gradient_descent(s, α)\n",
    "    β_pred, max_obj_value, ∇f = compute_gradient(s)\n",
    "    return β_pred, max_obj_value, s - α * (∇f / sqrt(sum(e^2 for e in ∇f)))\n",
    "end"
   ]
  },
  {
   "cell_type": "code",
   "execution_count": 209,
   "metadata": {},
   "outputs": [
    {
     "data": {
      "text/plain": [
       "step_gradient_descent_and_projection (generic function with 1 method)"
      ]
     },
     "execution_count": 209,
     "metadata": {},
     "output_type": "execute_result"
    }
   ],
   "source": [
    "function step_gradient_descent_and_projection(s, α)\n",
    "\n",
    "    # Gradient Descent step\n",
    "    β_pred, max_obj_value, s_gd = step_gradient_descent(s, α)\n",
    "\n",
    "    # Projection\n",
    "    model = create_gurobi_model()\n",
    "    @variable(model, s_proj[1:2p], Bin)\n",
    "    for i in 1:p\n",
    "        @constraint(model, s_proj[[i,p+i]] in MOI.SOS1([i,p+i]))\n",
    "    end\n",
    "    @constraint(model, sum(s_proj) <= k) # Sparsity\n",
    "    @objective(model, Min, sum((s_proj[i] - s_gd[i])^2 for i in 1:2p))\n",
    "    optimize!(model)\n",
    "    \n",
    "    return max_obj_value, β_pred, value.(s_proj)\n",
    "    \n",
    "end"
   ]
  },
  {
   "cell_type": "markdown",
   "metadata": {},
   "source": [
    "### 4. Get initial feasible solution"
   ]
  },
  {
   "cell_type": "code",
   "execution_count": 210,
   "metadata": {},
   "outputs": [
    {
     "data": {
      "text/plain": [
       "get_initial_solution (generic function with 1 method)"
      ]
     },
     "execution_count": 210,
     "metadata": {},
     "output_type": "execute_result"
    }
   ],
   "source": [
    "function get_initial_solution()\n",
    "        \n",
    "    s_plus = zeros(p)\n",
    "    s_minus = zeros(p)\n",
    "\n",
    "    indexes_plus = sample(1:p, div(k,2), replace = false)\n",
    "    indexes_minus = sample([i for i=1:p if !(i in indexes_plus)], k - div(k,2), replace = false)\n",
    "\n",
    "    s_plus[indexes_plus] .= 1\n",
    "    s_minus[indexes_minus] .= 1;\n",
    "    \n",
    "    return [s_plus; s_minus]\n",
    "end"
   ]
  },
  {
   "cell_type": "code",
   "execution_count": 211,
   "metadata": {},
   "outputs": [
    {
     "data": {
      "text/plain": [
       "find_solution_gd_and_proj (generic function with 1 method)"
      ]
     },
     "execution_count": 211,
     "metadata": {},
     "output_type": "execute_result"
    }
   ],
   "source": [
    "function find_solution_gd_and_proj(s_init, α)\n",
    "    last_s = nothing\n",
    "    new_s = s_init\n",
    "    iter = 0\n",
    "\n",
    "    while(last_s == nothing || new_s != last_s)\n",
    "        iter += 1\n",
    "        last_s = new_s\n",
    "        max_obj_value, β_pred, new_s = step_gradient_descent_and_projection(last_s, α)\n",
    "\n",
    "        if iter > 100\n",
    "            break\n",
    "        end\n",
    "    end\n",
    "    \n",
    "    max_obj, β_pred, _ = step_gradient_descent_and_projection(new_s, α);\n",
    "    \n",
    "    return max_obj, β_pred\n",
    "end"
   ]
  },
  {
   "cell_type": "code",
   "execution_count": 212,
   "metadata": {},
   "outputs": [
    {
     "name": "stdout",
     "output_type": "stream",
     "text": [
      "-76812.20512034735\n",
      "-76247.09677367916\n",
      "-77026.464207153\n",
      "-71674.10587870472\n",
      "-77405.10701412671\n"
     ]
    },
    {
     "data": {
      "text/plain": [
       "20×2 Array{Float64,2}:\n",
       "  -0.127416      -0.0    \n",
       "   0.0            2.12786\n",
       "   0.0            0.0    \n",
       " -10.5664       -10.6497 \n",
       "   0.0           -2.09176\n",
       "   0.0           -0.0    \n",
       "  -0.208998       0.0    \n",
       "  -2.96653       -2.96798\n",
       "   5.66644        5.79304\n",
       "   0.0           -0.0    \n",
       "   0.0           -1.33145\n",
       " -11.5003       -11.5181 \n",
       "  17.0218        17.3192 \n",
       "   0.0           -0.0    \n",
       "   9.64674        9.83614\n",
       "  -5.80372       -5.71342\n",
       "   7.6499         7.68876\n",
       "  -0.000211793    0.0    \n",
       "   5.19872        5.35873\n",
       "   4.2078         4.37629"
      ]
     },
     "execution_count": 212,
     "metadata": {},
     "output_type": "execute_result"
    }
   ],
   "source": [
    "best_max_obj = Inf\n",
    "best_β_pred = nothing\n",
    "\n",
    "for i in 1:5\n",
    "    s_init = get_initial_solution()\n",
    "    max_obj, β_pred = find_solution_gd_and_proj(s_init, p)\n",
    "    if max_obj < best_max_obj\n",
    "        best_β_pred = β_pred\n",
    "        best_max_obj = max_obj\n",
    "    end\n",
    "    println(max_obj)\n",
    "end\n",
    "hcat(best_β_pred, β_true)"
   ]
  },
  {
   "cell_type": "code",
   "execution_count": null,
   "metadata": {},
   "outputs": [],
   "source": []
  }
 ],
 "metadata": {
  "kernelspec": {
   "display_name": "Julia 1.0.5",
   "language": "julia",
   "name": "julia-1.0"
  },
  "language_info": {
   "file_extension": ".jl",
   "mimetype": "application/julia",
   "name": "julia",
   "version": "1.0.5"
  }
 },
 "nbformat": 4,
 "nbformat_minor": 4
}
