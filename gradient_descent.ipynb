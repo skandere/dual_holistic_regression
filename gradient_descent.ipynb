{
 "cells": [
  {
   "cell_type": "markdown",
   "metadata": {},
   "source": [
    "# A Dual Approach to Holistic Regression"
   ]
  },
  {
   "cell_type": "markdown",
   "metadata": {},
   "source": [
    "## 2021.02.01 — Gradient Descent"
   ]
  },
  {
   "cell_type": "code",
   "execution_count": 61,
   "metadata": {},
   "outputs": [],
   "source": [
    "using Random, Distributions\n",
    "using LinearAlgebra\n",
    "using Gurobi, JuMP"
   ]
  },
  {
   "cell_type": "code",
   "execution_count": 62,
   "metadata": {},
   "outputs": [
    {
     "name": "stdout",
     "output_type": "stream",
     "text": [
      "Academic license - for non-commercial use only\n"
     ]
    }
   ],
   "source": [
    "# Create a gurobi model without the annoying academic license message\n",
    "gurobi_env = Gurobi.Env()\n",
    "function create_gurobi_model(; TimeLimit=-1, LogFile=\"logs.txt\")\n",
    "    model = Model(optimizer_with_attributes(() -> Gurobi.Optimizer(gurobi_env)));\n",
    "    if TimeLimit >= 0\n",
    "        println(\"Set Gurobi TimeLimit.\")\n",
    "        set_optimizer_attribute(model, \"TimeLimit\", TimeLimit)\n",
    "    end\n",
    "    set_optimizer_attribute(model, \"LogFile\", LogFile)\n",
    "    set_optimizer_attribute(model, \"OutputFlag\", 0)\n",
    "    return model\n",
    "end;"
   ]
  },
  {
   "cell_type": "markdown",
   "metadata": {},
   "source": [
    "## 1. Data and parameters"
   ]
  },
  {
   "cell_type": "code",
   "execution_count": 198,
   "metadata": {},
   "outputs": [],
   "source": [
    "Random.seed!(2021)\n",
    "\n",
    "# Params\n",
    "ϵ = 10^(-15)\n",
    "n, p = 1000, 25\n",
    "\n",
    "# Robustness\n",
    "γ = 1\n",
    "\n",
    "# Significance\n",
    "t_α = quantile(TDist(n-p), 1 - 0.01/2) # Beware: n-p-1 if we add intercept\n",
    "\n",
    "# Data\n",
    "X = rand(n, p)\n",
    "β_true = [rand([0,1])*randn()*10 for i in 1:p]\n",
    "σ_noise = 0.01\n",
    "\n",
    "#y = rand(n)\n",
    "y = X*β_true + [randn() for i in 1:n] * σ_noise\n",
    "\n",
    "# Variance estimator\n",
    "M = X'X\n",
    "M_inv = M^-1\n",
    "σ_tilde = sqrt((y'*(I - X*M_inv*X')*y)/(n-p))\n",
    "σ_X = σ_tilde * sqrt.(diag(M_inv))\n",
    "\n",
    "# Sparsity\n",
    "k = length(findall(x->x!=0, β_true))\n",
    "\n",
    ";"
   ]
  },
  {
   "cell_type": "markdown",
   "metadata": {},
   "source": [
    "## 2. Gradient Descent and Projection"
   ]
  },
  {
   "cell_type": "code",
   "execution_count": 199,
   "metadata": {},
   "outputs": [
    {
     "data": {
      "text/plain": [
       "get_max_inner (generic function with 1 method)"
      ]
     },
     "execution_count": 199,
     "metadata": {},
     "output_type": "execute_result"
    }
   ],
   "source": [
    "function get_max_inner(s_plus, s_minus)\n",
    "    \n",
    "    # Get s\n",
    "    s = s_plus + s_minus\n",
    "    \n",
    "    # Compute matrices\n",
    "    Z = Diagonal(s)\n",
    "    Z_plus = Diagonal(s_plus)\n",
    "    Z_minus = Diagonal(s_minus)\n",
    "    \n",
    "    # Compute D\n",
    "    D = (I/γ + Z*M)^-1\n",
    "    \n",
    "    # Compute u_Z\n",
    "    function compute_u_Z(λ_plus, λ_minus, μ)\n",
    "        Z_minus*(λ_minus + μ) - Z_plus*(λ_plus + μ)\n",
    "    end\n",
    "\n",
    "    # Compute norm\n",
    "    function compute_DZ_square_norm(in_norm)\n",
    "        return in_norm' * D*Z * in_norm\n",
    "    end\n",
    "    \n",
    "    # Compute max\n",
    "    model = create_gurobi_model()\n",
    "\n",
    "    @variable(model, λ_plus[1:p] >= 0)\n",
    "    @variable(model, λ_minus[1:p] >= 0)\n",
    "    @variable(model, μ[1:p] >= 0)\n",
    "\n",
    "    u_Z = compute_u_Z(λ_plus, λ_minus, μ)\n",
    "    \n",
    "    obj_1 = ϵ*sum(s_plus.*λ_plus + s_minus.*λ_minus)\n",
    "    obj_2 = t_α*μ'*(s.*σ_X)\n",
    "    obj_3 = - 0.5 * compute_DZ_square_norm(X'y - u_Z)\n",
    "\n",
    "    @objective(model, Max, obj_1 + obj_2 + obj_3)\n",
    "\n",
    "    optimize!(model)\n",
    "\n",
    "    # Compute β\n",
    "    u_Z = compute_u_Z(value.(λ_plus), value.(λ_minus), value.(μ))\n",
    "    sparsity_indexes = findall(x->x==1, s)\n",
    "\n",
    "    X_s = X[:, sparsity_indexes]\n",
    "    u_Z_s = u_Z[sparsity_indexes]\n",
    "    \n",
    "    β_s = ((I / γ) + X_s'X_s)^(-1)*(X_s'y - u_Z_s)\n",
    "    \n",
    "    β_pred = zeros(p)\n",
    "    β_pred[sparsity_indexes] = β_s\n",
    "    \n",
    "    return β_pred, objective_value(model)\n",
    "    \n",
    "end"
   ]
  },
  {
   "cell_type": "code",
   "execution_count": 200,
   "metadata": {},
   "outputs": [
    {
     "data": {
      "text/plain": [
       "compute_gradient (generic function with 1 method)"
      ]
     },
     "execution_count": 200,
     "metadata": {},
     "output_type": "execute_result"
    }
   ],
   "source": [
    "function compute_gradient(s)\n",
    "\n",
    "    ∇f = []\n",
    "    β_pred, max_obj_value = get_max_inner(s[1:p], s[p+1:end])\n",
    "    \n",
    "    for i in 1:2p\n",
    "        h = 10^-10\n",
    "        s_bis = [s[j] - h*(i == j) for j=1:2p]\n",
    "        ∂f_i = (max_obj_value - get_max_inner(s_bis[1:p], s_bis[p+1:end])[2]) / h\n",
    "        push!(∇f, ∂f_i)\n",
    "    end\n",
    "    \n",
    "    return β_pred, max_obj_value, ∇f\n",
    "end"
   ]
  },
  {
   "cell_type": "code",
   "execution_count": 201,
   "metadata": {},
   "outputs": [
    {
     "data": {
      "text/plain": [
       "step_gradient_descent (generic function with 1 method)"
      ]
     },
     "execution_count": 201,
     "metadata": {},
     "output_type": "execute_result"
    }
   ],
   "source": [
    "function step_gradient_descent(s, α)\n",
    "    β_pred, max_obj_value, ∇f = compute_gradient(s)\n",
    "    return β_pred, max_obj_value, s - α * ∇f\n",
    "end"
   ]
  },
  {
   "cell_type": "code",
   "execution_count": 202,
   "metadata": {},
   "outputs": [
    {
     "data": {
      "text/plain": [
       "step_gradient_descent_and_projection (generic function with 1 method)"
      ]
     },
     "execution_count": 202,
     "metadata": {},
     "output_type": "execute_result"
    }
   ],
   "source": [
    "function step_gradient_descent_and_projection(s, α)\n",
    "\n",
    "    # Gradient Descent step\n",
    "    β_pred, max_obj_value, s_gd = step_gradient_descent(s, α)\n",
    "\n",
    "    # Projection\n",
    "    model = create_gurobi_model()\n",
    "    @variable(model, s_proj[1:2p], Bin)\n",
    "    for i in 1:p\n",
    "        @constraint(model, s_proj[[i,p+i]] in MOI.SOS1([i,p+i]))\n",
    "    end\n",
    "    @constraint(model, sum(s_proj) <= k) # Sparsity\n",
    "    @objective(model, Min, sum((s_proj[i] - s_gd[i])^2 for i in 1:2p))\n",
    "    optimize!(model)\n",
    "    \n",
    "    return max_obj_value, β_pred, value.(s_proj)\n",
    "    \n",
    "end"
   ]
  },
  {
   "cell_type": "markdown",
   "metadata": {},
   "source": [
    "### 3. Main"
   ]
  },
  {
   "cell_type": "code",
   "execution_count": 203,
   "metadata": {},
   "outputs": [],
   "source": [
    "# Random start\n",
    "#TODO: use jump to find a FS\n",
    "\n",
    "Random.seed!(2035)\n",
    "new_s_plus = zeros(p)\n",
    "new_s_minus = zeros(p)\n",
    "\n",
    "indexes_s_plus = sample(1:p, div(k,2), replace = false)\n",
    "indexes_s_minus = sample([i for i=1:p if !(i in indexes_s_plus)], k - div(k,2), replace = false)\n",
    "\n",
    "new_s_plus[indexes_s_plus] .= 1\n",
    "new_s_minus[indexes_s_minus] .= 1;"
   ]
  },
  {
   "cell_type": "code",
   "execution_count": 204,
   "metadata": {
    "scrolled": true
   },
   "outputs": [
    {
     "name": "stdout",
     "output_type": "stream",
     "text": [
      "\n",
      "Iter: 1\n",
      "Max Obj Value: -68462.76181098942\n",
      "β_pred: [-6.14382, 0.0, -5.13905, 0.0, 0.00286806, 0.0, 0.00285436, -9.63911, 0.0, 0.0, 0.0, 0.0, 0.0, 0.313741, -2.24981, 0.0, 0.0, -0.0236311, 0.0, 0.00285818, -0.00290347, 0.292269, 0.00285538, 0.0, 0.0]\n",
      "new_s: [0.0, -0.0, 0.0, 0.0, -0.0, 0.0, 0.0, 0.0, 0.0, 0.0, 1.0, 0.0, 0.0, 0.0, 0.0, 1.0, 0.0, 0.0, 1.0, 0.0, 1.0, 0.0, 0.0, 0.0, 0.0, -0.0, 0.0, -0.0, 0.0, 0.0, -0.0, 1.0, -0.0, 0.0, 0.0, 0.0, 1.0, 1.0, 1.0, -0.0, 0.0, 1.0, -0.0, 0.0, 1.0, 0.0, 1.0, 1.0, -0.0, -0.0]\n",
      "\n",
      "Iter: 2\n",
      "Max Obj Value: -66165.88514059025\n",
      "β_pred: [0.0, 0.0, 0.0, 0.0, 0.0, 0.0, -7.44811, 0.0, 0.0, 0.0, 0.00284386, -0.00286286, -0.00280653, -4.5409, 0.0, 0.00283553, -6.40415, 0.0, 0.00290206, -4.44678, 9.87573, -3.96506, -4.08666, 0.0, 0.0]\n",
      "new_s: [1.0, -0.0, 1.0, -0.0, 1.0, -0.0, 0.0, 1.0, 0.0, -0.0, 0.0, 1.0, 1.0, 1.0, 0.0, 0.0, 0.0, -0.0, 0.0, 0.0, -0.0, 0.0, 0.0, 0.0, -0.0, 0.0, 0.0, 0.0, 0.0, 0.0, 0.0, -0.0, 0.0, -0.0, 0.0, 1.0, 0.0, 0.0, 0.0, 1.0, 1.0, -0.0, 0.0, 1.0, -0.0, 0.0, -0.0, -0.0, 1.0, 0.0]\n",
      "\n",
      "Iter: 3\n",
      "Max Obj Value: -115129.5715981453\n",
      "β_pred: [0.0028927, 0.0, 0.00289148, 0.0, 0.00286806, 0.0, 0.0, 0.00289498, 0.0, 0.0, -9.41029, 9.57617, 15.4192, 2.05085, -0.483052, -18.3755, 0.0, 0.0, -21.4904, 0.0, 0.0, 0.0, 0.0, -0.433883, 0.0]\n",
      "new_s: [-0.0, 0.0, 0.0, 0.0, 0.0, 0.0, 0.0, 0.0, 0.0, -0.0, 0.0, 1.0, 1.0, 1.0, 1.0, 0.0, 0.0, 0.0, 0.0, 0.0, 1.0, 0.0, 0.0, 1.0, 0.0, 0.0, 0.0, 1.0, 0.0, 1.0, 0.0, 0.0, 1.0, 0.0, 0.0, 1.0, 0.0, 0.0, 0.0, 0.0, 1.0, 0.0, 0.0, 1.0, 0.0, 0.0, 0.0, 0.0, 0.0, 0.0]\n",
      "\n",
      "Iter: 4\n",
      "Max Obj Value: -128708.79169645072\n",
      "β_pred: [0.0, 0.0, -0.364688, 0.0, -3.25604, 0.0, 0.0, -8.02956, 0.0, 0.0, -10.2181, 8.19199, 14.7225, 1.50834, 0.00288186, -19.3003, 0.0, 0.0, -22.5597, 0.0, 16.1091, 0.0, 0.0, 0.00280106, 0.0]\n",
      "new_s: [0.0, 0.0, 0.0, 0.0, 0.0, 0.0, 0.0, 0.0, 0.0, 0.0, 0.0, 1.0, 1.0, -0.0, 0.0, 0.0, 0.0, 0.0, 0.0, 0.0, 1.0, 0.0, 0.0, 0.0, 0.0, 1.0, 0.0, 1.0, 0.0, 1.0, 0.0, 0.0, 1.0, 0.0, 0.0, 1.0, 0.0, 0.0, 0.0, 1.0, 1.0, -0.0, 0.0, 1.0, 0.0, 0.0, 0.0, 0.0, 1.0, 0.0]\n",
      "\n",
      "Iter: 5\n",
      "Max Obj Value: -129053.1537964611\n",
      "β_pred: [-3.16291, 0.0, -0.00289148, 0.0, -2.82036, 0.0, 0.0, -7.54184, 0.0, 0.0, -9.66236, 8.67017, 15.2313, 0.0, -0.00288186, -18.7576, 0.0, 0.0, -21.942, 0.0, 16.6403, 0.0, 0.0, -0.00280106, 0.0]\n",
      "new_s: [0.0, 0.0, 1.0, 0.0, 0.0, 0.0, 0.0, 0.0, 0.0, 0.0, 0.0, 1.0, 1.0, 0.0, 1.0, 0.0, 0.0, 0.0, 0.0, 0.0, 1.0, 0.0, 0.0, 0.0, 0.0, 1.0, 0.0, 0.0, 0.0, 0.0, 0.0, 0.0, 1.0, 0.0, 0.0, 1.0, 0.0, 0.0, 1.0, 0.0, 1.0, 0.0, 0.0, 1.0, 0.0, 0.0, 0.0, 0.0, 1.0, 0.0]\n",
      "\n",
      "Iter: 6\n",
      "Max Obj Value: -128692.65040361183\n",
      "β_pred: [-3.42594, 0.0, 0.00289148, 0.0, 0.0, 0.0, 0.0, -7.73501, 0.0, 0.0, -9.95636, 8.29393, 14.9588, -0.00284257, 0.00288186, -19.145, 0.0, 0.0, -22.171, 0.0, 16.3752, 0.0, 0.0, -0.473506, 0.0]\n",
      "new_s: [0.0, 0.0, 0.0, 0.0, 0.0, 0.0, 0.0, 0.0, 0.0, 0.0, 0.0, 1.0, 1.0, 1.0, 0.0, 0.0, 0.0, 0.0, 0.0, 0.0, 1.0, 0.0, 0.0, 0.0, 0.0, 1.0, 0.0, 1.0, 0.0, 1.0, 0.0, 0.0, 1.0, 0.0, 0.0, 1.0, 0.0, 0.0, 0.0, 1.0, 1.0, 0.0, 0.0, 1.0, 0.0, 0.0, 0.0, 0.0, 0.0, 0.0]\n",
      "\n",
      "Iter: 7\n",
      "Max Obj Value: -129205.2438790753\n",
      "β_pred: [-3.33942, 0.0, -0.124403, 0.0, -2.93447, 0.0, 0.0, -7.81232, 0.0, 0.0, -9.84598, 8.56558, 15.0315, 1.83727, -0.107089, -18.9058, 0.0, 0.0, -22.1376, 0.0, 16.4501, 0.0, 0.0, 0.0, 0.0]\n",
      "new_s: [0.0, 0.0, 0.0, 0.0, 0.0, 0.0, 0.0, 0.0, 0.0, 0.0, 0.0, 1.0, 1.0, 1.0, 0.0, 0.0, 0.0, 0.0, 0.0, 0.0, 1.0, 0.0, 0.0, 0.0, 0.0, 1.0, 0.0, 1.0, 0.0, 1.0, 0.0, 0.0, 1.0, 0.0, 0.0, 1.0, 0.0, 0.0, 0.0, 1.0, 1.0, 0.0, 0.0, 1.0, 0.0, 0.0, 0.0, 0.0, 0.0, 0.0]\n"
     ]
    }
   ],
   "source": [
    "last_s = nothing\n",
    "new_s = [new_s_plus; new_s_minus]\n",
    "iter = 0\n",
    "\n",
    "while(last_s == nothing || new_s != last_s)\n",
    "    iter += 1\n",
    "    last_s = new_s\n",
    "    max_obj_value, β_pred, new_s = step_gradient_descent_and_projection(last_s, 0.0001)\n",
    "    \n",
    "    \n",
    "    println()\n",
    "    println(\"Iter: \", iter)\n",
    "    println(\"Max Obj Value: \", max_obj_value)\n",
    "    println(\"β_pred: \", β_pred)\n",
    "    println(\"new_s: \", new_s)\n",
    "    \n",
    "    if iter > 100\n",
    "        break\n",
    "    end\n",
    "end"
   ]
  },
  {
   "cell_type": "code",
   "execution_count": 205,
   "metadata": {},
   "outputs": [],
   "source": [
    "_, β_pred, _ = step_gradient_descent_and_projection(new_s, 0.0001);"
   ]
  },
  {
   "cell_type": "code",
   "execution_count": 206,
   "metadata": {},
   "outputs": [
    {
     "data": {
      "text/plain": [
       "25×2 Array{Float64,2}:\n",
       "  -3.33942    -3.26292 \n",
       "   0.0        -0.0     \n",
       "  -0.124403    0.0     \n",
       "   0.0         0.0     \n",
       "  -2.93447    -2.90645 \n",
       "   0.0         0.0     \n",
       "   0.0        -0.0     \n",
       "  -7.81232    -7.78471 \n",
       "   0.0         0.0     \n",
       "   0.0        -0.0     \n",
       "  -9.84598    -9.90169 \n",
       "   8.56558     8.74835 \n",
       "  15.0315     15.3097  \n",
       "   1.83727     1.96272 \n",
       "  -0.107089    0.0     \n",
       " -18.9058    -19.064   \n",
       "   0.0        -0.753625\n",
       "   0.0        -0.152445\n",
       " -22.1376    -22.323   \n",
       "   0.0         0.0     \n",
       "  16.4501     16.7532  \n",
       "   0.0         0.0     \n",
       "   0.0        -0.0     \n",
       "   0.0         0.0     \n",
       "   0.0        -0.0     "
      ]
     },
     "execution_count": 206,
     "metadata": {},
     "output_type": "execute_result"
    }
   ],
   "source": [
    "hcat(β_pred, β_true)"
   ]
  },
  {
   "cell_type": "markdown",
   "metadata": {},
   "source": [
    "### 4. Get initial feasible solution"
   ]
  },
  {
   "cell_type": "code",
   "execution_count": 207,
   "metadata": {},
   "outputs": [
    {
     "data": {
      "text/plain": [
       "get_initial_solution (generic function with 1 method)"
      ]
     },
     "execution_count": 207,
     "metadata": {},
     "output_type": "execute_result"
    }
   ],
   "source": [
    "function get_initial_solution()\n",
    "        \n",
    "    s_plus = zeros(p)\n",
    "    s_minus = zeros(p)\n",
    "\n",
    "    indexes_plus = sample(1:p, div(k,2), replace = false)\n",
    "    indexes_minus = sample([i for i=1:p if !(i in indexes_plus)], k - div(k,2), replace = false)\n",
    "\n",
    "    s_plus[indexes_plus] .= 1\n",
    "    s_minus[indexes_minus] .= 1;\n",
    "    \n",
    "    return [s_plus; s_minus]\n",
    "end"
   ]
  },
  {
   "cell_type": "code",
   "execution_count": 208,
   "metadata": {},
   "outputs": [
    {
     "data": {
      "text/plain": [
       "find_solution_gd_and_proj (generic function with 1 method)"
      ]
     },
     "execution_count": 208,
     "metadata": {},
     "output_type": "execute_result"
    }
   ],
   "source": [
    "function find_solution_gd_and_proj(s_init, α)\n",
    "    last_s = nothing\n",
    "    new_s = s_init\n",
    "    iter = 0\n",
    "\n",
    "    while(last_s == nothing || new_s != last_s)\n",
    "        iter += 1\n",
    "        last_s = new_s\n",
    "        max_obj_value, β_pred, new_s = step_gradient_descent_and_projection(last_s, α)\n",
    "\n",
    "        if iter > 100\n",
    "            break\n",
    "        end\n",
    "    end\n",
    "    \n",
    "    max_obj, β_pred, _ = step_gradient_descent_and_projection(new_s, α);\n",
    "    \n",
    "    return max_obj, β_pred\n",
    "end"
   ]
  },
  {
   "cell_type": "code",
   "execution_count": 209,
   "metadata": {},
   "outputs": [
    {
     "name": "stdout",
     "output_type": "stream",
     "text": [
      "-128818.06116098595\n",
      "-128818.06116098595\n",
      "-129205.3130165284\n",
      "-128818.06116098595\n",
      "-128818.06116098595\n",
      "-128818.06116098595\n",
      "-129206.3540434997\n",
      "-128818.06116098595\n",
      "-128818.06116098595\n",
      "-129204.62361916532\n"
     ]
    },
    {
     "data": {
      "text/plain": [
       "25×2 Array{Float64,2}:\n",
       "  -3.33584      -3.26292 \n",
       "   0.0          -0.0     \n",
       "   0.00289148    0.0     \n",
       "   0.0           0.0     \n",
       "  -2.9402       -2.90645 \n",
       "   0.0           0.0     \n",
       "   0.0          -0.0     \n",
       "  -7.80586      -7.78471 \n",
       "   0.0           0.0     \n",
       "   0.0          -0.0     \n",
       "  -9.85329      -9.90169 \n",
       "   8.5645        8.74835 \n",
       "  15.0453       15.3097  \n",
       "   1.82363       1.96272 \n",
       "   0.0           0.0     \n",
       " -18.9188      -19.064   \n",
       "   0.0          -0.753625\n",
       "  -0.234401     -0.152445\n",
       " -22.1413      -22.323   \n",
       "   0.0           0.0     \n",
       "  16.4747       16.7532  \n",
       "   0.0           0.0     \n",
       "   0.0          -0.0     \n",
       "   0.0           0.0     \n",
       "   0.0          -0.0     "
      ]
     },
     "execution_count": 209,
     "metadata": {},
     "output_type": "execute_result"
    }
   ],
   "source": [
    "best_max_obj = Inf\n",
    "best_β_pred = nothing\n",
    "\n",
    "for i in 1:10\n",
    "    s_init = get_initial_solution()\n",
    "    max_obj, β_pred = find_solution_gd_and_proj(s_init, 0.0001)\n",
    "    if max_obj < best_max_obj\n",
    "        best_β_pred = β_pred\n",
    "        best_max_obj = max_obj\n",
    "    end\n",
    "    println(max_obj)\n",
    "end\n",
    "hcat(best_β_pred, β_true)"
   ]
  },
  {
   "cell_type": "code",
   "execution_count": null,
   "metadata": {},
   "outputs": [],
   "source": []
  },
  {
   "cell_type": "code",
   "execution_count": null,
   "metadata": {},
   "outputs": [],
   "source": []
  },
  {
   "cell_type": "code",
   "execution_count": null,
   "metadata": {},
   "outputs": [],
   "source": []
  },
  {
   "cell_type": "code",
   "execution_count": null,
   "metadata": {},
   "outputs": [],
   "source": []
  }
 ],
 "metadata": {
  "kernelspec": {
   "display_name": "Julia 1.0.5",
   "language": "julia",
   "name": "julia-1.0"
  },
  "language_info": {
   "file_extension": ".jl",
   "mimetype": "application/julia",
   "name": "julia",
   "version": "1.0.5"
  }
 },
 "nbformat": 4,
 "nbformat_minor": 4
}
