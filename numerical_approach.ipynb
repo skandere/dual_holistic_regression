{
 "cells": [
  {
   "cell_type": "markdown",
   "metadata": {},
   "source": [
    "# A Dual Approach to Holistic Regression"
   ]
  },
  {
   "cell_type": "markdown",
   "metadata": {},
   "source": [
    "## 2021.01.25 — Numerical Approach"
   ]
  },
  {
   "cell_type": "code",
   "execution_count": 1,
   "metadata": {},
   "outputs": [],
   "source": [
    "using Random, Distributions\n",
    "using LinearAlgebra\n",
    "using Gurobi, JuMP\n",
    "using FiniteDifferences"
   ]
  },
  {
   "cell_type": "code",
   "execution_count": 2,
   "metadata": {},
   "outputs": [
    {
     "name": "stdout",
     "output_type": "stream",
     "text": [
      "Academic license - for non-commercial use only\n"
     ]
    }
   ],
   "source": [
    "# Create a gurobi model without the annoying academic license message\n",
    "gurobi_env = Gurobi.Env()\n",
    "function create_gurobi_model(; TimeLimit=-1, LogFile=\"logs.txt\")\n",
    "    model = Model(optimizer_with_attributes(() -> Gurobi.Optimizer(gurobi_env)));\n",
    "    if TimeLimit >= 0\n",
    "        println(\"Set Gurobi TimeLimit.\")\n",
    "        set_optimizer_attribute(model, \"TimeLimit\", TimeLimit)\n",
    "    end\n",
    "    set_optimizer_attribute(model, \"LogFile\", LogFile)\n",
    "    set_optimizer_attribute(model, \"OutputFlag\", 0)\n",
    "    return model\n",
    "end;"
   ]
  },
  {
   "cell_type": "markdown",
   "metadata": {},
   "source": [
    "### 1. Data"
   ]
  },
  {
   "cell_type": "code",
   "execution_count": 26,
   "metadata": {},
   "outputs": [],
   "source": [
    "Random.seed!(2021)\n",
    "\n",
    "# Params\n",
    "ϵ = 10^(-15)\n",
    "α = 0.05\n",
    "γ = 1\n",
    "n, p = 100, 5\n",
    "t_α = quantile(TDist(n-p), 1 - α/2) # Beware: n-p-1 if we add intercept\n",
    "#t_α = 1\n",
    "# Data\n",
    "X = rand(n, p)\n",
    "y = rand(n)\n",
    "\n",
    "# Variance\n",
    "M = X'X\n",
    "M_inv = M^-1\n",
    "σ_tilde =  sqrt((y'*(I - X*M_inv*X')*y)/(n-p))\n",
    "σ_X = σ_tilde * sqrt.(diag(M_inv))\n",
    "\n",
    ";"
   ]
  },
  {
   "cell_type": "code",
   "execution_count": 27,
   "metadata": {},
   "outputs": [
    {
     "data": {
      "text/plain": [
       "get_max_inner (generic function with 1 method)"
      ]
     },
     "execution_count": 27,
     "metadata": {},
     "output_type": "execute_result"
    }
   ],
   "source": [
    "function get_max_inner(s_plus, s_minus)\n",
    "    # Get s\n",
    "    s = s_plus + s_minus\n",
    "    \n",
    "    # Compute matrices\n",
    "    Z = Diagonal(s)\n",
    "    Z_plus = Diagonal(s_plus)\n",
    "    Z_minus = Diagonal(s_minus)\n",
    "    \n",
    "    # Compute D\n",
    "    D = (I/γ + Z*M)^-1\n",
    "\n",
    "    # Compute u_Z\n",
    "    function compute_u_Z(λ_plus, λ_minus, μ)\n",
    "        Z_minus*(λ_minus + μ) - Z_plus*(λ_plus + μ)\n",
    "    end\n",
    "\n",
    "    # Compute norm\n",
    "    function compute_DZ_square_norm(in_norm)\n",
    "        return in_norm' * D*Z * in_norm\n",
    "    end\n",
    "    \n",
    "    # Compute max\n",
    "    model = create_gurobi_model()\n",
    "\n",
    "    @variable(model, λ_plus[1:p] >= 0)\n",
    "    @variable(model, λ_minus[1:p] >= 0)\n",
    "    @variable(model, μ[1:p] >= 0)\n",
    "\n",
    "    obj_1 = ϵ*sum(s_plus.*λ_plus + s_minus.*λ_minus)\n",
    "    obj_2 = t_α*μ'*(s.*σ_X)\n",
    "    obj_3 = - 0.5 * compute_DZ_square_norm(X'y - compute_u_Z(λ_plus, λ_minus, μ))\n",
    "\n",
    "    @objective(model, Max, obj_1 + obj_2 + obj_3)\n",
    "\n",
    "    optimize!(model)\n",
    "    \n",
    "    return objective_value(model)\n",
    "    \n",
    "end"
   ]
  },
  {
   "cell_type": "code",
   "execution_count": 29,
   "metadata": {},
   "outputs": [
    {
     "name": "stdout",
     "output_type": "stream",
     "text": [
      "[0.596923, 0.0408826, 0.632922, 0.348465, 0.395823]\n",
      "[0.0, 0.0408826, 0.632922, 0.0, 0.395823]\n",
      "[0.596923, 0.0, 0.0, 0.348465, 0.0]\n",
      "-6.97916120715078\n"
     ]
    }
   ],
   "source": [
    "#(e -> get_max_inner(e[1:p], e[p+1:end]))([rand() for e in 1:2p])\n",
    "for i in 1:1\n",
    "    s = [rand() for e in 1:p]\n",
    "    s_plus = [rand([0,1])*e for e in s]\n",
    "    s_minus = s - s_plus\n",
    "    println(s)\n",
    "    println(s_plus)\n",
    "    println(s_minus)\n",
    "    println(get_max_inner(s_plus, s_minus))\n",
    "end"
   ]
  },
  {
   "cell_type": "code",
   "execution_count": null,
   "metadata": {},
   "outputs": [],
   "source": []
  },
  {
   "cell_type": "code",
   "execution_count": 30,
   "metadata": {},
   "outputs": [
    {
     "ename": "UndefVarError",
     "evalue": "UndefVarError: s_plus not defined",
     "output_type": "error",
     "traceback": [
      "UndefVarError: s_plus not defined",
      "",
      "Stacktrace:",
      " [1] top-level scope at In[30]:1"
     ]
    }
   ],
   "source": [
    "grad(central_fdm(5, 1), e -> get_max_inner(e[1:p], e[p+1:end]), convert(Array{Float64, 1},[s_plus; s_minus]))"
   ]
  },
  {
   "cell_type": "code",
   "execution_count": null,
   "metadata": {},
   "outputs": [],
   "source": []
  }
 ],
 "metadata": {
  "kernelspec": {
   "display_name": "Julia 1.0.5",
   "language": "julia",
   "name": "julia-1.0"
  },
  "language_info": {
   "file_extension": ".jl",
   "mimetype": "application/julia",
   "name": "julia",
   "version": "1.0.5"
  }
 },
 "nbformat": 4,
 "nbformat_minor": 4
}
