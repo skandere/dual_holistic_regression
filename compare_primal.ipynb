{
 "cells": [
  {
   "cell_type": "markdown",
   "metadata": {},
   "source": [
    "# A Dual Approach to Holistic Regression"
   ]
  },
  {
   "cell_type": "markdown",
   "metadata": {},
   "source": [
    "## 2021.02.14 — Compare primal"
   ]
  },
  {
   "cell_type": "code",
   "execution_count": 1,
   "metadata": {},
   "outputs": [],
   "source": [
    "using Random, Distributions\n",
    "using LinearAlgebra\n",
    "using Gurobi, JuMP\n",
    "using DataFrames\n",
    "using CSV"
   ]
  },
  {
   "cell_type": "code",
   "execution_count": 2,
   "metadata": {},
   "outputs": [
    {
     "name": "stdout",
     "output_type": "stream",
     "text": [
      "Academic license - for non-commercial use only\n"
     ]
    }
   ],
   "source": [
    "# Create a gurobi model without the annoying academic license message\n",
    "gurobi_env = Gurobi.Env()\n",
    "function create_gurobi_model(; TimeLimit=-1, LogFile=\"logs.txt\")\n",
    "    model = Model(optimizer_with_attributes(() -> Gurobi.Optimizer(gurobi_env)));\n",
    "    if TimeLimit >= 0\n",
    "        println(\"Set Gurobi TimeLimit.\")\n",
    "        set_optimizer_attribute(model, \"TimeLimit\", TimeLimit)\n",
    "    end\n",
    "    set_optimizer_attribute(model, \"LogFile\", LogFile)\n",
    "    set_optimizer_attribute(model, \"OutputFlag\", 0)\n",
    "    return model\n",
    "end;"
   ]
  },
  {
   "cell_type": "markdown",
   "metadata": {},
   "source": [
    "## 1. Data and parameters"
   ]
  },
  {
   "cell_type": "code",
   "execution_count": 131,
   "metadata": {},
   "outputs": [],
   "source": [
    "df_ames= CSV.read(\"data/processed_AmesHousing.csv\");\n",
    "function partitionTrainTest(data, at = 0.7)\n",
    "    n = nrow(data)\n",
    "    idx = shuffle(1:n)\n",
    "    train_idx = view(idx, 1:floor(Int, at*n))\n",
    "    test_idx = view(idx, (floor(Int, at*n)+1):n)\n",
    "    data[train_idx,:], data[test_idx,:]\n",
    "end\n",
    "\n",
    "df_ames_train, df_ames_test = partitionTrainTest(df_ames)\n",
    "df_X_train, df_y_train = select(df_ames_train, Not(:SalePrice)), select(df_ames_train, :SalePrice)\n",
    "df_X_test, df_y_test = select(df_ames_test, Not(:SalePrice)), select(df_ames_test, :SalePrice);\n"
   ]
  },
  {
   "cell_type": "code",
   "execution_count": 132,
   "metadata": {},
   "outputs": [
    {
     "data": {
      "text/plain": [
       "20"
      ]
     },
     "execution_count": 132,
     "metadata": {},
     "output_type": "execute_result"
    }
   ],
   "source": [
    "Random.seed!(2021)\n",
    "\n",
    "# Params\n",
    "ϵ = 10^(-15)\n",
    "n, p = 100, 10\n",
    "\n",
    "# Robustness\n",
    "γ = 1\n",
    "\n",
    "# Significance\n",
    "α = 0.05\n",
    "t_α = 1 - quantile(TDist(n-p), α/2) # Beware: n-p-1 if we add intercept\n",
    "\n",
    "# Data\n",
    "X = rand(n, p)\n",
    "β_true = [rand([0,1])*randn()*10 for i in 1:p]\n",
    "σ_noise = 0.01\n",
    "\n",
    "#y = rand(n)\n",
    "y = X*β_true + [randn() for i in 1:n] * σ_noise\n",
    "\n",
    "# Test\n",
    "X_test = rand(n, p)\n",
    "y_test = X_test*β_true + [randn() for i in 1:n] * σ_noise\n",
    "\n",
    "\n",
    "#True data\n",
    "X, X_test = Matrix(df_X_train), Matrix(df_X_test)\n",
    "y, y_test = collect(Iterators.flatten(Array(df_y_train))), collect(Iterators.flatten(Array(df_y_test)))\n",
    "n,p = size(X)\n",
    "\n",
    "# Variance estimator\n",
    "M = X'X\n",
    "M_inv = M^-1\n",
    "σ_tilde = sqrt((y'*(I - X*M_inv*X')*y)/(n-p))\n",
    "diag_M_inv = [max(x,0) for x in diag(M_inv)]\n",
    "σ_X = σ_tilde * sqrt.(diag_M_inv)\n",
    "\n",
    "# # Sparsity\n",
    "k = 20"
   ]
  },
  {
   "cell_type": "code",
   "execution_count": 133,
   "metadata": {},
   "outputs": [
    {
     "data": {
      "text/plain": [
       "(2.9866745407037683, [250.745, 488.016, 2.87363, 8650.43, 7502.62, 53.1334, 2.23812e8, 2.23789e8, 2.23792e8, 2.23773e8  …  442.648, 22928.8, 79.5051, 65.1419, 133.657, 163.431, 9528.19, 206.59, 60.3368, 2371.63])"
      ]
     },
     "execution_count": 133,
     "metadata": {},
     "output_type": "execute_result"
    }
   ],
   "source": [
    "t_α, σ_X"
   ]
  },
  {
   "cell_type": "markdown",
   "metadata": {},
   "source": [
    "## 1. Primal formulation"
   ]
  },
  {
   "cell_type": "code",
   "execution_count": 134,
   "metadata": {},
   "outputs": [
    {
     "data": {
      "text/plain": [
       "get_primal (generic function with 1 method)"
      ]
     },
     "execution_count": 134,
     "metadata": {},
     "output_type": "execute_result"
    }
   ],
   "source": [
    "function get_primal(γ)\n",
    "    model = create_gurobi_model()\n",
    "\n",
    "    big_M = 10000\n",
    "    big_M_sig = 10000\n",
    "\n",
    "    @variable(model, β[i=1:p])\n",
    "    @variable(model, s[i=1:p], Bin)\n",
    "    @variable(model, b[i=1:p], Bin)\n",
    "\n",
    "    @constraint(model, sum(s) <= k)\n",
    "    @constraint(model, [i=1:p], β[i] <= big_M*s[i])\n",
    "    @constraint(model, [i=1:p], β[i] >= -big_M*s[i])\n",
    "\n",
    "    @constraint(model, [i=1:p], β[i]/σ_X[i] + big_M_sig*b[i] >= t_α*s[i])\n",
    "    @constraint(model, [i=1:p], -β[i]/σ_X[i] + big_M_sig*(1-b[i]) >= t_α*s[i])\n",
    "\n",
    "    @objective(model, Min, 0.5*sum((y[i] - X[i,:]'β)^2 for i=1:p) + 1/(2*γ) * sum(β[i]^2 for i=1:p))\n",
    "#    @objective(model, Min, 0.5*sum((y[i] - X[i,:]'β)^2 for i=1:p))\n",
    "\n",
    "    optimize!(model)\n",
    "    \n",
    "    cat = DataFrame(b = value.(b), β=value.(β), s=value.(s))\n",
    "    \n",
    "    return objective_value(model) - 0.5*sum(y[i]^2 for i=1:p), value.(β), cat\n",
    "end"
   ]
  },
  {
   "cell_type": "code",
   "execution_count": 135,
   "metadata": {},
   "outputs": [
    {
     "data": {
      "text/plain": [
       "get_insample_R2 (generic function with 1 method)"
      ]
     },
     "execution_count": 135,
     "metadata": {},
     "output_type": "execute_result"
    }
   ],
   "source": [
    "function get_insample_R2(y_pred, y_true)\n",
    "    TSE = sum((y_pred[i]-y_true[i])^2 for i=1:p)\n",
    "    baseline_E = sum((sum(y_true)/length(y_true)-y_true[i])^2 for i=1:p)\n",
    "    return 1 - TSE/baseline_E\n",
    "end"
   ]
  },
  {
   "cell_type": "code",
   "execution_count": 136,
   "metadata": {},
   "outputs": [
    {
     "data": {
      "text/plain": [
       "get_OR2 (generic function with 1 method)"
      ]
     },
     "execution_count": 136,
     "metadata": {},
     "output_type": "execute_result"
    }
   ],
   "source": [
    "function get_OR2(y_pred, y_true, y_train)\n",
    "    TSE = sum((y_pred[i]-y_true[i])^2 for i=1:p)\n",
    "    baseline_E = sum((sum(y_train)/length(y_train)-y_true[i])^2 for i=1:p)\n",
    "    return 1 - TSE/baseline_E\n",
    "end"
   ]
  },
  {
   "cell_type": "code",
   "execution_count": null,
   "metadata": {},
   "outputs": [],
   "source": []
  },
  {
   "cell_type": "code",
   "execution_count": null,
   "metadata": {},
   "outputs": [],
   "source": []
  },
  {
   "cell_type": "code",
   "execution_count": null,
   "metadata": {},
   "outputs": [],
   "source": []
  },
  {
   "cell_type": "markdown",
   "metadata": {},
   "source": [
    "## 2. Gradient Descent and Projection"
   ]
  },
  {
   "cell_type": "code",
   "execution_count": null,
   "metadata": {},
   "outputs": [],
   "source": []
  },
  {
   "cell_type": "code",
   "execution_count": null,
   "metadata": {},
   "outputs": [],
   "source": []
  },
  {
   "cell_type": "code",
   "execution_count": 146,
   "metadata": {},
   "outputs": [
    {
     "data": {
      "text/plain": [
       "get_max_inner (generic function with 1 method)"
      ]
     },
     "execution_count": 146,
     "metadata": {},
     "output_type": "execute_result"
    }
   ],
   "source": [
    "function get_max_inner(s_plus, s_minus, γ)\n",
    "    \n",
    "    # Get s\n",
    "    s = s_plus + s_minus\n",
    "    \n",
    "    # Compute matrices\n",
    "    Z = Diagonal(s)\n",
    "    Z_plus = Diagonal(s_plus)\n",
    "    Z_minus = Diagonal(s_minus)\n",
    "    \n",
    "    # Compute D\n",
    "    D = (I/γ + Z*M)^-1\n",
    "    \n",
    "    # Compute u_Z\n",
    "    function compute_u_Z(λ_plus, λ_minus, μ)\n",
    "        Z_minus*(λ_minus + μ) - Z_plus*(λ_plus + μ)\n",
    "    end\n",
    "\n",
    "    # Compute norm\n",
    "    function compute_DZ_square_norm(in_norm)\n",
    "        return in_norm' * D*Z * in_norm\n",
    "    end\n",
    "    \n",
    "    # Compute max\n",
    "    model = create_gurobi_model()\n",
    "\n",
    "    @variable(model, λ_plus[1:p] >= 0)\n",
    "    @variable(model, λ_minus[1:p] >= 0)\n",
    "    @variable(model, μ[1:p] >= 0)\n",
    "\n",
    "    u_Z = compute_u_Z(λ_plus, λ_minus, μ)\n",
    "    \n",
    "    obj_1 = ϵ*sum(s_plus.*λ_plus + s_minus.*λ_minus)\n",
    "    obj_2 = t_α*μ'*(s.*σ_X)\n",
    "    obj_3 = - 0.5 * compute_DZ_square_norm(X'y - u_Z)\n",
    "\n",
    "    @objective(model, Max, obj_1 + obj_2 + obj_3)\n",
    "\n",
    "    optimize!(model)\n",
    "    println(termination_status(model))\n",
    "    # Compute β\n",
    "    u_Z = compute_u_Z(value.(λ_plus), value.(λ_minus), value.(μ))\n",
    "    sparsity_indexes = findall(x->x==1, s)\n",
    "\n",
    "    X_s = X[:, sparsity_indexes]\n",
    "    u_Z_s = u_Z[sparsity_indexes]\n",
    "    \n",
    "    β_s = ((I / γ) + X_s'X_s)^(-1)*(X_s'y - u_Z_s)\n",
    "    \n",
    "    β_pred = zeros(p)\n",
    "    β_pred[sparsity_indexes] = β_s\n",
    "    \n",
    "    return β_pred, objective_value(model)\n",
    "    \n",
    "end"
   ]
  },
  {
   "cell_type": "code",
   "execution_count": 138,
   "metadata": {},
   "outputs": [
    {
     "data": {
      "text/plain": [
       "compute_gradient (generic function with 1 method)"
      ]
     },
     "execution_count": 138,
     "metadata": {},
     "output_type": "execute_result"
    }
   ],
   "source": [
    "function compute_gradient(s, γ)\n",
    "\n",
    "    ∇f = []\n",
    "    β_pred, max_obj_value = get_max_inner(s[1:p], s[p+1:end], γ)\n",
    "    \n",
    "    for i in 1:2p\n",
    "        h = 10^-10\n",
    "        s_bis = [s[j] - h*(i == j) for j=1:2p]\n",
    "        ∂f_i = (max_obj_value - get_max_inner(s_bis[1:p], s_bis[p+1:end], γ)[2]) / h\n",
    "        push!(∇f, ∂f_i)\n",
    "    end\n",
    "    \n",
    "    return β_pred, max_obj_value, ∇f\n",
    "end"
   ]
  },
  {
   "cell_type": "code",
   "execution_count": 139,
   "metadata": {},
   "outputs": [
    {
     "data": {
      "text/plain": [
       "step_gradient_descent (generic function with 1 method)"
      ]
     },
     "execution_count": 139,
     "metadata": {},
     "output_type": "execute_result"
    }
   ],
   "source": [
    "function step_gradient_descent(s, α, γ)\n",
    "    β_pred, max_obj_value, ∇f = compute_gradient(s, γ)\n",
    "    return β_pred, max_obj_value, s - α * (∇f / sqrt(sum(e^2 for e in ∇f)))\n",
    "end"
   ]
  },
  {
   "cell_type": "code",
   "execution_count": 140,
   "metadata": {},
   "outputs": [
    {
     "data": {
      "text/plain": [
       "step_gradient_descent_and_projection (generic function with 1 method)"
      ]
     },
     "execution_count": 140,
     "metadata": {},
     "output_type": "execute_result"
    }
   ],
   "source": [
    "function step_gradient_descent_and_projection(s, α, γ)\n",
    "\n",
    "    # Gradient Descent step\n",
    "    β_pred, max_obj_value, s_gd = step_gradient_descent(s, α, γ)\n",
    "\n",
    "    # Projection\n",
    "    model = create_gurobi_model()\n",
    "    @variable(model, s_proj[1:2p], Bin)\n",
    "    for i in 1:p\n",
    "        @constraint(model, s_proj[[i,p+i]] in MOI.SOS1([i,p+i]))\n",
    "    end\n",
    "    @constraint(model, sum(s_proj) <= k) # Sparsity\n",
    "    @objective(model, Min, sum((s_proj[i] - s_gd[i])^2 for i in 1:2p))\n",
    "    optimize!(model)\n",
    "    \n",
    "    return max_obj_value, β_pred, value.(s_proj)\n",
    "    \n",
    "end"
   ]
  },
  {
   "cell_type": "code",
   "execution_count": 141,
   "metadata": {
    "jupyter": {
     "source_hidden": true
    }
   },
   "outputs": [
    {
     "data": {
      "text/plain": [
       "step_gradient_descent_and_projection_relaxed (generic function with 1 method)"
      ]
     },
     "execution_count": 141,
     "metadata": {},
     "output_type": "execute_result"
    }
   ],
   "source": [
    "function step_gradient_descent_and_projection_relaxed(s, α)\n",
    "\n",
    "    # Gradient Descent step\n",
    "    β_pred, max_obj_value, s_gd = step_gradient_descent(s, α)\n",
    "\n",
    "    # Projection\n",
    "    model = create_gurobi_model()\n",
    "    @variable(model, 0 <= s_proj[1:2p] <= 1)\n",
    "    @variable(model, b[1:2p], Bin)   \n",
    "    @constraint(model, [i=1:2p], s_proj[i] <= b[i])\n",
    "    @constraint(model, [i=1:2p], s_proj[i] >= ϵ*b[i])\n",
    "    for i in 1:p\n",
    "        @constraint(model, b[[i,p+i]] in MOI.SOS1([i,p+i]))\n",
    "    end\n",
    "    @constraint(model, sum(b) <= k) # Sparsity\n",
    "    @objective(model, Min, sum((s_proj[i] - s_gd[i])^2 for i in 1:2p))\n",
    "    optimize!(model)\n",
    "    \n",
    "    return max_obj_value, β_pred, value.(s_proj)\n",
    "    \n",
    "end"
   ]
  },
  {
   "cell_type": "markdown",
   "metadata": {},
   "source": [
    "### 4. Get initial feasible solution"
   ]
  },
  {
   "cell_type": "code",
   "execution_count": 142,
   "metadata": {},
   "outputs": [
    {
     "data": {
      "text/plain": [
       "get_initial_solution (generic function with 1 method)"
      ]
     },
     "execution_count": 142,
     "metadata": {},
     "output_type": "execute_result"
    }
   ],
   "source": [
    "function get_initial_solution()\n",
    "        \n",
    "    s_plus = zeros(p)\n",
    "    s_minus = zeros(p)\n",
    "\n",
    "    indexes_plus = sample(1:p, div(k,2), replace = false)\n",
    "    indexes_minus = sample([i for i=1:p if !(i in indexes_plus)], k - div(k,2), replace = false)\n",
    "\n",
    "    s_plus[indexes_plus] .= 1\n",
    "    s_minus[indexes_minus] .= 1;\n",
    "    \n",
    "    return [s_plus; s_minus]\n",
    "end"
   ]
  },
  {
   "cell_type": "code",
   "execution_count": 143,
   "metadata": {},
   "outputs": [
    {
     "data": {
      "text/plain": [
       "find_solution_gd_and_proj (generic function with 1 method)"
      ]
     },
     "execution_count": 143,
     "metadata": {},
     "output_type": "execute_result"
    }
   ],
   "source": [
    "function find_solution_gd_and_proj(s_init, α, γ)\n",
    "    last_s = nothing\n",
    "    new_s = s_init\n",
    "    iter = 0\n",
    "\n",
    "    while(last_s == nothing || new_s != last_s)\n",
    "        iter += 1\n",
    "        last_s = new_s\n",
    "        max_obj_value, β_pred, new_s = step_gradient_descent_and_projection(last_s, α, γ)\n",
    "\n",
    "        if iter > 100\n",
    "            break\n",
    "        end\n",
    "    end\n",
    "    \n",
    "    max_obj, β_pred, _ = step_gradient_descent_and_projection(new_s, α, γ);\n",
    "    \n",
    "    return max_obj, β_pred\n",
    "end"
   ]
  },
  {
   "cell_type": "code",
   "execution_count": 15,
   "metadata": {},
   "outputs": [
    {
     "name": "stdout",
     "output_type": "stream",
     "text": [
      "0.001 -3403.832361220223\n",
      "\tIn Sample: -1.943599176464573\n",
      "\tOut of Sample: -2.4377176212331766\n",
      "0.1 -26333.47811364426\n",
      "\tIn Sample: 0.8883344871772328\n",
      "\tOut of Sample: 0.9602961785164368\n",
      "0.2 -27837.763125329286\n",
      "\tIn Sample: 0.9449995084655168\n",
      "\tOut of Sample: 0.9799466292041947\n",
      "0.5 -28928.0678021872\n",
      "\tIn Sample: 0.9811033240800748\n",
      "\tOut of Sample: 0.9900271720282361\n",
      "1.0 -29328.013650886005\n",
      "\tIn Sample: 0.9936709440252268\n",
      "\tOut of Sample: 0.9912453845474403\n",
      "100.0 -29814.979438749462\n",
      "\tIn Sample: 0.9964385606800855\n",
      "\tOut of Sample: 0.9965969000913101\n"
     ]
    }
   ],
   "source": [
    "for γ in [0.001, 0.1, 0.2, 0.5, 1, 100]\n",
    "    best_max_obj = Inf\n",
    "    best_β_pred = nothing\n",
    "    for i in 1:100\n",
    "        s_init = get_initial_solution()\n",
    "        max_obj, β_pred = find_solution_gd_and_proj(s_init, p, γ)\n",
    "        if max_obj < best_max_obj\n",
    "            best_β_pred = β_pred\n",
    "            best_max_obj = max_obj\n",
    "        end\n",
    "#        println(max_obj)\n",
    "    end\n",
    "    println(γ, \" \", best_max_obj)\n",
    "    println(\"\\tIn Sample: \", get_insample_R2(X*best_β_pred, y))\n",
    "    println(\"\\tOut of Sample: \", get_OR2(X_test*best_β_pred, y_test, y))\n",
    "    #println(abs.(best_β_pred) ./ σ_X .>= t_α*(best_β_pred .!= 0))\n",
    "    #println(best_β_pred)\n",
    "end    \n",
    "#hcat(best_β_pred, β_true)"
   ]
  },
  {
   "cell_type": "code",
   "execution_count": 147,
   "metadata": {},
   "outputs": [
    {
     "name": "stdout",
     "output_type": "stream",
     "text": [
      "NUMERICAL_ERROR\n"
     ]
    },
    {
     "ename": "MathOptInterface.ResultIndexBoundsError{MathOptInterface.VariablePrimal}",
     "evalue": "Result index of attribute MathOptInterface.VariablePrimal(1) out of bounds. There are currently 0 solution(s) in the model.",
     "output_type": "error",
     "traceback": [
      "Result index of attribute MathOptInterface.VariablePrimal(1) out of bounds. There are currently 0 solution(s) in the model.",
      "",
      "Stacktrace:",
      " [1] check_result_index_bounds at /home/skand/.julia/packages/MathOptInterface/ZJFKw/src/attributes.jl:133 [inlined]",
      " [2] get(::Gurobi.Optimizer, ::MathOptInterface.VariablePrimal, ::MathOptInterface.VariableIndex) at /home/skand/.julia/packages/Gurobi/7YNJV/src/MOI_wrapper.jl:2050",
      " [3] get(::MathOptInterface.Bridges.LazyBridgeOptimizer{Gurobi.Optimizer}, ::MathOptInterface.VariablePrimal, ::MathOptInterface.VariableIndex) at /home/skand/.julia/packages/MathOptInterface/ZJFKw/src/Bridges/bridge_optimizer.jl:808",
      " [4] get(::MathOptInterface.Utilities.CachingOptimizer{MathOptInterface.AbstractOptimizer,MathOptInterface.Utilities.UniversalFallback{MathOptInterface.Utilities.Model{Float64}}}, ::MathOptInterface.VariablePrimal, ::MathOptInterface.VariableIndex) at /home/skand/.julia/packages/MathOptInterface/ZJFKw/src/Utilities/cachingoptimizer.jl:605",
      " [5] _moi_get_result(::MathOptInterface.Utilities.CachingOptimizer{MathOptInterface.AbstractOptimizer,MathOptInterface.Utilities.UniversalFallback{MathOptInterface.Utilities.Model{Float64}}}, ::MathOptInterface.VariablePrimal, ::Vararg{Any,N} where N) at /home/skand/.julia/packages/JuMP/e0Uc2/src/JuMP.jl:848",
      " [6] get(::Model, ::MathOptInterface.VariablePrimal, ::VariableRef) at /home/skand/.julia/packages/JuMP/e0Uc2/src/JuMP.jl:878",
      " [7] #value#30(::Int64, ::Function, ::VariableRef) at /home/skand/.julia/packages/JuMP/e0Uc2/src/variables.jl:767",
      " [8] value at /home/skand/.julia/packages/JuMP/e0Uc2/src/variables.jl:767 [inlined]",
      " [9] _broadcast_getindex_evalf at ./broadcast.jl:582 [inlined]",
      " [10] _broadcast_getindex at ./broadcast.jl:555 [inlined]",
      " [11] getindex at ./broadcast.jl:515 [inlined]",
      " [12] macro expansion at ./broadcast.jl:846 [inlined]",
      " [13] macro expansion at ./simdloop.jl:73 [inlined]",
      " [14] copyto! at ./broadcast.jl:845 [inlined]",
      " [15] copyto! at ./broadcast.jl:800 [inlined]",
      " [16] copy at ./broadcast.jl:776 [inlined]",
      " [17] materialize(::Base.Broadcast.Broadcasted{Base.Broadcast.DefaultArrayStyle{1},Nothing,typeof(value),Tuple{Array{VariableRef,1}}}) at ./broadcast.jl:756",
      " [18] get_max_inner(::Array{Float64,1}, ::Array{Float64,1}, ::Int64) at ./In[146]:42",
      " [19] compute_gradient(::Array{Float64,1}, ::Int64) at ./In[138]:4",
      " [20] step_gradient_descent(::Array{Float64,1}, ::Int64, ::Int64) at ./In[139]:2",
      " [21] step_gradient_descent_and_projection(::Array{Float64,1}, ::Int64, ::Int64) at ./In[140]:4",
      " [22] find_solution_gd_and_proj(::Array{Float64,1}, ::Int64, ::Int64) at ./In[143]:9",
      " [23] top-level scope at ./In[147]:5"
     ]
    }
   ],
   "source": [
    "best_max_obj = Inf\n",
    "best_β_pred = nothing\n",
    "for i in 1:100\n",
    "    s_init = get_initial_solution()\n",
    "    max_obj, β_pred = find_solution_gd_and_proj(s_init, p, γ)\n",
    "    if max_obj < best_max_obj\n",
    "        best_β_pred = β_pred\n",
    "        best_max_obj = max_obj\n",
    "    end\n",
    "       println(max_obj)\n",
    "end\n",
    "println(γ, \" \", best_max_obj)\n",
    "println(\"\\tIn Sample: \", get_insample_R2(X*best_β_pred, y))\n",
    "println(\"\\tOut of Sample: \", get_OR2(X_test*best_β_pred, y_test, y))"
   ]
  },
  {
   "cell_type": "code",
   "execution_count": 16,
   "metadata": {},
   "outputs": [
    {
     "name": "stdout",
     "output_type": "stream",
     "text": [
      "0.001 -22.42341978590639\n",
      "\tIn Sample: -2.97338909755844\n",
      "\tOut of Sample: -3.3373704442122545\n",
      "0.1 -879.3644124293119\n",
      "\tIn Sample: 0.10515172305187137\n",
      "\tOut of Sample: -0.45744837638107616\n",
      "0.2 -1103.3757343230707\n",
      "\tIn Sample: 0.5534921895338294\n",
      "\tOut of Sample: 0.03618051383474763\n",
      "0.5 -1312.4589715232898\n",
      "\tIn Sample: 0.8255839322427999\n",
      "\tOut of Sample: 0.2559230040976146\n",
      "1.0 -1411.6904365352045\n",
      "\tIn Sample: 0.8900796706175342\n",
      "\tOut of Sample: 0.388740862659238\n",
      "100.0 -1557.6238097154828\n",
      "\tIn Sample: 0.9984224907908025\n",
      "\tOut of Sample: 0.9730829766876241\n"
     ]
    },
    {
     "data": {
      "text/html": [
       "<table class=\"data-frame\"><thead><tr><th></th><th>b</th><th>β</th><th>s</th></tr><tr><th></th><th>Float64</th><th>Float64</th><th>Float64</th></tr></thead><tbody><p>10 rows × 3 columns</p><tr><th>1</th><td>1.0</td><td>-6.4802</td><td>1.0</td></tr><tr><th>2</th><td>1.0</td><td>0.0</td><td>0.0</td></tr><tr><th>3</th><td>1.0</td><td>-7.10543e-15</td><td>0.0</td></tr><tr><th>4</th><td>1.0</td><td>-6.23201</td><td>1.0</td></tr><tr><th>5</th><td>1.0</td><td>-6.23852</td><td>1.0</td></tr><tr><th>6</th><td>1.0</td><td>0.0</td><td>0.0</td></tr><tr><th>7</th><td>1.0</td><td>-6.49663</td><td>1.0</td></tr><tr><th>8</th><td>-0.0</td><td>0.0</td><td>-0.0</td></tr><tr><th>9</th><td>1.0</td><td>-7.3912</td><td>1.0</td></tr><tr><th>10</th><td>-0.0</td><td>0.0</td><td>0.0</td></tr></tbody></table>"
      ],
      "text/latex": [
       "\\begin{tabular}{r|ccc}\n",
       "\t& b & β & s\\\\\n",
       "\t\\hline\n",
       "\t& Float64 & Float64 & Float64\\\\\n",
       "\t\\hline\n",
       "\t1 & 1.0 & -6.4802 & 1.0 \\\\\n",
       "\t2 & 1.0 & 0.0 & 0.0 \\\\\n",
       "\t3 & 1.0 & -7.10543e-15 & 0.0 \\\\\n",
       "\t4 & 1.0 & -6.23201 & 1.0 \\\\\n",
       "\t5 & 1.0 & -6.23852 & 1.0 \\\\\n",
       "\t6 & 1.0 & 0.0 & 0.0 \\\\\n",
       "\t7 & 1.0 & -6.49663 & 1.0 \\\\\n",
       "\t8 & -0.0 & 0.0 & -0.0 \\\\\n",
       "\t9 & 1.0 & -7.3912 & 1.0 \\\\\n",
       "\t10 & -0.0 & 0.0 & 0.0 \\\\\n",
       "\\end{tabular}\n"
      ],
      "text/plain": [
       "10×3 DataFrame\n",
       "│ Row │ b       │ β            │ s       │\n",
       "│     │ \u001b[90mFloat64\u001b[39m │ \u001b[90mFloat64\u001b[39m      │ \u001b[90mFloat64\u001b[39m │\n",
       "├─────┼─────────┼──────────────┼─────────┤\n",
       "│ 1   │ 1.0     │ -6.4802      │ 1.0     │\n",
       "│ 2   │ 1.0     │ 0.0          │ 0.0     │\n",
       "│ 3   │ 1.0     │ -7.10543e-15 │ 0.0     │\n",
       "│ 4   │ 1.0     │ -6.23201     │ 1.0     │\n",
       "│ 5   │ 1.0     │ -6.23852     │ 1.0     │\n",
       "│ 6   │ 1.0     │ 0.0          │ 0.0     │\n",
       "│ 7   │ 1.0     │ -6.49663     │ 1.0     │\n",
       "│ 8   │ -0.0    │ 0.0          │ -0.0    │\n",
       "│ 9   │ 1.0     │ -7.3912      │ 1.0     │\n",
       "│ 10  │ -0.0    │ 0.0          │ 0.0     │"
      ]
     },
     "execution_count": 16,
     "metadata": {},
     "output_type": "execute_result"
    }
   ],
   "source": [
    "for γ in [0.001, 0.1, 0.2, 0.5, 1, 100]\n",
    "    obj_value, β_pred_primal, a = get_primal(γ)\n",
    "    println(γ, \" \", obj_value)\n",
    "    println(\"\\tIn Sample: \", get_insample_R2(X*β_pred_primal, y))\n",
    "    println(\"\\tOut of Sample: \", get_OR2(X_test*β_pred_primal, y_test, y))\n",
    "end\n",
    "obj_value, β_pred_primal, a = get_primal(γ)\n",
    "a"
   ]
  },
  {
   "cell_type": "code",
   "execution_count": 145,
   "metadata": {},
   "outputs": [
    {
     "name": "stdout",
     "output_type": "stream",
     "text": [
      "1 -4.928166016595658e11\n",
      "\tIn Sample: 0.6037700992135632\n",
      "\tOut of Sample: 0.33070248239245525\n"
     ]
    }
   ],
   "source": [
    "obj_value, β_pred_primal, a = get_primal(γ)\n",
    "println(γ, \" \", obj_value)\n",
    "println(\"\\tIn Sample: \", get_insample_R2(X*β_pred_primal, y))\n",
    "println(\"\\tOut of Sample: \", get_OR2(X_test*β_pred_primal, y_test, y))"
   ]
  },
  {
   "cell_type": "code",
   "execution_count": 17,
   "metadata": {},
   "outputs": [
    {
     "name": "stdout",
     "output_type": "stream",
     "text": [
      "γ=1\n",
      "\tR2 primal: 0.8900796706175342\n",
      "\tOR2 primal: 0.388740862659238\n",
      "\n",
      "\tR2 dual: 0.9598301818231438\n",
      "\tOR2 dual: 0.9345107211441972\n"
     ]
    }
   ],
   "source": [
    "# WITH S+, S- from PRIMAL\n",
    "γ = 1\n",
    "obj_value, β_pred_primal, df = get_primal(γ);\n",
    "s_plus = df.s .* (df.β .>= ϵ)\n",
    "s_minus = df.s .* (df.β .<= -ϵ)\n",
    "β_pred_dual, obj_dual = get_max_inner(s_plus, s_minus, γ)\n",
    "println(\"γ=\", γ)\n",
    "println(\"\\tR2 primal: \", get_insample_R2(X*β_pred_primal, y))\n",
    "println(\"\\tOR2 primal: \", get_OR2(X_test*β_pred_primal, y_test, y))\n",
    "println(\"\\n\\tR2 dual: \", get_insample_R2(X*β_pred_dual, y))\n",
    "println(\"\\tOR2 dual: \", get_OR2(X_test*β_pred_dual, y_test, y))"
   ]
  },
  {
   "cell_type": "code",
   "execution_count": 106,
   "metadata": {},
   "outputs": [
    {
     "data": {
      "text/html": [
       "<table class=\"data-frame\"><thead><tr><th></th><th>b</th><th>β</th><th>s</th></tr><tr><th></th><th>Float64</th><th>Float64</th><th>Float64</th></tr></thead><tbody><p>10 rows × 3 columns</p><tr><th>1</th><td>1.0</td><td>-6.4802</td><td>1.0</td></tr><tr><th>2</th><td>0.0</td><td>0.0</td><td>0.0</td></tr><tr><th>3</th><td>1.0</td><td>0.0</td><td>0.0</td></tr><tr><th>4</th><td>1.0</td><td>-6.23201</td><td>1.0</td></tr><tr><th>5</th><td>1.0</td><td>-6.23852</td><td>1.0</td></tr><tr><th>6</th><td>0.0</td><td>0.0</td><td>0.0</td></tr><tr><th>7</th><td>1.0</td><td>-6.49663</td><td>1.0</td></tr><tr><th>8</th><td>1.0</td><td>0.0</td><td>0.0</td></tr><tr><th>9</th><td>1.0</td><td>-7.3912</td><td>1.0</td></tr><tr><th>10</th><td>0.0</td><td>0.0</td><td>0.0</td></tr></tbody></table>"
      ],
      "text/latex": [
       "\\begin{tabular}{r|ccc}\n",
       "\t& b & β & s\\\\\n",
       "\t\\hline\n",
       "\t& Float64 & Float64 & Float64\\\\\n",
       "\t\\hline\n",
       "\t1 & 1.0 & -6.4802 & 1.0 \\\\\n",
       "\t2 & 0.0 & 0.0 & 0.0 \\\\\n",
       "\t3 & 1.0 & 0.0 & 0.0 \\\\\n",
       "\t4 & 1.0 & -6.23201 & 1.0 \\\\\n",
       "\t5 & 1.0 & -6.23852 & 1.0 \\\\\n",
       "\t6 & 0.0 & 0.0 & 0.0 \\\\\n",
       "\t7 & 1.0 & -6.49663 & 1.0 \\\\\n",
       "\t8 & 1.0 & 0.0 & 0.0 \\\\\n",
       "\t9 & 1.0 & -7.3912 & 1.0 \\\\\n",
       "\t10 & 0.0 & 0.0 & 0.0 \\\\\n",
       "\\end{tabular}\n"
      ],
      "text/plain": [
       "10×3 DataFrame\n",
       "│ Row │ b       │ β        │ s       │\n",
       "│     │ \u001b[90mFloat64\u001b[39m │ \u001b[90mFloat64\u001b[39m  │ \u001b[90mFloat64\u001b[39m │\n",
       "├─────┼─────────┼──────────┼─────────┤\n",
       "│ 1   │ 1.0     │ -6.4802  │ 1.0     │\n",
       "│ 2   │ 0.0     │ 0.0      │ 0.0     │\n",
       "│ 3   │ 1.0     │ 0.0      │ 0.0     │\n",
       "│ 4   │ 1.0     │ -6.23201 │ 1.0     │\n",
       "│ 5   │ 1.0     │ -6.23852 │ 1.0     │\n",
       "│ 6   │ 0.0     │ 0.0      │ 0.0     │\n",
       "│ 7   │ 1.0     │ -6.49663 │ 1.0     │\n",
       "│ 8   │ 1.0     │ 0.0      │ 0.0     │\n",
       "│ 9   │ 1.0     │ -7.3912  │ 1.0     │\n",
       "│ 10  │ 0.0     │ 0.0      │ 0.0     │"
      ]
     },
     "execution_count": 106,
     "metadata": {},
     "output_type": "execute_result"
    }
   ],
   "source": [
    "df"
   ]
  },
  {
   "cell_type": "code",
   "execution_count": 43,
   "metadata": {},
   "outputs": [],
   "source": []
  },
  {
   "cell_type": "code",
   "execution_count": 46,
   "metadata": {
    "scrolled": true
   },
   "outputs": [
    {
     "data": {
      "text/plain": [
       "([132000; 145000; … ; 146000; 185000], [245000; 129500; … ; 86000; 279500])"
      ]
     },
     "execution_count": 46,
     "metadata": {},
     "output_type": "execute_result"
    }
   ],
   "source": [
    "df_ames= CSV.read(\"data/processed_AmesHousing.csv\");\n",
    "function partitionTrainTest(data, at = 0.7)\n",
    "    n = nrow(data)\n",
    "    idx = shuffle(1:n)\n",
    "    train_idx = view(idx, 1:floor(Int, at*n))\n",
    "    test_idx = view(idx, (floor(Int, at*n)+1):n)\n",
    "    data[train_idx,:], data[test_idx,:]\n",
    "end\n",
    "\n",
    "df_ames_train, df_ames_test = partitionTrainTest(df_ames)\n",
    "df_X_train, df_y_train = select(df_ames_train, Not(:SalePrice)), select(df_ames_train, :SalePrice)\n",
    "df_X_test, df_y_test = select(df_ames_test, Not(:SalePrice)), select(df_ames_test, :SalePrice)\n",
    "X, X_test = Matrix(df_X_train), Matrix(df_X_test)\n",
    "y, y_test = Matrix(df_y_train), Matrix(df_y_test)"
   ]
  },
  {
   "cell_type": "code",
   "execution_count": null,
   "metadata": {},
   "outputs": [],
   "source": []
  },
  {
   "cell_type": "code",
   "execution_count": null,
   "metadata": {},
   "outputs": [],
   "source": []
  }
 ],
 "metadata": {
  "kernelspec": {
   "display_name": "Julia 1.0.5",
   "language": "julia",
   "name": "julia-1.0"
  },
  "language_info": {
   "file_extension": ".jl",
   "mimetype": "application/julia",
   "name": "julia",
   "version": "1.0.5"
  },
  "toc": {
   "base_numbering": 1,
   "nav_menu": {},
   "number_sections": true,
   "sideBar": true,
   "skip_h1_title": false,
   "title_cell": "Table of Contents",
   "title_sidebar": "Contents",
   "toc_cell": false,
   "toc_position": {},
   "toc_section_display": true,
   "toc_window_display": false
  }
 },
 "nbformat": 4,
 "nbformat_minor": 4
}
